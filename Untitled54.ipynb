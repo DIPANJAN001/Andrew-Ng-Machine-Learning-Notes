{
  "nbformat": 4,
  "nbformat_minor": 0,
  "metadata": {
    "colab": {
      "provenance": [],
      "authorship_tag": "ABX9TyMu5Y6kUR0IJEeLOQiIGH0o",
      "include_colab_link": true
    },
    "kernelspec": {
      "name": "python3",
      "display_name": "Python 3"
    },
    "language_info": {
      "name": "python"
    }
  },
  "cells": [
    {
      "cell_type": "markdown",
      "metadata": {
        "id": "view-in-github",
        "colab_type": "text"
      },
      "source": [
        "<a href=\"https://colab.research.google.com/github/DIPANJAN001/Andrew-Ng-Machine-Learning-Notes/blob/master/Untitled54.ipynb\" target=\"_parent\"><img src=\"https://colab.research.google.com/assets/colab-badge.svg\" alt=\"Open In Colab\"/></a>"
      ]
    },
    {
      "cell_type": "code",
      "execution_count": null,
      "metadata": {
        "id": "ij6Dn-dvndI_"
      },
      "outputs": [],
      "source": [
        " import numpy as np\n",
        "from gurobipy import *\n",
        "import random\n",
        "\n",
        "\n",
        "accuracy_levels = [0.8, 0.85, 0.9, 0.95, 0.99]\n",
        "\n",
        "\n",
        "energy_waste_results = {}\n",
        "\n",
        "\n",
        "demand = np.random.uniform(low=0.1, high=0.2, size=(10,))\n",
        "solar_generation = min(round(random.uniform(1, 1.5), 2), np.sum(demand))\n",
        "\n",
        "\n",
        "for accuracy in accuracy_levels:\n",
        "\n",
        "    predicted_solar_energy = accuracy * solar_generation\n",
        "\n",
        "\n",
        "    m = Model()\n",
        "    x = m.addVars(10, name=\"x\")\n",
        "    m.setObjective(quicksum((x[i] - demand[i]) ** 2 for i in range(10)), GRB.MINIMIZE)\n",
        "    m.addConstr(quicksum(x[i] for i in range(10)) == predicted_solar_energy)\n",
        "    m.addConstrs(x[i] <= demand[i] for i in range(10))\n",
        "    m.optimize()\n",
        "\n",
        "\n",
        "    energy_waste = m.objVal\n",
        "\n",
        "\n",
        "    energy_waste_results[accuracy] = energy_waste\n",
        "\n",
        "\n",
        "for accuracy, energy_waste in energy_waste_results.items():\n",
        "    print(\"Accuracy Level:\", accuracy)\n",
        "    print(\"Energy Waste:\", energy_waste)\n",
        "    print()"
      ]
    }
  ]
}