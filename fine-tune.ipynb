{
  "nbformat": 4,
  "nbformat_minor": 0,
  "metadata": {
    "colab": {
      "provenance": [],
      "authorship_tag": "ABX9TyOe3+Vnms5UArOBNOyLXfjO",
      "include_colab_link": true
    },
    "kernelspec": {
      "name": "python3",
      "display_name": "Python 3"
    },
    "language_info": {
      "name": "python"
    }
  },
  "cells": [
    {
      "cell_type": "markdown",
      "metadata": {
        "id": "view-in-github",
        "colab_type": "text"
      },
      "source": [
        "<a href=\"https://colab.research.google.com/github/DIPANJAN001/Andrew-Ng-Machine-Learning-Notes/blob/master/fine-tune.ipynb\" target=\"_parent\"><img src=\"https://colab.research.google.com/assets/colab-badge.svg\" alt=\"Open In Colab\"/></a>"
      ]
    },
    {
      "cell_type": "code",
      "execution_count": null,
      "metadata": {
        "id": "3ilQsaMKwDfi"
      },
      "outputs": [],
      "source": [
        "\n",
        "from kerastuner.tuners import RandomSearch\n",
        "from kerastuner.engine.hyperparameters import HyperParameters\n",
        "from sklearn.utils.class_weight import compute_class_weight\n",
        "\n",
        "# Calculate class weights\n",
        "class_weights = compute_class_weight('balanced', classes=np.unique(y_train), y=y_train)\n",
        "class_weight_dict = dict(enumerate(class_weights))\n",
        "\n",
        "# Define the hyperparameter search space\n",
        "def build_model(hp):\n",
        "    text_input = Input(shape=(max_text_sequence_length,))\n",
        "    text_embedding_layer = Embedding(input_dim=max_text_words, output_dim=64)(text_input)\n",
        "    text_lstm = LSTM(64)(text_embedding_layer)\n",
        "\n",
        "    categorical_input = Input(shape=(X_categorical_train.shape[1],))\n",
        "    categorical_embedding_layer = Embedding(input_dim=np.max(X_categorical_train) + 1, output_dim=32)(categorical_input)\n",
        "    categorical_flatten = Flatten()(categorical_embedding_layer)\n",
        "\n",
        "    merged = Concatenate()([text_lstm, categorical_flatten])\n",
        "\n",
        "    dense_layer = Dense(hp.Int('dense_units', min_value=32, max_value=256, step=32), activation='relu')(merged)\n",
        "    output_layer = Dense(1, activation='sigmoid')(dense_layer)\n",
        "\n",
        "    model = Model(inputs=[text_input, categorical_input], outputs=output_layer)\n",
        "    model.compile(loss='binary_crossentropy', optimizer=Adam(learning_rate=hp.Choice('learning_rate', values=[1e-2, 1e-3, 1e-4])), metrics=['accuracy'])\n",
        "\n",
        "    return model\n",
        "\n",
        "tuner = RandomSearch(\n",
        "   build_model,\n",
        "   objective='val_accuracy',\n",
        "   max_trials=10,\n",
        "   executions_per_trial=1,\n",
        "   directory='my_tuner_directory',\n",
        "   project_name='siamese_claim_severity'\n",
        ")\n",
        "\n",
        "# Perform the hyperparameter search, passing class_weight_dict to model.fit\n",
        "tuner.search(\n",
        "   [X_text_train, X_categorical_train],\n",
        "   y_train,\n",
        "   validation_data=([X_text_test, X_categorical_test], y_test),\n",
        "   epochs=10,\n",
        "   class_weight=class_weight_dict  # Include class weights here\n",
        ")\n",
        "\n",
        "# Get the best hyperparameters\n",
        "best_hps = tuner.get_best_hyperparameters(num_trials=1)[0]\n",
        "\n",
        "# Build and train the final model with the best hyperparameters\n",
        "best_model = build_model(best_hps)\n",
        "best_model.fit(\n",
        "   [X_text_train, X_categorical_train],\n",
        "   y_train,\n",
        "   batch_size=32,\n",
        "   epochs=10,\n",
        "   validation_split=0.1,\n",
        "   class_weight=class_weight_dict  # Include class weights here as well\n",
        ")"
      ]
    },
    {
      "cell_type": "code",
      "source": [],
      "metadata": {
        "id": "ip7DjSeewLCb"
      },
      "execution_count": null,
      "outputs": []
    },
    {
      "cell_type": "code",
      "source": [],
      "metadata": {
        "id": "G0P9SMgRwJpZ"
      },
      "execution_count": null,
      "outputs": []
    }
  ]
}