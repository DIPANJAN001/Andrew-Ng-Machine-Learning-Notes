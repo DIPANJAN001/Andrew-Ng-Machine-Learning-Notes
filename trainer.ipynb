{
  "nbformat": 4,
  "nbformat_minor": 0,
  "metadata": {
    "colab": {
      "provenance": [],
      "authorship_tag": "ABX9TyNVT6MZiDlK0uV/YjVW8e+f",
      "include_colab_link": true
    },
    "kernelspec": {
      "name": "python3",
      "display_name": "Python 3"
    },
    "language_info": {
      "name": "python"
    }
  },
  "cells": [
    {
      "cell_type": "markdown",
      "metadata": {
        "id": "view-in-github",
        "colab_type": "text"
      },
      "source": [
        "<a href=\"https://colab.research.google.com/github/DIPANJAN001/Andrew-Ng-Machine-Learning-Notes/blob/master/trainer.ipynb\" target=\"_parent\"><img src=\"https://colab.research.google.com/assets/colab-badge.svg\" alt=\"Open In Colab\"/></a>"
      ]
    },
    {
      "cell_type": "code",
      "execution_count": null,
      "metadata": {
        "id": "qOlY5PAcJR_q"
      },
      "outputs": [],
      "source": [
        "import torch\n",
        "from torch.utils.data import Dataset, DataLoader\n",
        "from transformers import BertTokenizer, BertModel, AdamW, get_linear_schedule_with_warmup\n",
        "from transformers import Trainer, TrainingArguments\n",
        "\n",
        "# Define the custom dataset for triplets\n",
        "class TripletDataset(Dataset):\n",
        "    def __init__(self, anchor_sentences, positive_sentences, negative_sentences, tokenizer, max_length=128):\n",
        "        self.anchor_sentences = anchor_sentences\n",
        "        self.positive_sentences = positive_sentences\n",
        "        self.negative_sentences = negative_sentences\n",
        "        self.tokenizer = tokenizer\n",
        "        self.max_length = max_length\n",
        "\n",
        "    def __len__(self):\n",
        "        return len(self.anchor_sentences)\n",
        "\n",
        "    def __getitem__(self, idx):\n",
        "        anchor = self.anchor_sentences[idx]\n",
        "        positive = self.positive_sentences[idx]\n",
        "        negative = self.negative_sentences[idx]\n",
        "\n",
        "        anchor_encoding = self.tokenizer(anchor, truncation=True, padding='max_length', max_length=self.max_length, return_tensors='pt')\n",
        "        positive_encoding = self.tokenizer(positive, truncation=True, padding='max_length', max_length=self.max_length, return_tensors='pt')\n",
        "        negative_encoding = self.tokenizer(negative, truncation=True, padding='max_length', max_length=self.max_length, return_tensors='pt')\n",
        "\n",
        "        return {\n",
        "            'anchor_input_ids': anchor_encoding['input_ids'].squeeze(),\n",
        "            'anchor_attention_mask': anchor_encoding['attention_mask'].squeeze(),\n",
        "            'positive_input_ids': positive_encoding['input_ids'].squeeze(),\n",
        "            'positive_attention_mask': positive_encoding['attention_mask'].squeeze(),\n",
        "            'negative_input_ids': negative_encoding['input_ids'].squeeze(),\n",
        "            'negative_attention_mask': negative_encoding['attention_mask'].squeeze(),\n",
        "        }\n",
        "\n",
        "# Define the triple loss function\n",
        "def triplet_loss(anchor_output, positive_output, negative_output, margin=1.0):\n",
        "    pos_distance = torch.norm(anchor_output - positive_output, dim=1)\n",
        "    neg_distance = torch.norm(anchor_output - negative_output, dim=1)\n",
        "    loss = torch.relu(pos_distance - neg_distance + margin)\n",
        "    return loss.mean()\n",
        "\n",
        "# Create your Sentence-BERT model (e.g., using the BertModel)\n",
        "model = BertModel.from_pretrained('bert-base-uncased')\n",
        "\n",
        "# Define the training data (anchor, positive, negative triplets)\n",
        "anchor_sentences = [\"This is an example sentence.\", \"Another anchor sentence.\", ...]\n",
        "positive_sentences = [\"Similar sentence to anchor.\", \"Positive example.\", ...]\n",
        "negative_sentences = [\"Dissimilar sentence.\", \"Negative example.\", ...]\n",
        "\n",
        "# Initialize the tokenizer\n",
        "tokenizer = BertTokenizer.from_pretrained('bert-base-uncased')\n",
        "\n",
        "# Create the custom dataset\n",
        "dataset = TripletDataset(anchor_sentences, positive_sentences, negative_sentences, tokenizer)\n",
        "\n",
        "# Define training arguments\n",
        "training_args = TrainingArguments(\n",
        "    output_dir='./output',\n",
        "    num_train_epochs=3,\n",
        "    per_device_train_batch_size=16,\n",
        "    logging_dir='./logs',\n",
        "    save_steps=1000,\n",
        "    evaluation_strategy=\"steps\",\n",
        "    eval_steps=1000,\n",
        ")\n",
        "\n",
        "# Create a Trainer instance\n",
        "trainer = Trainer(\n",
        "    model=model,\n",
        "    args=training_args,\n",
        "    train_dataset=dataset,\n",
        "    data_collator=None,  # You can define a custom data collator if needed\n",
        "    compute_metrics=None,  # Define metrics for evaluation if needed\n",
        ")\n",
        "\n",
        "# Train the model\n",
        "trainer.train()\n",
        "\n",
        "# Save the fine-tuned model\n",
        "trainer.save_model()\n",
        "\n",
        "# You can now use the fine-tuned model for generating sentence embeddings and other downstream tasks.\n"
      ]
    }
  ]
}