{
  "nbformat": 4,
  "nbformat_minor": 0,
  "metadata": {
    "colab": {
      "provenance": [],
      "authorship_tag": "ABX9TyO9yohLe7sCBLhrTtluuEkM",
      "include_colab_link": true
    },
    "kernelspec": {
      "name": "python3",
      "display_name": "Python 3"
    },
    "language_info": {
      "name": "python"
    }
  },
  "cells": [
    {
      "cell_type": "markdown",
      "metadata": {
        "id": "view-in-github",
        "colab_type": "text"
      },
      "source": [
        "<a href=\"https://colab.research.google.com/github/DIPANJAN001/Andrew-Ng-Machine-Learning-Notes/blob/master/emailchain1.ipynb\" target=\"_parent\"><img src=\"https://colab.research.google.com/assets/colab-badge.svg\" alt=\"Open In Colab\"/></a>"
      ]
    },
    {
      "cell_type": "code",
      "execution_count": null,
      "metadata": {
        "id": "zNABmjgTaZBF"
      },
      "outputs": [],
      "source": [
        "import re\n",
        "import nltk\n",
        "from nltk.corpus import stopwords\n",
        "from nltk.stem import SnowballStemmer\n",
        "\n",
        "nltk.download('stopwords')\n",
        "\n",
        "# Function to clean and preprocess text\n",
        "def preprocess_text(text):\n",
        "    # Remove email headers and quoted text (if applicable)\n",
        "    cleaned_text = re.sub(r'From:.*?Sent:', '', text, flags=re.DOTALL)\n",
        "    cleaned_text = re.sub(r'On \\d{4}-\\d{2}-\\d{2}.*?wrote:', '', cleaned_text, flags=re.DOTALL)\n",
        "\n",
        "    # Convert to lowercase\n",
        "    cleaned_text = cleaned_text.lower()\n",
        "\n",
        "    # Remove special characters, punctuation, and numbers\n",
        "    cleaned_text = re.sub(r'[^a-z\\s]', '', cleaned_text)\n",
        "\n",
        "    # Tokenization\n",
        "    tokens = nltk.word_tokenize(cleaned_text)\n",
        "\n",
        "    # Remove stopwords\n",
        "    stop_words = set(stopwords.words('english'))\n",
        "    tokens = [word for word in tokens if word not in stop_words]\n",
        "\n",
        "    # Stemming (you can use lemmatization if preferred)\n",
        "    stemmer = SnowballStemmer('english')\n",
        "    tokens = [stemmer.stem(word) for word in tokens]\n",
        "\n",
        "    # Join tokens back into text\n",
        "    cleaned_text = ' '.join(tokens)\n",
        "\n",
        "    return cleaned_text\n",
        "\n",
        "# Sample claim-related text data (email chain or other formats)\n",
        "claim_text = [\n",
        "    \"From: sender@example.com\",\n",
        "    \"Subject: Re: Claim #12345\",\n",
        "    \"Date: Mon, 01 Jan 2023 14:00:00 +0000\",\n",
        "    \"Dear Customer,\",\n",
        "    \"Thank you for contacting us regarding your claim #12345.\",\n",
        "    \"Please provide us with more details about the incident and your policy number.\",\n",
        "    \"Best regards,\",\n",
        "    \"Insurance Company\",\n",
        "    \"> On 2023-01-01 10:30 AM, customer@example.com wrote:\",\n",
        "    \"> > Hi,\",\n",
        "    \"> > I had an accident last week. My policy number is 98765.\",\n",
        "    \"> > Regards,\",\n",
        "    \"> > John Doe\",\n",
        "    \"I was involved in a car accident last week.\",\n",
        "    \"My insurance policy covers accident-related expenses.\",\n",
        "    \"The weather was nice during my vacation.\",\n",
        "    \"I need to renew my insurance policy soon.\",\n",
        "]\n",
        "\n",
        "# Apply preprocessing to each claim-related text\n",
        "cleaned_claim_text = [preprocess_text(text) for text in claim_text]\n",
        "\n",
        "# Print cleaned claim text\n",
        "for i, cleaned_text in enumerate(cleaned_claim_text):\n",
        "    print(f\"Cleaned Text {i + 1}:\\n{cleaned_text}\\n\")\n"
      ]
    }
  ]
}