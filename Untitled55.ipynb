{
  "nbformat": 4,
  "nbformat_minor": 0,
  "metadata": {
    "colab": {
      "provenance": [],
      "authorship_tag": "ABX9TyOGAChfeLQsq81e7HKr3d/7",
      "include_colab_link": true
    },
    "kernelspec": {
      "name": "python3",
      "display_name": "Python 3"
    },
    "language_info": {
      "name": "python"
    }
  },
  "cells": [
    {
      "cell_type": "markdown",
      "metadata": {
        "id": "view-in-github",
        "colab_type": "text"
      },
      "source": [
        "<a href=\"https://colab.research.google.com/github/DIPANJAN001/Andrew-Ng-Machine-Learning-Notes/blob/master/Untitled55.ipynb\" target=\"_parent\"><img src=\"https://colab.research.google.com/assets/colab-badge.svg\" alt=\"Open In Colab\"/></a>"
      ]
    },
    {
      "cell_type": "code",
      "execution_count": null,
      "metadata": {
        "id": "mznDmt1RdMtS"
      },
      "outputs": [],
      "source": [
        "import numpy as np\n",
        "from sklearn.decomposition import PCA\n",
        "from sklearn.preprocessing import normalize\n",
        "\n",
        "# Sample data: Replace this with your actual data\n",
        "# Let's assume you have a set of document vectors stored in a 2D numpy array 'document_vectors'\n",
        "# Each row in 'document_vectors' represents a document, and each column represents a feature or dimension.\n",
        "document_vectors = np.random.rand(100, 200)  # 100 documents with 200 dimensions\n",
        "\n",
        "# Query vector: Replace this with your query vector\n",
        "# 'query_vector' is a 1D numpy array representing the query.\n",
        "query_vector = np.random.rand(200)  # Query vector with the same dimensionality as documents\n",
        "\n",
        "# Step 1: Perform PCA to reduce dimensionality\n",
        "num_components = 50  # Number of components to keep after PCA (adjust as needed)\n",
        "pca = PCA(n_components=num_components)\n",
        "document_vectors_reduced = pca.fit_transform(document_vectors)\n",
        "query_vector_reduced = pca.transform(query_vector.reshape(1, -1))\n",
        "\n",
        "# Step 2: Normalize vectors (important for cosine similarity)\n",
        "document_vectors_reduced = normalize(document_vectors_reduced, axis=1)\n",
        "query_vector_reduced = normalize(query_vector_reduced)\n",
        "\n",
        "# Step 3: Calculate cosine similarity\n",
        "cosine_similarities = np.dot(document_vectors_reduced, query_vector_reduced.T).squeeze()\n",
        "\n",
        "# Now 'cosine_similarities' contains the cosine similarity scores between the query and each document.\n",
        "# The higher the score, the more similar the document is to the query.\n",
        "\n",
        "# Find the document with the highest similarity score\n",
        "most_similar_doc_index = np.argmax(cosine_similarities)\n",
        "most_similar_doc_similarity = cosine_similarities[most_similar_doc_index]\n",
        "\n",
        "print(\"Most similar document index:\", most_similar_doc_index)\n",
        "print(\"Cosine similarity:\", most_similar_doc_similarity)\n"
      ]
    }
  ]
}