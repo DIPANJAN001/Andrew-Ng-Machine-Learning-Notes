{
  "nbformat": 4,
  "nbformat_minor": 0,
  "metadata": {
    "colab": {
      "provenance": [],
      "include_colab_link": true
    },
    "kernelspec": {
      "name": "python3",
      "display_name": "Python 3"
    },
    "language_info": {
      "name": "python"
    }
  },
  "cells": [
    {
      "cell_type": "markdown",
      "metadata": {
        "id": "view-in-github",
        "colab_type": "text"
      },
      "source": [
        "<a href=\"https://colab.research.google.com/github/DIPANJAN001/Andrew-Ng-Machine-Learning-Notes/blob/master/TitanicSurvivalPredictionusingNN.ipynb\" target=\"_parent\"><img src=\"https://colab.research.google.com/assets/colab-badge.svg\" alt=\"Open In Colab\"/></a>"
      ]
    },
    {
      "cell_type": "markdown",
      "metadata": {
        "id": "zezY7SSIGrB2"
      },
      "source": [
        "Importing the Dependencies"
      ]
    },
    {
      "cell_type": "code",
      "metadata": {
        "id": "J1IoiqIICdkD"
      },
      "source": [
        "import numpy as np\n",
        "import pandas as pd\n",
        "import matplotlib.pyplot as plt\n",
        "import seaborn as sns\n",
        "from sklearn.model_selection import train_test_split\n",
        "from sklearn.linear_model import LogisticRegression\n",
        "from sklearn.metrics import accuracy_score"
      ],
      "execution_count": 432,
      "outputs": []
    },
    {
      "cell_type": "code",
      "source": [
        "import seaborn as sns"
      ],
      "metadata": {
        "id": "XbXeZnG6YRWs"
      },
      "execution_count": 433,
      "outputs": []
    },
    {
      "cell_type": "code",
      "source": [
        "titanic_data=sns.load_dataset('titanic')"
      ],
      "metadata": {
        "id": "A8G7PfxXZi1f"
      },
      "execution_count": 434,
      "outputs": []
    },
    {
      "cell_type": "code",
      "metadata": {
        "colab": {
          "base_uri": "https://localhost:8080/",
          "height": 206
        },
        "id": "DVLxglk9ISqM",
        "outputId": "917586e0-36a1-404c-cbca-ef5e07dc4fef"
      },
      "source": [
        "titanic_data.head()"
      ],
      "execution_count": 435,
      "outputs": [
        {
          "output_type": "execute_result",
          "data": {
            "text/plain": [
              "   survived  pclass     sex   age  sibsp  parch     fare embarked  class  \\\n",
              "0         0       3    male  22.0      1      0   7.2500        S  Third   \n",
              "1         1       1  female  38.0      1      0  71.2833        C  First   \n",
              "2         1       3  female  26.0      0      0   7.9250        S  Third   \n",
              "3         1       1  female  35.0      1      0  53.1000        S  First   \n",
              "4         0       3    male  35.0      0      0   8.0500        S  Third   \n",
              "\n",
              "     who  adult_male deck  embark_town alive  alone  \n",
              "0    man        True  NaN  Southampton    no  False  \n",
              "1  woman       False    C    Cherbourg   yes  False  \n",
              "2  woman       False  NaN  Southampton   yes   True  \n",
              "3  woman       False    C  Southampton   yes  False  \n",
              "4    man        True  NaN  Southampton    no   True  "
            ],
            "text/html": [
              "\n",
              "  <div id=\"df-7518bd17-5288-43d3-897f-e76711cc8269\">\n",
              "    <div class=\"colab-df-container\">\n",
              "      <div>\n",
              "<style scoped>\n",
              "    .dataframe tbody tr th:only-of-type {\n",
              "        vertical-align: middle;\n",
              "    }\n",
              "\n",
              "    .dataframe tbody tr th {\n",
              "        vertical-align: top;\n",
              "    }\n",
              "\n",
              "    .dataframe thead th {\n",
              "        text-align: right;\n",
              "    }\n",
              "</style>\n",
              "<table border=\"1\" class=\"dataframe\">\n",
              "  <thead>\n",
              "    <tr style=\"text-align: right;\">\n",
              "      <th></th>\n",
              "      <th>survived</th>\n",
              "      <th>pclass</th>\n",
              "      <th>sex</th>\n",
              "      <th>age</th>\n",
              "      <th>sibsp</th>\n",
              "      <th>parch</th>\n",
              "      <th>fare</th>\n",
              "      <th>embarked</th>\n",
              "      <th>class</th>\n",
              "      <th>who</th>\n",
              "      <th>adult_male</th>\n",
              "      <th>deck</th>\n",
              "      <th>embark_town</th>\n",
              "      <th>alive</th>\n",
              "      <th>alone</th>\n",
              "    </tr>\n",
              "  </thead>\n",
              "  <tbody>\n",
              "    <tr>\n",
              "      <th>0</th>\n",
              "      <td>0</td>\n",
              "      <td>3</td>\n",
              "      <td>male</td>\n",
              "      <td>22.0</td>\n",
              "      <td>1</td>\n",
              "      <td>0</td>\n",
              "      <td>7.2500</td>\n",
              "      <td>S</td>\n",
              "      <td>Third</td>\n",
              "      <td>man</td>\n",
              "      <td>True</td>\n",
              "      <td>NaN</td>\n",
              "      <td>Southampton</td>\n",
              "      <td>no</td>\n",
              "      <td>False</td>\n",
              "    </tr>\n",
              "    <tr>\n",
              "      <th>1</th>\n",
              "      <td>1</td>\n",
              "      <td>1</td>\n",
              "      <td>female</td>\n",
              "      <td>38.0</td>\n",
              "      <td>1</td>\n",
              "      <td>0</td>\n",
              "      <td>71.2833</td>\n",
              "      <td>C</td>\n",
              "      <td>First</td>\n",
              "      <td>woman</td>\n",
              "      <td>False</td>\n",
              "      <td>C</td>\n",
              "      <td>Cherbourg</td>\n",
              "      <td>yes</td>\n",
              "      <td>False</td>\n",
              "    </tr>\n",
              "    <tr>\n",
              "      <th>2</th>\n",
              "      <td>1</td>\n",
              "      <td>3</td>\n",
              "      <td>female</td>\n",
              "      <td>26.0</td>\n",
              "      <td>0</td>\n",
              "      <td>0</td>\n",
              "      <td>7.9250</td>\n",
              "      <td>S</td>\n",
              "      <td>Third</td>\n",
              "      <td>woman</td>\n",
              "      <td>False</td>\n",
              "      <td>NaN</td>\n",
              "      <td>Southampton</td>\n",
              "      <td>yes</td>\n",
              "      <td>True</td>\n",
              "    </tr>\n",
              "    <tr>\n",
              "      <th>3</th>\n",
              "      <td>1</td>\n",
              "      <td>1</td>\n",
              "      <td>female</td>\n",
              "      <td>35.0</td>\n",
              "      <td>1</td>\n",
              "      <td>0</td>\n",
              "      <td>53.1000</td>\n",
              "      <td>S</td>\n",
              "      <td>First</td>\n",
              "      <td>woman</td>\n",
              "      <td>False</td>\n",
              "      <td>C</td>\n",
              "      <td>Southampton</td>\n",
              "      <td>yes</td>\n",
              "      <td>False</td>\n",
              "    </tr>\n",
              "    <tr>\n",
              "      <th>4</th>\n",
              "      <td>0</td>\n",
              "      <td>3</td>\n",
              "      <td>male</td>\n",
              "      <td>35.0</td>\n",
              "      <td>0</td>\n",
              "      <td>0</td>\n",
              "      <td>8.0500</td>\n",
              "      <td>S</td>\n",
              "      <td>Third</td>\n",
              "      <td>man</td>\n",
              "      <td>True</td>\n",
              "      <td>NaN</td>\n",
              "      <td>Southampton</td>\n",
              "      <td>no</td>\n",
              "      <td>True</td>\n",
              "    </tr>\n",
              "  </tbody>\n",
              "</table>\n",
              "</div>\n",
              "      <button class=\"colab-df-convert\" onclick=\"convertToInteractive('df-7518bd17-5288-43d3-897f-e76711cc8269')\"\n",
              "              title=\"Convert this dataframe to an interactive table.\"\n",
              "              style=\"display:none;\">\n",
              "        \n",
              "  <svg xmlns=\"http://www.w3.org/2000/svg\" height=\"24px\"viewBox=\"0 0 24 24\"\n",
              "       width=\"24px\">\n",
              "    <path d=\"M0 0h24v24H0V0z\" fill=\"none\"/>\n",
              "    <path d=\"M18.56 5.44l.94 2.06.94-2.06 2.06-.94-2.06-.94-.94-2.06-.94 2.06-2.06.94zm-11 1L8.5 8.5l.94-2.06 2.06-.94-2.06-.94L8.5 2.5l-.94 2.06-2.06.94zm10 10l.94 2.06.94-2.06 2.06-.94-2.06-.94-.94-2.06-.94 2.06-2.06.94z\"/><path d=\"M17.41 7.96l-1.37-1.37c-.4-.4-.92-.59-1.43-.59-.52 0-1.04.2-1.43.59L10.3 9.45l-7.72 7.72c-.78.78-.78 2.05 0 2.83L4 21.41c.39.39.9.59 1.41.59.51 0 1.02-.2 1.41-.59l7.78-7.78 2.81-2.81c.8-.78.8-2.07 0-2.86zM5.41 20L4 18.59l7.72-7.72 1.47 1.35L5.41 20z\"/>\n",
              "  </svg>\n",
              "      </button>\n",
              "      \n",
              "  <style>\n",
              "    .colab-df-container {\n",
              "      display:flex;\n",
              "      flex-wrap:wrap;\n",
              "      gap: 12px;\n",
              "    }\n",
              "\n",
              "    .colab-df-convert {\n",
              "      background-color: #E8F0FE;\n",
              "      border: none;\n",
              "      border-radius: 50%;\n",
              "      cursor: pointer;\n",
              "      display: none;\n",
              "      fill: #1967D2;\n",
              "      height: 32px;\n",
              "      padding: 0 0 0 0;\n",
              "      width: 32px;\n",
              "    }\n",
              "\n",
              "    .colab-df-convert:hover {\n",
              "      background-color: #E2EBFA;\n",
              "      box-shadow: 0px 1px 2px rgba(60, 64, 67, 0.3), 0px 1px 3px 1px rgba(60, 64, 67, 0.15);\n",
              "      fill: #174EA6;\n",
              "    }\n",
              "\n",
              "    [theme=dark] .colab-df-convert {\n",
              "      background-color: #3B4455;\n",
              "      fill: #D2E3FC;\n",
              "    }\n",
              "\n",
              "    [theme=dark] .colab-df-convert:hover {\n",
              "      background-color: #434B5C;\n",
              "      box-shadow: 0px 1px 3px 1px rgba(0, 0, 0, 0.15);\n",
              "      filter: drop-shadow(0px 1px 2px rgba(0, 0, 0, 0.3));\n",
              "      fill: #FFFFFF;\n",
              "    }\n",
              "  </style>\n",
              "\n",
              "      <script>\n",
              "        const buttonEl =\n",
              "          document.querySelector('#df-7518bd17-5288-43d3-897f-e76711cc8269 button.colab-df-convert');\n",
              "        buttonEl.style.display =\n",
              "          google.colab.kernel.accessAllowed ? 'block' : 'none';\n",
              "\n",
              "        async function convertToInteractive(key) {\n",
              "          const element = document.querySelector('#df-7518bd17-5288-43d3-897f-e76711cc8269');\n",
              "          const dataTable =\n",
              "            await google.colab.kernel.invokeFunction('convertToInteractive',\n",
              "                                                     [key], {});\n",
              "          if (!dataTable) return;\n",
              "\n",
              "          const docLinkHtml = 'Like what you see? Visit the ' +\n",
              "            '<a target=\"_blank\" href=https://colab.research.google.com/notebooks/data_table.ipynb>data table notebook</a>'\n",
              "            + ' to learn more about interactive tables.';\n",
              "          element.innerHTML = '';\n",
              "          dataTable['output_type'] = 'display_data';\n",
              "          await google.colab.output.renderOutput(dataTable, element);\n",
              "          const docLink = document.createElement('div');\n",
              "          docLink.innerHTML = docLinkHtml;\n",
              "          element.appendChild(docLink);\n",
              "        }\n",
              "      </script>\n",
              "    </div>\n",
              "  </div>\n",
              "  "
            ]
          },
          "metadata": {},
          "execution_count": 435
        }
      ]
    },
    {
      "cell_type": "code",
      "metadata": {
        "colab": {
          "base_uri": "https://localhost:8080/"
        },
        "id": "Flr1LhieIbfB",
        "outputId": "1144052d-e02b-4f99-c54c-1a4c806d6c8d"
      },
      "source": [
        "\n",
        "titanic_data.shape"
      ],
      "execution_count": 436,
      "outputs": [
        {
          "output_type": "execute_result",
          "data": {
            "text/plain": [
              "(891, 15)"
            ]
          },
          "metadata": {},
          "execution_count": 436
        }
      ]
    },
    {
      "cell_type": "code",
      "metadata": {
        "colab": {
          "base_uri": "https://localhost:8080/"
        },
        "id": "-eQ5cEAdJKNR",
        "outputId": "eb5a95d8-7c53-406b-cb73-2cf983299f78"
      },
      "source": [
        "\n",
        "titanic_data.info()"
      ],
      "execution_count": 437,
      "outputs": [
        {
          "output_type": "stream",
          "name": "stdout",
          "text": [
            "<class 'pandas.core.frame.DataFrame'>\n",
            "RangeIndex: 891 entries, 0 to 890\n",
            "Data columns (total 15 columns):\n",
            " #   Column       Non-Null Count  Dtype   \n",
            "---  ------       --------------  -----   \n",
            " 0   survived     891 non-null    int64   \n",
            " 1   pclass       891 non-null    int64   \n",
            " 2   sex          891 non-null    object  \n",
            " 3   age          714 non-null    float64 \n",
            " 4   sibsp        891 non-null    int64   \n",
            " 5   parch        891 non-null    int64   \n",
            " 6   fare         891 non-null    float64 \n",
            " 7   embarked     889 non-null    object  \n",
            " 8   class        891 non-null    category\n",
            " 9   who          891 non-null    object  \n",
            " 10  adult_male   891 non-null    bool    \n",
            " 11  deck         203 non-null    category\n",
            " 12  embark_town  889 non-null    object  \n",
            " 13  alive        891 non-null    object  \n",
            " 14  alone        891 non-null    bool    \n",
            "dtypes: bool(2), category(2), float64(2), int64(4), object(5)\n",
            "memory usage: 80.7+ KB\n"
          ]
        }
      ]
    },
    {
      "cell_type": "code",
      "metadata": {
        "colab": {
          "base_uri": "https://localhost:8080/"
        },
        "id": "vgm9U8ZNJZrr",
        "outputId": "0f2ff77d-9a10-49d0-f1db-caa58312e7e7"
      },
      "source": [
        "\n",
        "titanic_data.isnull().sum()"
      ],
      "execution_count": 438,
      "outputs": [
        {
          "output_type": "execute_result",
          "data": {
            "text/plain": [
              "survived         0\n",
              "pclass           0\n",
              "sex              0\n",
              "age            177\n",
              "sibsp            0\n",
              "parch            0\n",
              "fare             0\n",
              "embarked         2\n",
              "class            0\n",
              "who              0\n",
              "adult_male       0\n",
              "deck           688\n",
              "embark_town      2\n",
              "alive            0\n",
              "alone            0\n",
              "dtype: int64"
            ]
          },
          "metadata": {},
          "execution_count": 438
        }
      ]
    },
    {
      "cell_type": "markdown",
      "metadata": {
        "id": "CI0lP-0YJ8p8"
      },
      "source": [
        "Handling the Missing values"
      ]
    },
    {
      "cell_type": "code",
      "metadata": {
        "id": "v31f_V2fKiZc"
      },
      "source": [
        "\n",
        "titanic_data['age'].fillna(titanic_data['age'].mean(), inplace=True)"
      ],
      "execution_count": 439,
      "outputs": []
    },
    {
      "cell_type": "code",
      "metadata": {
        "id": "JUKy-XlrLu0x"
      },
      "source": [
        "\n",
        "titanic_data['embarked'].fillna(titanic_data['embarked'].mode()[0], inplace=True)"
      ],
      "execution_count": 440,
      "outputs": []
    },
    {
      "cell_type": "code",
      "metadata": {
        "colab": {
          "base_uri": "https://localhost:8080/"
        },
        "id": "Q8y1HhZ-MA7k",
        "outputId": "f550bbc5-212b-49c5-ff47-d0c59044e0a6"
      },
      "source": [
        "\n",
        "titanic_data.isnull().sum()"
      ],
      "execution_count": 441,
      "outputs": [
        {
          "output_type": "execute_result",
          "data": {
            "text/plain": [
              "survived         0\n",
              "pclass           0\n",
              "sex              0\n",
              "age              0\n",
              "sibsp            0\n",
              "parch            0\n",
              "fare             0\n",
              "embarked         0\n",
              "class            0\n",
              "who              0\n",
              "adult_male       0\n",
              "deck           688\n",
              "embark_town      2\n",
              "alive            0\n",
              "alone            0\n",
              "dtype: int64"
            ]
          },
          "metadata": {},
          "execution_count": 441
        }
      ]
    },
    {
      "cell_type": "markdown",
      "metadata": {
        "id": "dUH1aG5EMMLr"
      },
      "source": [
        "Data Analysis"
      ]
    },
    {
      "cell_type": "code",
      "metadata": {
        "colab": {
          "base_uri": "https://localhost:8080/",
          "height": 300
        },
        "id": "8o_2pOvOMGbX",
        "outputId": "b38d8de3-760c-4c14-b987-f1535ee9f786"
      },
      "source": [
        "\n",
        "titanic_data.describe()"
      ],
      "execution_count": 442,
      "outputs": [
        {
          "output_type": "execute_result",
          "data": {
            "text/plain": [
              "         survived      pclass         age       sibsp       parch        fare\n",
              "count  891.000000  891.000000  891.000000  891.000000  891.000000  891.000000\n",
              "mean     0.383838    2.308642   29.699118    0.523008    0.381594   32.204208\n",
              "std      0.486592    0.836071   13.002015    1.102743    0.806057   49.693429\n",
              "min      0.000000    1.000000    0.420000    0.000000    0.000000    0.000000\n",
              "25%      0.000000    2.000000   22.000000    0.000000    0.000000    7.910400\n",
              "50%      0.000000    3.000000   29.699118    0.000000    0.000000   14.454200\n",
              "75%      1.000000    3.000000   35.000000    1.000000    0.000000   31.000000\n",
              "max      1.000000    3.000000   80.000000    8.000000    6.000000  512.329200"
            ],
            "text/html": [
              "\n",
              "  <div id=\"df-26bbd0d2-3979-4ef9-9861-2879c4f836d0\">\n",
              "    <div class=\"colab-df-container\">\n",
              "      <div>\n",
              "<style scoped>\n",
              "    .dataframe tbody tr th:only-of-type {\n",
              "        vertical-align: middle;\n",
              "    }\n",
              "\n",
              "    .dataframe tbody tr th {\n",
              "        vertical-align: top;\n",
              "    }\n",
              "\n",
              "    .dataframe thead th {\n",
              "        text-align: right;\n",
              "    }\n",
              "</style>\n",
              "<table border=\"1\" class=\"dataframe\">\n",
              "  <thead>\n",
              "    <tr style=\"text-align: right;\">\n",
              "      <th></th>\n",
              "      <th>survived</th>\n",
              "      <th>pclass</th>\n",
              "      <th>age</th>\n",
              "      <th>sibsp</th>\n",
              "      <th>parch</th>\n",
              "      <th>fare</th>\n",
              "    </tr>\n",
              "  </thead>\n",
              "  <tbody>\n",
              "    <tr>\n",
              "      <th>count</th>\n",
              "      <td>891.000000</td>\n",
              "      <td>891.000000</td>\n",
              "      <td>891.000000</td>\n",
              "      <td>891.000000</td>\n",
              "      <td>891.000000</td>\n",
              "      <td>891.000000</td>\n",
              "    </tr>\n",
              "    <tr>\n",
              "      <th>mean</th>\n",
              "      <td>0.383838</td>\n",
              "      <td>2.308642</td>\n",
              "      <td>29.699118</td>\n",
              "      <td>0.523008</td>\n",
              "      <td>0.381594</td>\n",
              "      <td>32.204208</td>\n",
              "    </tr>\n",
              "    <tr>\n",
              "      <th>std</th>\n",
              "      <td>0.486592</td>\n",
              "      <td>0.836071</td>\n",
              "      <td>13.002015</td>\n",
              "      <td>1.102743</td>\n",
              "      <td>0.806057</td>\n",
              "      <td>49.693429</td>\n",
              "    </tr>\n",
              "    <tr>\n",
              "      <th>min</th>\n",
              "      <td>0.000000</td>\n",
              "      <td>1.000000</td>\n",
              "      <td>0.420000</td>\n",
              "      <td>0.000000</td>\n",
              "      <td>0.000000</td>\n",
              "      <td>0.000000</td>\n",
              "    </tr>\n",
              "    <tr>\n",
              "      <th>25%</th>\n",
              "      <td>0.000000</td>\n",
              "      <td>2.000000</td>\n",
              "      <td>22.000000</td>\n",
              "      <td>0.000000</td>\n",
              "      <td>0.000000</td>\n",
              "      <td>7.910400</td>\n",
              "    </tr>\n",
              "    <tr>\n",
              "      <th>50%</th>\n",
              "      <td>0.000000</td>\n",
              "      <td>3.000000</td>\n",
              "      <td>29.699118</td>\n",
              "      <td>0.000000</td>\n",
              "      <td>0.000000</td>\n",
              "      <td>14.454200</td>\n",
              "    </tr>\n",
              "    <tr>\n",
              "      <th>75%</th>\n",
              "      <td>1.000000</td>\n",
              "      <td>3.000000</td>\n",
              "      <td>35.000000</td>\n",
              "      <td>1.000000</td>\n",
              "      <td>0.000000</td>\n",
              "      <td>31.000000</td>\n",
              "    </tr>\n",
              "    <tr>\n",
              "      <th>max</th>\n",
              "      <td>1.000000</td>\n",
              "      <td>3.000000</td>\n",
              "      <td>80.000000</td>\n",
              "      <td>8.000000</td>\n",
              "      <td>6.000000</td>\n",
              "      <td>512.329200</td>\n",
              "    </tr>\n",
              "  </tbody>\n",
              "</table>\n",
              "</div>\n",
              "      <button class=\"colab-df-convert\" onclick=\"convertToInteractive('df-26bbd0d2-3979-4ef9-9861-2879c4f836d0')\"\n",
              "              title=\"Convert this dataframe to an interactive table.\"\n",
              "              style=\"display:none;\">\n",
              "        \n",
              "  <svg xmlns=\"http://www.w3.org/2000/svg\" height=\"24px\"viewBox=\"0 0 24 24\"\n",
              "       width=\"24px\">\n",
              "    <path d=\"M0 0h24v24H0V0z\" fill=\"none\"/>\n",
              "    <path d=\"M18.56 5.44l.94 2.06.94-2.06 2.06-.94-2.06-.94-.94-2.06-.94 2.06-2.06.94zm-11 1L8.5 8.5l.94-2.06 2.06-.94-2.06-.94L8.5 2.5l-.94 2.06-2.06.94zm10 10l.94 2.06.94-2.06 2.06-.94-2.06-.94-.94-2.06-.94 2.06-2.06.94z\"/><path d=\"M17.41 7.96l-1.37-1.37c-.4-.4-.92-.59-1.43-.59-.52 0-1.04.2-1.43.59L10.3 9.45l-7.72 7.72c-.78.78-.78 2.05 0 2.83L4 21.41c.39.39.9.59 1.41.59.51 0 1.02-.2 1.41-.59l7.78-7.78 2.81-2.81c.8-.78.8-2.07 0-2.86zM5.41 20L4 18.59l7.72-7.72 1.47 1.35L5.41 20z\"/>\n",
              "  </svg>\n",
              "      </button>\n",
              "      \n",
              "  <style>\n",
              "    .colab-df-container {\n",
              "      display:flex;\n",
              "      flex-wrap:wrap;\n",
              "      gap: 12px;\n",
              "    }\n",
              "\n",
              "    .colab-df-convert {\n",
              "      background-color: #E8F0FE;\n",
              "      border: none;\n",
              "      border-radius: 50%;\n",
              "      cursor: pointer;\n",
              "      display: none;\n",
              "      fill: #1967D2;\n",
              "      height: 32px;\n",
              "      padding: 0 0 0 0;\n",
              "      width: 32px;\n",
              "    }\n",
              "\n",
              "    .colab-df-convert:hover {\n",
              "      background-color: #E2EBFA;\n",
              "      box-shadow: 0px 1px 2px rgba(60, 64, 67, 0.3), 0px 1px 3px 1px rgba(60, 64, 67, 0.15);\n",
              "      fill: #174EA6;\n",
              "    }\n",
              "\n",
              "    [theme=dark] .colab-df-convert {\n",
              "      background-color: #3B4455;\n",
              "      fill: #D2E3FC;\n",
              "    }\n",
              "\n",
              "    [theme=dark] .colab-df-convert:hover {\n",
              "      background-color: #434B5C;\n",
              "      box-shadow: 0px 1px 3px 1px rgba(0, 0, 0, 0.15);\n",
              "      filter: drop-shadow(0px 1px 2px rgba(0, 0, 0, 0.3));\n",
              "      fill: #FFFFFF;\n",
              "    }\n",
              "  </style>\n",
              "\n",
              "      <script>\n",
              "        const buttonEl =\n",
              "          document.querySelector('#df-26bbd0d2-3979-4ef9-9861-2879c4f836d0 button.colab-df-convert');\n",
              "        buttonEl.style.display =\n",
              "          google.colab.kernel.accessAllowed ? 'block' : 'none';\n",
              "\n",
              "        async function convertToInteractive(key) {\n",
              "          const element = document.querySelector('#df-26bbd0d2-3979-4ef9-9861-2879c4f836d0');\n",
              "          const dataTable =\n",
              "            await google.colab.kernel.invokeFunction('convertToInteractive',\n",
              "                                                     [key], {});\n",
              "          if (!dataTable) return;\n",
              "\n",
              "          const docLinkHtml = 'Like what you see? Visit the ' +\n",
              "            '<a target=\"_blank\" href=https://colab.research.google.com/notebooks/data_table.ipynb>data table notebook</a>'\n",
              "            + ' to learn more about interactive tables.';\n",
              "          element.innerHTML = '';\n",
              "          dataTable['output_type'] = 'display_data';\n",
              "          await google.colab.output.renderOutput(dataTable, element);\n",
              "          const docLink = document.createElement('div');\n",
              "          docLink.innerHTML = docLinkHtml;\n",
              "          element.appendChild(docLink);\n",
              "        }\n",
              "      </script>\n",
              "    </div>\n",
              "  </div>\n",
              "  "
            ]
          },
          "metadata": {},
          "execution_count": 442
        }
      ]
    },
    {
      "cell_type": "code",
      "metadata": {
        "colab": {
          "base_uri": "https://localhost:8080/"
        },
        "id": "8319pWvFMWvZ",
        "outputId": "0793fae6-4020-4d04-94f7-a220980f8639"
      },
      "source": [
        "\n",
        "titanic_data['survived'].value_counts()"
      ],
      "execution_count": 443,
      "outputs": [
        {
          "output_type": "execute_result",
          "data": {
            "text/plain": [
              "0    549\n",
              "1    342\n",
              "Name: survived, dtype: int64"
            ]
          },
          "metadata": {},
          "execution_count": 443
        }
      ]
    },
    {
      "cell_type": "markdown",
      "metadata": {
        "id": "l1KdqdYCPGqS"
      },
      "source": [
        "Encoding the Categorical Columns"
      ]
    },
    {
      "cell_type": "code",
      "metadata": {
        "colab": {
          "base_uri": "https://localhost:8080/"
        },
        "id": "yExAH-sGOjbk",
        "outputId": "5c827338-24e9-4462-f8c9-7f771fa5b65d"
      },
      "source": [
        "titanic_data['sex'].value_counts()"
      ],
      "execution_count": 444,
      "outputs": [
        {
          "output_type": "execute_result",
          "data": {
            "text/plain": [
              "male      577\n",
              "female    314\n",
              "Name: sex, dtype: int64"
            ]
          },
          "metadata": {},
          "execution_count": 444
        }
      ]
    },
    {
      "cell_type": "code",
      "metadata": {
        "colab": {
          "base_uri": "https://localhost:8080/"
        },
        "id": "y5LhKZJ1PRhw",
        "outputId": "6b0eeba0-7cb9-4904-ab48-35f6e2dcbe45"
      },
      "source": [
        "titanic_data['embarked'].value_counts()"
      ],
      "execution_count": 445,
      "outputs": [
        {
          "output_type": "execute_result",
          "data": {
            "text/plain": [
              "S    646\n",
              "C    168\n",
              "Q     77\n",
              "Name: embarked, dtype: int64"
            ]
          },
          "metadata": {},
          "execution_count": 445
        }
      ]
    },
    {
      "cell_type": "code",
      "metadata": {
        "id": "uMbFfslXPVn9"
      },
      "source": [
        "\n",
        "\n",
        "titanic_data.replace({'sex':{'male':0,'female':1}, 'embarked':{'S':0,'C':1,'Q':2},'class':{'First':0,'Second':1,'Third':2},'who':{'man':0,'woman':1,'child':2}}, inplace=True)"
      ],
      "execution_count": 446,
      "outputs": []
    },
    {
      "cell_type": "code",
      "metadata": {
        "colab": {
          "base_uri": "https://localhost:8080/",
          "height": 206
        },
        "id": "Ap4_stBRP1y1",
        "outputId": "39b00878-2e6c-462b-d3e2-95c8c24a259c"
      },
      "source": [
        "titanic_data.head()"
      ],
      "execution_count": 447,
      "outputs": [
        {
          "output_type": "execute_result",
          "data": {
            "text/plain": [
              "   survived  pclass  sex   age  sibsp  parch     fare  embarked class  who  \\\n",
              "0         0       3    0  22.0      1      0   7.2500         0     2    0   \n",
              "1         1       1    1  38.0      1      0  71.2833         1     0    1   \n",
              "2         1       3    1  26.0      0      0   7.9250         0     2    1   \n",
              "3         1       1    1  35.0      1      0  53.1000         0     0    1   \n",
              "4         0       3    0  35.0      0      0   8.0500         0     2    0   \n",
              "\n",
              "   adult_male deck  embark_town alive  alone  \n",
              "0        True  NaN  Southampton    no  False  \n",
              "1       False    C    Cherbourg   yes  False  \n",
              "2       False  NaN  Southampton   yes   True  \n",
              "3       False    C  Southampton   yes  False  \n",
              "4        True  NaN  Southampton    no   True  "
            ],
            "text/html": [
              "\n",
              "  <div id=\"df-a4b1c8f5-20d1-4e24-9669-3ed4d73dcf96\">\n",
              "    <div class=\"colab-df-container\">\n",
              "      <div>\n",
              "<style scoped>\n",
              "    .dataframe tbody tr th:only-of-type {\n",
              "        vertical-align: middle;\n",
              "    }\n",
              "\n",
              "    .dataframe tbody tr th {\n",
              "        vertical-align: top;\n",
              "    }\n",
              "\n",
              "    .dataframe thead th {\n",
              "        text-align: right;\n",
              "    }\n",
              "</style>\n",
              "<table border=\"1\" class=\"dataframe\">\n",
              "  <thead>\n",
              "    <tr style=\"text-align: right;\">\n",
              "      <th></th>\n",
              "      <th>survived</th>\n",
              "      <th>pclass</th>\n",
              "      <th>sex</th>\n",
              "      <th>age</th>\n",
              "      <th>sibsp</th>\n",
              "      <th>parch</th>\n",
              "      <th>fare</th>\n",
              "      <th>embarked</th>\n",
              "      <th>class</th>\n",
              "      <th>who</th>\n",
              "      <th>adult_male</th>\n",
              "      <th>deck</th>\n",
              "      <th>embark_town</th>\n",
              "      <th>alive</th>\n",
              "      <th>alone</th>\n",
              "    </tr>\n",
              "  </thead>\n",
              "  <tbody>\n",
              "    <tr>\n",
              "      <th>0</th>\n",
              "      <td>0</td>\n",
              "      <td>3</td>\n",
              "      <td>0</td>\n",
              "      <td>22.0</td>\n",
              "      <td>1</td>\n",
              "      <td>0</td>\n",
              "      <td>7.2500</td>\n",
              "      <td>0</td>\n",
              "      <td>2</td>\n",
              "      <td>0</td>\n",
              "      <td>True</td>\n",
              "      <td>NaN</td>\n",
              "      <td>Southampton</td>\n",
              "      <td>no</td>\n",
              "      <td>False</td>\n",
              "    </tr>\n",
              "    <tr>\n",
              "      <th>1</th>\n",
              "      <td>1</td>\n",
              "      <td>1</td>\n",
              "      <td>1</td>\n",
              "      <td>38.0</td>\n",
              "      <td>1</td>\n",
              "      <td>0</td>\n",
              "      <td>71.2833</td>\n",
              "      <td>1</td>\n",
              "      <td>0</td>\n",
              "      <td>1</td>\n",
              "      <td>False</td>\n",
              "      <td>C</td>\n",
              "      <td>Cherbourg</td>\n",
              "      <td>yes</td>\n",
              "      <td>False</td>\n",
              "    </tr>\n",
              "    <tr>\n",
              "      <th>2</th>\n",
              "      <td>1</td>\n",
              "      <td>3</td>\n",
              "      <td>1</td>\n",
              "      <td>26.0</td>\n",
              "      <td>0</td>\n",
              "      <td>0</td>\n",
              "      <td>7.9250</td>\n",
              "      <td>0</td>\n",
              "      <td>2</td>\n",
              "      <td>1</td>\n",
              "      <td>False</td>\n",
              "      <td>NaN</td>\n",
              "      <td>Southampton</td>\n",
              "      <td>yes</td>\n",
              "      <td>True</td>\n",
              "    </tr>\n",
              "    <tr>\n",
              "      <th>3</th>\n",
              "      <td>1</td>\n",
              "      <td>1</td>\n",
              "      <td>1</td>\n",
              "      <td>35.0</td>\n",
              "      <td>1</td>\n",
              "      <td>0</td>\n",
              "      <td>53.1000</td>\n",
              "      <td>0</td>\n",
              "      <td>0</td>\n",
              "      <td>1</td>\n",
              "      <td>False</td>\n",
              "      <td>C</td>\n",
              "      <td>Southampton</td>\n",
              "      <td>yes</td>\n",
              "      <td>False</td>\n",
              "    </tr>\n",
              "    <tr>\n",
              "      <th>4</th>\n",
              "      <td>0</td>\n",
              "      <td>3</td>\n",
              "      <td>0</td>\n",
              "      <td>35.0</td>\n",
              "      <td>0</td>\n",
              "      <td>0</td>\n",
              "      <td>8.0500</td>\n",
              "      <td>0</td>\n",
              "      <td>2</td>\n",
              "      <td>0</td>\n",
              "      <td>True</td>\n",
              "      <td>NaN</td>\n",
              "      <td>Southampton</td>\n",
              "      <td>no</td>\n",
              "      <td>True</td>\n",
              "    </tr>\n",
              "  </tbody>\n",
              "</table>\n",
              "</div>\n",
              "      <button class=\"colab-df-convert\" onclick=\"convertToInteractive('df-a4b1c8f5-20d1-4e24-9669-3ed4d73dcf96')\"\n",
              "              title=\"Convert this dataframe to an interactive table.\"\n",
              "              style=\"display:none;\">\n",
              "        \n",
              "  <svg xmlns=\"http://www.w3.org/2000/svg\" height=\"24px\"viewBox=\"0 0 24 24\"\n",
              "       width=\"24px\">\n",
              "    <path d=\"M0 0h24v24H0V0z\" fill=\"none\"/>\n",
              "    <path d=\"M18.56 5.44l.94 2.06.94-2.06 2.06-.94-2.06-.94-.94-2.06-.94 2.06-2.06.94zm-11 1L8.5 8.5l.94-2.06 2.06-.94-2.06-.94L8.5 2.5l-.94 2.06-2.06.94zm10 10l.94 2.06.94-2.06 2.06-.94-2.06-.94-.94-2.06-.94 2.06-2.06.94z\"/><path d=\"M17.41 7.96l-1.37-1.37c-.4-.4-.92-.59-1.43-.59-.52 0-1.04.2-1.43.59L10.3 9.45l-7.72 7.72c-.78.78-.78 2.05 0 2.83L4 21.41c.39.39.9.59 1.41.59.51 0 1.02-.2 1.41-.59l7.78-7.78 2.81-2.81c.8-.78.8-2.07 0-2.86zM5.41 20L4 18.59l7.72-7.72 1.47 1.35L5.41 20z\"/>\n",
              "  </svg>\n",
              "      </button>\n",
              "      \n",
              "  <style>\n",
              "    .colab-df-container {\n",
              "      display:flex;\n",
              "      flex-wrap:wrap;\n",
              "      gap: 12px;\n",
              "    }\n",
              "\n",
              "    .colab-df-convert {\n",
              "      background-color: #E8F0FE;\n",
              "      border: none;\n",
              "      border-radius: 50%;\n",
              "      cursor: pointer;\n",
              "      display: none;\n",
              "      fill: #1967D2;\n",
              "      height: 32px;\n",
              "      padding: 0 0 0 0;\n",
              "      width: 32px;\n",
              "    }\n",
              "\n",
              "    .colab-df-convert:hover {\n",
              "      background-color: #E2EBFA;\n",
              "      box-shadow: 0px 1px 2px rgba(60, 64, 67, 0.3), 0px 1px 3px 1px rgba(60, 64, 67, 0.15);\n",
              "      fill: #174EA6;\n",
              "    }\n",
              "\n",
              "    [theme=dark] .colab-df-convert {\n",
              "      background-color: #3B4455;\n",
              "      fill: #D2E3FC;\n",
              "    }\n",
              "\n",
              "    [theme=dark] .colab-df-convert:hover {\n",
              "      background-color: #434B5C;\n",
              "      box-shadow: 0px 1px 3px 1px rgba(0, 0, 0, 0.15);\n",
              "      filter: drop-shadow(0px 1px 2px rgba(0, 0, 0, 0.3));\n",
              "      fill: #FFFFFF;\n",
              "    }\n",
              "  </style>\n",
              "\n",
              "      <script>\n",
              "        const buttonEl =\n",
              "          document.querySelector('#df-a4b1c8f5-20d1-4e24-9669-3ed4d73dcf96 button.colab-df-convert');\n",
              "        buttonEl.style.display =\n",
              "          google.colab.kernel.accessAllowed ? 'block' : 'none';\n",
              "\n",
              "        async function convertToInteractive(key) {\n",
              "          const element = document.querySelector('#df-a4b1c8f5-20d1-4e24-9669-3ed4d73dcf96');\n",
              "          const dataTable =\n",
              "            await google.colab.kernel.invokeFunction('convertToInteractive',\n",
              "                                                     [key], {});\n",
              "          if (!dataTable) return;\n",
              "\n",
              "          const docLinkHtml = 'Like what you see? Visit the ' +\n",
              "            '<a target=\"_blank\" href=https://colab.research.google.com/notebooks/data_table.ipynb>data table notebook</a>'\n",
              "            + ' to learn more about interactive tables.';\n",
              "          element.innerHTML = '';\n",
              "          dataTable['output_type'] = 'display_data';\n",
              "          await google.colab.output.renderOutput(dataTable, element);\n",
              "          const docLink = document.createElement('div');\n",
              "          docLink.innerHTML = docLinkHtml;\n",
              "          element.appendChild(docLink);\n",
              "        }\n",
              "      </script>\n",
              "    </div>\n",
              "  </div>\n",
              "  "
            ]
          },
          "metadata": {},
          "execution_count": 447
        }
      ]
    },
    {
      "cell_type": "markdown",
      "metadata": {
        "id": "kOEeHLwzQFs6"
      },
      "source": [
        "Separating features & Target"
      ]
    },
    {
      "cell_type": "code",
      "metadata": {
        "id": "CW6a3AjFP8At"
      },
      "source": [
        "X = titanic_data.drop(columns = ['survived','deck','embark_town','alive','adult_male','alone'],axis=1)\n",
        "Y = titanic_data['survived']"
      ],
      "execution_count": 448,
      "outputs": []
    },
    {
      "cell_type": "code",
      "source": [
        "X"
      ],
      "metadata": {
        "colab": {
          "base_uri": "https://localhost:8080/",
          "height": 423
        },
        "id": "wH4guug3lEe-",
        "outputId": "6089c251-39bf-4d37-f0ca-ac4a6d802c3b"
      },
      "execution_count": 449,
      "outputs": [
        {
          "output_type": "execute_result",
          "data": {
            "text/plain": [
              "     pclass  sex        age  sibsp  parch     fare  embarked class  who\n",
              "0         3    0  22.000000      1      0   7.2500         0     2    0\n",
              "1         1    1  38.000000      1      0  71.2833         1     0    1\n",
              "2         3    1  26.000000      0      0   7.9250         0     2    1\n",
              "3         1    1  35.000000      1      0  53.1000         0     0    1\n",
              "4         3    0  35.000000      0      0   8.0500         0     2    0\n",
              "..      ...  ...        ...    ...    ...      ...       ...   ...  ...\n",
              "886       2    0  27.000000      0      0  13.0000         0     1    0\n",
              "887       1    1  19.000000      0      0  30.0000         0     0    1\n",
              "888       3    1  29.699118      1      2  23.4500         0     2    1\n",
              "889       1    0  26.000000      0      0  30.0000         1     0    0\n",
              "890       3    0  32.000000      0      0   7.7500         2     2    0\n",
              "\n",
              "[891 rows x 9 columns]"
            ],
            "text/html": [
              "\n",
              "  <div id=\"df-e0d368fb-ad1b-4544-a971-72e409dc70c7\">\n",
              "    <div class=\"colab-df-container\">\n",
              "      <div>\n",
              "<style scoped>\n",
              "    .dataframe tbody tr th:only-of-type {\n",
              "        vertical-align: middle;\n",
              "    }\n",
              "\n",
              "    .dataframe tbody tr th {\n",
              "        vertical-align: top;\n",
              "    }\n",
              "\n",
              "    .dataframe thead th {\n",
              "        text-align: right;\n",
              "    }\n",
              "</style>\n",
              "<table border=\"1\" class=\"dataframe\">\n",
              "  <thead>\n",
              "    <tr style=\"text-align: right;\">\n",
              "      <th></th>\n",
              "      <th>pclass</th>\n",
              "      <th>sex</th>\n",
              "      <th>age</th>\n",
              "      <th>sibsp</th>\n",
              "      <th>parch</th>\n",
              "      <th>fare</th>\n",
              "      <th>embarked</th>\n",
              "      <th>class</th>\n",
              "      <th>who</th>\n",
              "    </tr>\n",
              "  </thead>\n",
              "  <tbody>\n",
              "    <tr>\n",
              "      <th>0</th>\n",
              "      <td>3</td>\n",
              "      <td>0</td>\n",
              "      <td>22.000000</td>\n",
              "      <td>1</td>\n",
              "      <td>0</td>\n",
              "      <td>7.2500</td>\n",
              "      <td>0</td>\n",
              "      <td>2</td>\n",
              "      <td>0</td>\n",
              "    </tr>\n",
              "    <tr>\n",
              "      <th>1</th>\n",
              "      <td>1</td>\n",
              "      <td>1</td>\n",
              "      <td>38.000000</td>\n",
              "      <td>1</td>\n",
              "      <td>0</td>\n",
              "      <td>71.2833</td>\n",
              "      <td>1</td>\n",
              "      <td>0</td>\n",
              "      <td>1</td>\n",
              "    </tr>\n",
              "    <tr>\n",
              "      <th>2</th>\n",
              "      <td>3</td>\n",
              "      <td>1</td>\n",
              "      <td>26.000000</td>\n",
              "      <td>0</td>\n",
              "      <td>0</td>\n",
              "      <td>7.9250</td>\n",
              "      <td>0</td>\n",
              "      <td>2</td>\n",
              "      <td>1</td>\n",
              "    </tr>\n",
              "    <tr>\n",
              "      <th>3</th>\n",
              "      <td>1</td>\n",
              "      <td>1</td>\n",
              "      <td>35.000000</td>\n",
              "      <td>1</td>\n",
              "      <td>0</td>\n",
              "      <td>53.1000</td>\n",
              "      <td>0</td>\n",
              "      <td>0</td>\n",
              "      <td>1</td>\n",
              "    </tr>\n",
              "    <tr>\n",
              "      <th>4</th>\n",
              "      <td>3</td>\n",
              "      <td>0</td>\n",
              "      <td>35.000000</td>\n",
              "      <td>0</td>\n",
              "      <td>0</td>\n",
              "      <td>8.0500</td>\n",
              "      <td>0</td>\n",
              "      <td>2</td>\n",
              "      <td>0</td>\n",
              "    </tr>\n",
              "    <tr>\n",
              "      <th>...</th>\n",
              "      <td>...</td>\n",
              "      <td>...</td>\n",
              "      <td>...</td>\n",
              "      <td>...</td>\n",
              "      <td>...</td>\n",
              "      <td>...</td>\n",
              "      <td>...</td>\n",
              "      <td>...</td>\n",
              "      <td>...</td>\n",
              "    </tr>\n",
              "    <tr>\n",
              "      <th>886</th>\n",
              "      <td>2</td>\n",
              "      <td>0</td>\n",
              "      <td>27.000000</td>\n",
              "      <td>0</td>\n",
              "      <td>0</td>\n",
              "      <td>13.0000</td>\n",
              "      <td>0</td>\n",
              "      <td>1</td>\n",
              "      <td>0</td>\n",
              "    </tr>\n",
              "    <tr>\n",
              "      <th>887</th>\n",
              "      <td>1</td>\n",
              "      <td>1</td>\n",
              "      <td>19.000000</td>\n",
              "      <td>0</td>\n",
              "      <td>0</td>\n",
              "      <td>30.0000</td>\n",
              "      <td>0</td>\n",
              "      <td>0</td>\n",
              "      <td>1</td>\n",
              "    </tr>\n",
              "    <tr>\n",
              "      <th>888</th>\n",
              "      <td>3</td>\n",
              "      <td>1</td>\n",
              "      <td>29.699118</td>\n",
              "      <td>1</td>\n",
              "      <td>2</td>\n",
              "      <td>23.4500</td>\n",
              "      <td>0</td>\n",
              "      <td>2</td>\n",
              "      <td>1</td>\n",
              "    </tr>\n",
              "    <tr>\n",
              "      <th>889</th>\n",
              "      <td>1</td>\n",
              "      <td>0</td>\n",
              "      <td>26.000000</td>\n",
              "      <td>0</td>\n",
              "      <td>0</td>\n",
              "      <td>30.0000</td>\n",
              "      <td>1</td>\n",
              "      <td>0</td>\n",
              "      <td>0</td>\n",
              "    </tr>\n",
              "    <tr>\n",
              "      <th>890</th>\n",
              "      <td>3</td>\n",
              "      <td>0</td>\n",
              "      <td>32.000000</td>\n",
              "      <td>0</td>\n",
              "      <td>0</td>\n",
              "      <td>7.7500</td>\n",
              "      <td>2</td>\n",
              "      <td>2</td>\n",
              "      <td>0</td>\n",
              "    </tr>\n",
              "  </tbody>\n",
              "</table>\n",
              "<p>891 rows × 9 columns</p>\n",
              "</div>\n",
              "      <button class=\"colab-df-convert\" onclick=\"convertToInteractive('df-e0d368fb-ad1b-4544-a971-72e409dc70c7')\"\n",
              "              title=\"Convert this dataframe to an interactive table.\"\n",
              "              style=\"display:none;\">\n",
              "        \n",
              "  <svg xmlns=\"http://www.w3.org/2000/svg\" height=\"24px\"viewBox=\"0 0 24 24\"\n",
              "       width=\"24px\">\n",
              "    <path d=\"M0 0h24v24H0V0z\" fill=\"none\"/>\n",
              "    <path d=\"M18.56 5.44l.94 2.06.94-2.06 2.06-.94-2.06-.94-.94-2.06-.94 2.06-2.06.94zm-11 1L8.5 8.5l.94-2.06 2.06-.94-2.06-.94L8.5 2.5l-.94 2.06-2.06.94zm10 10l.94 2.06.94-2.06 2.06-.94-2.06-.94-.94-2.06-.94 2.06-2.06.94z\"/><path d=\"M17.41 7.96l-1.37-1.37c-.4-.4-.92-.59-1.43-.59-.52 0-1.04.2-1.43.59L10.3 9.45l-7.72 7.72c-.78.78-.78 2.05 0 2.83L4 21.41c.39.39.9.59 1.41.59.51 0 1.02-.2 1.41-.59l7.78-7.78 2.81-2.81c.8-.78.8-2.07 0-2.86zM5.41 20L4 18.59l7.72-7.72 1.47 1.35L5.41 20z\"/>\n",
              "  </svg>\n",
              "      </button>\n",
              "      \n",
              "  <style>\n",
              "    .colab-df-container {\n",
              "      display:flex;\n",
              "      flex-wrap:wrap;\n",
              "      gap: 12px;\n",
              "    }\n",
              "\n",
              "    .colab-df-convert {\n",
              "      background-color: #E8F0FE;\n",
              "      border: none;\n",
              "      border-radius: 50%;\n",
              "      cursor: pointer;\n",
              "      display: none;\n",
              "      fill: #1967D2;\n",
              "      height: 32px;\n",
              "      padding: 0 0 0 0;\n",
              "      width: 32px;\n",
              "    }\n",
              "\n",
              "    .colab-df-convert:hover {\n",
              "      background-color: #E2EBFA;\n",
              "      box-shadow: 0px 1px 2px rgba(60, 64, 67, 0.3), 0px 1px 3px 1px rgba(60, 64, 67, 0.15);\n",
              "      fill: #174EA6;\n",
              "    }\n",
              "\n",
              "    [theme=dark] .colab-df-convert {\n",
              "      background-color: #3B4455;\n",
              "      fill: #D2E3FC;\n",
              "    }\n",
              "\n",
              "    [theme=dark] .colab-df-convert:hover {\n",
              "      background-color: #434B5C;\n",
              "      box-shadow: 0px 1px 3px 1px rgba(0, 0, 0, 0.15);\n",
              "      filter: drop-shadow(0px 1px 2px rgba(0, 0, 0, 0.3));\n",
              "      fill: #FFFFFF;\n",
              "    }\n",
              "  </style>\n",
              "\n",
              "      <script>\n",
              "        const buttonEl =\n",
              "          document.querySelector('#df-e0d368fb-ad1b-4544-a971-72e409dc70c7 button.colab-df-convert');\n",
              "        buttonEl.style.display =\n",
              "          google.colab.kernel.accessAllowed ? 'block' : 'none';\n",
              "\n",
              "        async function convertToInteractive(key) {\n",
              "          const element = document.querySelector('#df-e0d368fb-ad1b-4544-a971-72e409dc70c7');\n",
              "          const dataTable =\n",
              "            await google.colab.kernel.invokeFunction('convertToInteractive',\n",
              "                                                     [key], {});\n",
              "          if (!dataTable) return;\n",
              "\n",
              "          const docLinkHtml = 'Like what you see? Visit the ' +\n",
              "            '<a target=\"_blank\" href=https://colab.research.google.com/notebooks/data_table.ipynb>data table notebook</a>'\n",
              "            + ' to learn more about interactive tables.';\n",
              "          element.innerHTML = '';\n",
              "          dataTable['output_type'] = 'display_data';\n",
              "          await google.colab.output.renderOutput(dataTable, element);\n",
              "          const docLink = document.createElement('div');\n",
              "          docLink.innerHTML = docLinkHtml;\n",
              "          element.appendChild(docLink);\n",
              "        }\n",
              "      </script>\n",
              "    </div>\n",
              "  </div>\n",
              "  "
            ]
          },
          "metadata": {},
          "execution_count": 449
        }
      ]
    },
    {
      "cell_type": "markdown",
      "metadata": {
        "id": "RpQJXUhYQ0YO"
      },
      "source": [
        "Splitting the data into training data & Test data"
      ]
    },
    {
      "cell_type": "code",
      "metadata": {
        "id": "B2zVx7kpQxiY"
      },
      "source": [
        "X_train, X_test, Y_train, Y_test = train_test_split(X,Y, test_size=0.12, random_state=2)\n",
        "X_train, X_val, y_train, y_val = train_test_split(X_train, Y_train, test_size=0.1, random_state=1)"
      ],
      "execution_count": 450,
      "outputs": []
    },
    {
      "cell_type": "code",
      "metadata": {
        "id": "FJGHBJgiU4ZB"
      },
      "source": [
        "X_train=np.asarray(X_train).astype(np.float32)"
      ],
      "execution_count": 451,
      "outputs": []
    },
    {
      "cell_type": "code",
      "source": [
        "Y_train=np.asarray(Y_train).astype(np.float32)"
      ],
      "metadata": {
        "id": "TnYZ7jHuhw5I"
      },
      "execution_count": 452,
      "outputs": []
    },
    {
      "cell_type": "code",
      "source": [
        "import keras\n",
        "from keras import  Model,Input\n",
        "from keras.layers import Dense"
      ],
      "metadata": {
        "id": "wrH7OadmhzWZ"
      },
      "execution_count": 453,
      "outputs": []
    },
    {
      "cell_type": "code",
      "source": [
        "inp=Input(shape=(X_train.shape[1],))\n",
        "l1=Dense(16,activation='relu')(inp)\n",
        "l3=Dense(4,activation='relu')(l1)\n",
        "out=Dense(1,activation='sigmoid')(l3)\n",
        "model=Model(inputs=inp,outputs=out)"
      ],
      "metadata": {
        "id": "-YiHhJG5iWm9"
      },
      "execution_count": 454,
      "outputs": []
    },
    {
      "cell_type": "code",
      "source": [
        "model.compile(optimizer='sgd',loss='binary_crossentropy',metrics=['accuracy'])"
      ],
      "metadata": {
        "id": "5GlYnkCnj2DX"
      },
      "execution_count": 455,
      "outputs": []
    },
    {
      "cell_type": "code",
      "source": [
        "history=model.fit(X_train,y_train,epochs=120,validation_data=(X_val, y_val),shuffle=True)"
      ],
      "metadata": {
        "colab": {
          "base_uri": "https://localhost:8080/"
        },
        "id": "ENsSLV9KkM-u",
        "outputId": "5fcb3b30-7f49-42fc-a5e8-d9393b84d027"
      },
      "execution_count": 456,
      "outputs": [
        {
          "output_type": "stream",
          "name": "stdout",
          "text": [
            "Epoch 1/120\n",
            "23/23 [==============================] - 1s 18ms/step - loss: 1.0930 - accuracy: 0.6652 - val_loss: 0.7962 - val_accuracy: 0.7215\n",
            "Epoch 2/120\n",
            "23/23 [==============================] - 0s 7ms/step - loss: 0.7071 - accuracy: 0.6241 - val_loss: 0.6813 - val_accuracy: 0.6709\n",
            "Epoch 3/120\n",
            "23/23 [==============================] - 0s 7ms/step - loss: 0.6840 - accuracy: 0.6199 - val_loss: 0.6774 - val_accuracy: 0.6709\n",
            "Epoch 4/120\n",
            "23/23 [==============================] - 0s 6ms/step - loss: 0.6817 - accuracy: 0.6184 - val_loss: 0.6739 - val_accuracy: 0.6709\n",
            "Epoch 5/120\n",
            "23/23 [==============================] - 0s 6ms/step - loss: 0.6795 - accuracy: 0.6184 - val_loss: 0.6720 - val_accuracy: 0.6709\n",
            "Epoch 6/120\n",
            "23/23 [==============================] - 0s 6ms/step - loss: 0.6784 - accuracy: 0.6184 - val_loss: 0.6690 - val_accuracy: 0.6709\n",
            "Epoch 7/120\n",
            "23/23 [==============================] - 0s 5ms/step - loss: 0.6767 - accuracy: 0.6184 - val_loss: 0.6662 - val_accuracy: 0.6709\n",
            "Epoch 8/120\n",
            "23/23 [==============================] - 0s 6ms/step - loss: 0.6751 - accuracy: 0.6184 - val_loss: 0.6650 - val_accuracy: 0.6709\n",
            "Epoch 9/120\n",
            "23/23 [==============================] - 0s 7ms/step - loss: 0.6744 - accuracy: 0.6184 - val_loss: 0.6638 - val_accuracy: 0.6709\n",
            "Epoch 10/120\n",
            "23/23 [==============================] - 0s 7ms/step - loss: 0.6737 - accuracy: 0.6184 - val_loss: 0.6626 - val_accuracy: 0.6709\n",
            "Epoch 11/120\n",
            "23/23 [==============================] - 0s 7ms/step - loss: 0.6731 - accuracy: 0.6184 - val_loss: 0.6605 - val_accuracy: 0.6709\n",
            "Epoch 12/120\n",
            "23/23 [==============================] - 0s 6ms/step - loss: 0.6720 - accuracy: 0.6184 - val_loss: 0.6586 - val_accuracy: 0.6709\n",
            "Epoch 13/120\n",
            "23/23 [==============================] - 0s 4ms/step - loss: 0.6710 - accuracy: 0.6184 - val_loss: 0.6568 - val_accuracy: 0.6709\n",
            "Epoch 14/120\n",
            "23/23 [==============================] - 0s 4ms/step - loss: 0.6702 - accuracy: 0.6184 - val_loss: 0.6562 - val_accuracy: 0.6709\n",
            "Epoch 15/120\n",
            "23/23 [==============================] - 0s 4ms/step - loss: 0.6699 - accuracy: 0.6184 - val_loss: 0.6546 - val_accuracy: 0.6709\n",
            "Epoch 16/120\n",
            "23/23 [==============================] - 0s 3ms/step - loss: 0.6691 - accuracy: 0.6184 - val_loss: 0.6541 - val_accuracy: 0.6709\n",
            "Epoch 17/120\n",
            "23/23 [==============================] - 0s 4ms/step - loss: 0.6689 - accuracy: 0.6184 - val_loss: 0.6537 - val_accuracy: 0.6709\n",
            "Epoch 18/120\n",
            "23/23 [==============================] - 0s 4ms/step - loss: 0.6687 - accuracy: 0.6184 - val_loss: 0.6524 - val_accuracy: 0.6709\n",
            "Epoch 19/120\n",
            "23/23 [==============================] - 0s 4ms/step - loss: 0.6681 - accuracy: 0.6184 - val_loss: 0.6520 - val_accuracy: 0.6709\n",
            "Epoch 20/120\n",
            "23/23 [==============================] - 0s 4ms/step - loss: 0.6679 - accuracy: 0.6184 - val_loss: 0.6517 - val_accuracy: 0.6709\n",
            "Epoch 21/120\n",
            "23/23 [==============================] - 0s 4ms/step - loss: 0.6678 - accuracy: 0.6184 - val_loss: 0.6515 - val_accuracy: 0.6709\n",
            "Epoch 22/120\n",
            "23/23 [==============================] - 0s 4ms/step - loss: 0.6677 - accuracy: 0.6184 - val_loss: 0.6512 - val_accuracy: 0.6709\n",
            "Epoch 23/120\n",
            "23/23 [==============================] - 0s 3ms/step - loss: 0.6675 - accuracy: 0.6184 - val_loss: 0.6501 - val_accuracy: 0.6709\n",
            "Epoch 24/120\n",
            "23/23 [==============================] - 0s 4ms/step - loss: 0.6671 - accuracy: 0.6184 - val_loss: 0.6490 - val_accuracy: 0.6709\n",
            "Epoch 25/120\n",
            "23/23 [==============================] - 0s 5ms/step - loss: 0.6667 - accuracy: 0.6184 - val_loss: 0.6481 - val_accuracy: 0.6709\n",
            "Epoch 26/120\n",
            "23/23 [==============================] - 0s 6ms/step - loss: 0.6663 - accuracy: 0.6184 - val_loss: 0.6472 - val_accuracy: 0.6709\n",
            "Epoch 27/120\n",
            "23/23 [==============================] - 0s 5ms/step - loss: 0.6661 - accuracy: 0.6184 - val_loss: 0.6472 - val_accuracy: 0.6709\n",
            "Epoch 28/120\n",
            "23/23 [==============================] - 0s 5ms/step - loss: 0.6660 - accuracy: 0.6184 - val_loss: 0.6472 - val_accuracy: 0.6709\n",
            "Epoch 29/120\n",
            "23/23 [==============================] - 0s 5ms/step - loss: 0.6660 - accuracy: 0.6184 - val_loss: 0.6260 - val_accuracy: 0.6962\n",
            "Epoch 30/120\n",
            "23/23 [==============================] - 0s 4ms/step - loss: 0.6678 - accuracy: 0.6184 - val_loss: 0.6465 - val_accuracy: 0.6709\n",
            "Epoch 31/120\n",
            "23/23 [==============================] - 0s 4ms/step - loss: 0.6662 - accuracy: 0.6170 - val_loss: 0.6455 - val_accuracy: 0.6709\n",
            "Epoch 32/120\n",
            "23/23 [==============================] - 0s 4ms/step - loss: 0.6658 - accuracy: 0.6170 - val_loss: 0.6449 - val_accuracy: 0.6709\n",
            "Epoch 33/120\n",
            "23/23 [==============================] - 0s 4ms/step - loss: 0.6655 - accuracy: 0.6184 - val_loss: 0.6443 - val_accuracy: 0.6709\n",
            "Epoch 34/120\n",
            "23/23 [==============================] - 0s 4ms/step - loss: 0.6655 - accuracy: 0.6170 - val_loss: 0.6437 - val_accuracy: 0.6709\n",
            "Epoch 35/120\n",
            "23/23 [==============================] - 0s 5ms/step - loss: 0.6651 - accuracy: 0.6184 - val_loss: 0.6432 - val_accuracy: 0.6709\n",
            "Epoch 36/120\n",
            "23/23 [==============================] - 0s 4ms/step - loss: 0.6650 - accuracy: 0.6184 - val_loss: 0.6434 - val_accuracy: 0.6709\n",
            "Epoch 37/120\n",
            "23/23 [==============================] - 0s 4ms/step - loss: 0.6650 - accuracy: 0.6184 - val_loss: 0.6435 - val_accuracy: 0.6709\n",
            "Epoch 38/120\n",
            "23/23 [==============================] - 0s 5ms/step - loss: 0.6650 - accuracy: 0.6184 - val_loss: 0.6437 - val_accuracy: 0.6709\n",
            "Epoch 39/120\n",
            "23/23 [==============================] - 0s 4ms/step - loss: 0.6651 - accuracy: 0.6184 - val_loss: 0.6224 - val_accuracy: 0.7089\n",
            "Epoch 40/120\n",
            "23/23 [==============================] - 0s 4ms/step - loss: 0.6636 - accuracy: 0.6184 - val_loss: 0.6442 - val_accuracy: 0.6709\n",
            "Epoch 41/120\n",
            "23/23 [==============================] - 0s 4ms/step - loss: 0.6641 - accuracy: 0.6270 - val_loss: 0.6292 - val_accuracy: 0.6962\n",
            "Epoch 42/120\n",
            "23/23 [==============================] - 0s 4ms/step - loss: 0.6617 - accuracy: 0.6270 - val_loss: 0.6340 - val_accuracy: 0.6962\n",
            "Epoch 43/120\n",
            "23/23 [==============================] - 0s 4ms/step - loss: 0.6639 - accuracy: 0.6227 - val_loss: 0.6425 - val_accuracy: 0.6709\n",
            "Epoch 44/120\n",
            "23/23 [==============================] - 0s 4ms/step - loss: 0.6647 - accuracy: 0.6170 - val_loss: 0.6429 - val_accuracy: 0.6709\n",
            "Epoch 45/120\n",
            "23/23 [==============================] - 0s 4ms/step - loss: 0.6648 - accuracy: 0.6170 - val_loss: 0.6428 - val_accuracy: 0.6709\n",
            "Epoch 46/120\n",
            "23/23 [==============================] - 0s 5ms/step - loss: 0.6648 - accuracy: 0.6170 - val_loss: 0.6424 - val_accuracy: 0.6709\n",
            "Epoch 47/120\n",
            "23/23 [==============================] - 0s 4ms/step - loss: 0.6620 - accuracy: 0.6213 - val_loss: 0.6312 - val_accuracy: 0.6962\n",
            "Epoch 48/120\n",
            "23/23 [==============================] - 0s 4ms/step - loss: 0.6603 - accuracy: 0.6270 - val_loss: 0.6303 - val_accuracy: 0.6962\n",
            "Epoch 49/120\n",
            "23/23 [==============================] - 0s 5ms/step - loss: 0.6662 - accuracy: 0.6156 - val_loss: 0.6417 - val_accuracy: 0.6709\n",
            "Epoch 50/120\n",
            "23/23 [==============================] - 0s 4ms/step - loss: 0.6647 - accuracy: 0.6184 - val_loss: 0.6415 - val_accuracy: 0.6709\n",
            "Epoch 51/120\n",
            "23/23 [==============================] - 0s 4ms/step - loss: 0.6636 - accuracy: 0.6227 - val_loss: 0.6246 - val_accuracy: 0.6962\n",
            "Epoch 52/120\n",
            "23/23 [==============================] - 0s 4ms/step - loss: 0.6603 - accuracy: 0.6270 - val_loss: 0.6268 - val_accuracy: 0.6962\n",
            "Epoch 53/120\n",
            "23/23 [==============================] - 0s 4ms/step - loss: 0.6614 - accuracy: 0.6170 - val_loss: 1.0027 - val_accuracy: 0.6709\n",
            "Epoch 54/120\n",
            "23/23 [==============================] - 0s 4ms/step - loss: 0.7315 - accuracy: 0.6667 - val_loss: 0.6482 - val_accuracy: 0.6835\n",
            "Epoch 55/120\n",
            "23/23 [==============================] - 0s 4ms/step - loss: 0.6564 - accuracy: 0.6468 - val_loss: 0.6222 - val_accuracy: 0.7215\n",
            "Epoch 56/120\n",
            "23/23 [==============================] - 0s 4ms/step - loss: 0.6481 - accuracy: 0.6539 - val_loss: 0.6186 - val_accuracy: 0.7089\n",
            "Epoch 57/120\n",
            "23/23 [==============================] - 0s 4ms/step - loss: 0.6466 - accuracy: 0.6525 - val_loss: 0.6175 - val_accuracy: 0.7089\n",
            "Epoch 58/120\n",
            "23/23 [==============================] - 0s 4ms/step - loss: 0.6455 - accuracy: 0.6553 - val_loss: 0.6176 - val_accuracy: 0.7215\n",
            "Epoch 59/120\n",
            "23/23 [==============================] - 0s 5ms/step - loss: 0.6450 - accuracy: 0.6468 - val_loss: 0.6155 - val_accuracy: 0.7089\n",
            "Epoch 60/120\n",
            "23/23 [==============================] - 0s 4ms/step - loss: 0.6426 - accuracy: 0.6539 - val_loss: 0.6469 - val_accuracy: 0.6962\n",
            "Epoch 61/120\n",
            "23/23 [==============================] - 0s 4ms/step - loss: 0.6510 - accuracy: 0.6468 - val_loss: 0.6173 - val_accuracy: 0.7468\n",
            "Epoch 62/120\n",
            "23/23 [==============================] - 0s 5ms/step - loss: 0.6421 - accuracy: 0.6567 - val_loss: 0.6143 - val_accuracy: 0.7468\n",
            "Epoch 63/120\n",
            "23/23 [==============================] - 0s 4ms/step - loss: 0.6400 - accuracy: 0.6511 - val_loss: 0.6138 - val_accuracy: 0.7468\n",
            "Epoch 64/120\n",
            "23/23 [==============================] - 0s 5ms/step - loss: 0.6390 - accuracy: 0.6553 - val_loss: 0.6416 - val_accuracy: 0.7089\n",
            "Epoch 65/120\n",
            "23/23 [==============================] - 0s 5ms/step - loss: 0.6356 - accuracy: 0.6567 - val_loss: 0.6248 - val_accuracy: 0.7342\n",
            "Epoch 66/120\n",
            "23/23 [==============================] - 0s 4ms/step - loss: 0.6374 - accuracy: 0.6596 - val_loss: 0.6360 - val_accuracy: 0.7342\n",
            "Epoch 67/120\n",
            "23/23 [==============================] - 0s 4ms/step - loss: 0.6360 - accuracy: 0.6681 - val_loss: 0.6787 - val_accuracy: 0.6962\n",
            "Epoch 68/120\n",
            "23/23 [==============================] - 0s 4ms/step - loss: 0.6490 - accuracy: 0.6482 - val_loss: 0.6063 - val_accuracy: 0.7215\n",
            "Epoch 69/120\n",
            "23/23 [==============================] - 0s 5ms/step - loss: 0.6343 - accuracy: 0.6553 - val_loss: 0.6075 - val_accuracy: 0.7468\n",
            "Epoch 70/120\n",
            "23/23 [==============================] - 0s 4ms/step - loss: 0.6361 - accuracy: 0.6610 - val_loss: 0.6073 - val_accuracy: 0.7468\n",
            "Epoch 71/120\n",
            "23/23 [==============================] - 0s 5ms/step - loss: 0.6358 - accuracy: 0.6567 - val_loss: 0.6085 - val_accuracy: 0.7089\n",
            "Epoch 72/120\n",
            "23/23 [==============================] - 0s 5ms/step - loss: 0.6370 - accuracy: 0.6567 - val_loss: 0.6046 - val_accuracy: 0.7468\n",
            "Epoch 73/120\n",
            "23/23 [==============================] - 0s 4ms/step - loss: 0.6355 - accuracy: 0.6525 - val_loss: 0.6039 - val_accuracy: 0.7089\n",
            "Epoch 74/120\n",
            "23/23 [==============================] - 0s 4ms/step - loss: 0.6343 - accuracy: 0.6496 - val_loss: 0.6468 - val_accuracy: 0.7089\n",
            "Epoch 75/120\n",
            "23/23 [==============================] - 0s 4ms/step - loss: 0.6420 - accuracy: 0.6582 - val_loss: 0.6044 - val_accuracy: 0.7089\n",
            "Epoch 76/120\n",
            "23/23 [==============================] - 0s 5ms/step - loss: 0.6342 - accuracy: 0.6582 - val_loss: 0.6703 - val_accuracy: 0.6962\n",
            "Epoch 77/120\n",
            "23/23 [==============================] - 0s 4ms/step - loss: 0.6440 - accuracy: 0.6638 - val_loss: 0.6019 - val_accuracy: 0.7468\n",
            "Epoch 78/120\n",
            "23/23 [==============================] - 0s 4ms/step - loss: 0.6322 - accuracy: 0.6624 - val_loss: 0.6036 - val_accuracy: 0.7089\n",
            "Epoch 79/120\n",
            "23/23 [==============================] - 0s 5ms/step - loss: 0.6353 - accuracy: 0.6596 - val_loss: 0.5998 - val_accuracy: 0.7342\n",
            "Epoch 80/120\n",
            "23/23 [==============================] - 0s 4ms/step - loss: 0.6304 - accuracy: 0.6525 - val_loss: 0.6041 - val_accuracy: 0.7595\n",
            "Epoch 81/120\n",
            "23/23 [==============================] - 0s 4ms/step - loss: 0.6347 - accuracy: 0.6596 - val_loss: 0.6003 - val_accuracy: 0.7468\n",
            "Epoch 82/120\n",
            "23/23 [==============================] - 0s 5ms/step - loss: 0.6317 - accuracy: 0.6624 - val_loss: 0.6038 - val_accuracy: 0.7722\n",
            "Epoch 83/120\n",
            "23/23 [==============================] - 0s 4ms/step - loss: 0.6320 - accuracy: 0.6681 - val_loss: 0.6103 - val_accuracy: 0.7722\n",
            "Epoch 84/120\n",
            "23/23 [==============================] - 0s 4ms/step - loss: 0.6343 - accuracy: 0.6582 - val_loss: 0.6036 - val_accuracy: 0.6962\n",
            "Epoch 85/120\n",
            "23/23 [==============================] - 0s 4ms/step - loss: 0.6322 - accuracy: 0.6667 - val_loss: 0.6933 - val_accuracy: 0.6709\n",
            "Epoch 86/120\n",
            "23/23 [==============================] - 0s 5ms/step - loss: 0.6460 - accuracy: 0.6369 - val_loss: 0.5995 - val_accuracy: 0.7595\n",
            "Epoch 87/120\n",
            "23/23 [==============================] - 0s 5ms/step - loss: 0.6302 - accuracy: 0.6582 - val_loss: 0.5993 - val_accuracy: 0.7595\n",
            "Epoch 88/120\n",
            "23/23 [==============================] - 0s 4ms/step - loss: 0.6309 - accuracy: 0.6582 - val_loss: 0.5978 - val_accuracy: 0.7215\n",
            "Epoch 89/120\n",
            "23/23 [==============================] - 0s 4ms/step - loss: 0.6312 - accuracy: 0.6624 - val_loss: 0.5972 - val_accuracy: 0.7215\n",
            "Epoch 90/120\n",
            "23/23 [==============================] - 0s 4ms/step - loss: 0.6282 - accuracy: 0.6624 - val_loss: 0.6045 - val_accuracy: 0.7722\n",
            "Epoch 91/120\n",
            "23/23 [==============================] - 0s 4ms/step - loss: 0.6333 - accuracy: 0.6638 - val_loss: 0.7769 - val_accuracy: 0.6709\n",
            "Epoch 92/120\n",
            "23/23 [==============================] - 0s 5ms/step - loss: 0.6818 - accuracy: 0.6270 - val_loss: 0.5980 - val_accuracy: 0.7215\n",
            "Epoch 93/120\n",
            "23/23 [==============================] - 0s 4ms/step - loss: 0.6338 - accuracy: 0.6539 - val_loss: 0.5985 - val_accuracy: 0.7468\n",
            "Epoch 94/120\n",
            "23/23 [==============================] - 0s 5ms/step - loss: 0.6312 - accuracy: 0.6539 - val_loss: 0.6255 - val_accuracy: 0.7595\n",
            "Epoch 95/120\n",
            "23/23 [==============================] - 0s 4ms/step - loss: 0.6293 - accuracy: 0.6695 - val_loss: 0.5985 - val_accuracy: 0.7468\n",
            "Epoch 96/120\n",
            "23/23 [==============================] - 0s 5ms/step - loss: 0.6304 - accuracy: 0.6652 - val_loss: 0.6005 - val_accuracy: 0.7722\n",
            "Epoch 97/120\n",
            "23/23 [==============================] - 0s 5ms/step - loss: 0.6291 - accuracy: 0.6652 - val_loss: 0.5954 - val_accuracy: 0.7342\n",
            "Epoch 98/120\n",
            "23/23 [==============================] - 0s 5ms/step - loss: 0.6291 - accuracy: 0.6610 - val_loss: 0.5951 - val_accuracy: 0.7342\n",
            "Epoch 99/120\n",
            "23/23 [==============================] - 0s 5ms/step - loss: 0.6312 - accuracy: 0.6582 - val_loss: 0.5980 - val_accuracy: 0.7722\n",
            "Epoch 100/120\n",
            "23/23 [==============================] - 0s 5ms/step - loss: 0.6297 - accuracy: 0.6610 - val_loss: 0.6482 - val_accuracy: 0.7089\n",
            "Epoch 101/120\n",
            "23/23 [==============================] - 0s 5ms/step - loss: 0.6359 - accuracy: 0.6695 - val_loss: 0.6028 - val_accuracy: 0.7722\n",
            "Epoch 102/120\n",
            "23/23 [==============================] - 0s 5ms/step - loss: 0.6282 - accuracy: 0.6525 - val_loss: 0.6378 - val_accuracy: 0.7342\n",
            "Epoch 103/120\n",
            "23/23 [==============================] - 0s 6ms/step - loss: 0.6323 - accuracy: 0.6638 - val_loss: 0.7204 - val_accuracy: 0.6709\n",
            "Epoch 104/120\n",
            "23/23 [==============================] - 0s 5ms/step - loss: 0.6655 - accuracy: 0.6312 - val_loss: 0.5944 - val_accuracy: 0.7215\n",
            "Epoch 105/120\n",
            "23/23 [==============================] - 0s 8ms/step - loss: 0.6305 - accuracy: 0.6511 - val_loss: 0.5936 - val_accuracy: 0.7215\n",
            "Epoch 106/120\n",
            "23/23 [==============================] - 0s 7ms/step - loss: 0.6289 - accuracy: 0.6610 - val_loss: 0.5944 - val_accuracy: 0.7595\n",
            "Epoch 107/120\n",
            "23/23 [==============================] - 0s 6ms/step - loss: 0.6287 - accuracy: 0.6624 - val_loss: 0.6247 - val_accuracy: 0.7468\n",
            "Epoch 108/120\n",
            "23/23 [==============================] - 0s 6ms/step - loss: 0.6298 - accuracy: 0.6695 - val_loss: 0.5963 - val_accuracy: 0.7722\n",
            "Epoch 109/120\n",
            "23/23 [==============================] - 0s 7ms/step - loss: 0.6285 - accuracy: 0.6652 - val_loss: 0.6031 - val_accuracy: 0.7722\n",
            "Epoch 110/120\n",
            "23/23 [==============================] - 0s 6ms/step - loss: 0.6282 - accuracy: 0.6652 - val_loss: 0.6189 - val_accuracy: 0.7722\n",
            "Epoch 111/120\n",
            "23/23 [==============================] - 0s 7ms/step - loss: 0.6279 - accuracy: 0.6794 - val_loss: 0.6015 - val_accuracy: 0.7722\n",
            "Epoch 112/120\n",
            "23/23 [==============================] - 0s 7ms/step - loss: 0.6269 - accuracy: 0.6709 - val_loss: 0.5958 - val_accuracy: 0.7722\n",
            "Epoch 113/120\n",
            "23/23 [==============================] - 0s 6ms/step - loss: 0.6271 - accuracy: 0.6681 - val_loss: 0.6093 - val_accuracy: 0.7722\n",
            "Epoch 114/120\n",
            "23/23 [==============================] - 0s 6ms/step - loss: 0.6290 - accuracy: 0.6681 - val_loss: 0.6495 - val_accuracy: 0.7215\n",
            "Epoch 115/120\n",
            "23/23 [==============================] - 0s 6ms/step - loss: 0.6329 - accuracy: 0.6752 - val_loss: 0.6250 - val_accuracy: 0.7468\n",
            "Epoch 116/120\n",
            "23/23 [==============================] - 0s 8ms/step - loss: 0.6292 - accuracy: 0.6780 - val_loss: 0.5952 - val_accuracy: 0.7722\n",
            "Epoch 117/120\n",
            "23/23 [==============================] - 0s 6ms/step - loss: 0.6264 - accuracy: 0.6652 - val_loss: 0.5957 - val_accuracy: 0.7722\n",
            "Epoch 118/120\n",
            "23/23 [==============================] - 0s 7ms/step - loss: 0.6246 - accuracy: 0.6766 - val_loss: 0.6592 - val_accuracy: 0.6709\n",
            "Epoch 119/120\n",
            "23/23 [==============================] - 0s 7ms/step - loss: 0.6513 - accuracy: 0.6326 - val_loss: 0.5927 - val_accuracy: 0.7722\n",
            "Epoch 120/120\n",
            "23/23 [==============================] - 0s 8ms/step - loss: 0.6265 - accuracy: 0.6709 - val_loss: 0.5980 - val_accuracy: 0.7722\n"
          ]
        }
      ]
    },
    {
      "cell_type": "code",
      "source": [
        "test_loss, test_acc = model.evaluate(np.array(X_test), Y_test)\n",
        "print('Test accuracy:', test_acc)"
      ],
      "metadata": {
        "colab": {
          "base_uri": "https://localhost:8080/"
        },
        "id": "f8vthI8Fn3WR",
        "outputId": "98c11beb-afde-4da7-b86b-b6779ede72b0"
      },
      "execution_count": 457,
      "outputs": [
        {
          "output_type": "stream",
          "name": "stdout",
          "text": [
            "4/4 [==============================] - 0s 3ms/step - loss: 0.6626 - accuracy: 0.6355\n",
            "Test accuracy: 0.6355140209197998\n"
          ]
        }
      ]
    },
    {
      "cell_type": "code",
      "source": [
        "import matplotlib.pyplot as plt"
      ],
      "metadata": {
        "id": "BozI4rmLn-qU"
      },
      "execution_count": 458,
      "outputs": []
    },
    {
      "cell_type": "code",
      "source": [
        "loss_train = history.history['loss']\n",
        "loss_val = history.history['val_loss']\n",
        "epochs = range(1,121)\n",
        "plt.plot(epochs, loss_train, 'g', label='Training loss')\n",
        "plt.plot(epochs, loss_val, 'b', label='validation loss')\n",
        "plt.title('Training and Validation loss')\n",
        "plt.xlabel('Epochs')\n",
        "plt.ylabel('Loss')\n",
        "plt.legend()\n",
        "plt.show()\n"
      ],
      "metadata": {
        "colab": {
          "base_uri": "https://localhost:8080/",
          "height": 301
        },
        "id": "V8SN_XrLoOxD",
        "outputId": "b374c953-23ce-45f4-9a05-885f6eeba0da"
      },
      "execution_count": 459,
      "outputs": [
        {
          "output_type": "display_data",
          "data": {
            "text/plain": [
              "<Figure size 432x288 with 1 Axes>"
            ],
            "image/png": "[encoded data removed]"
          },
          "metadata": {}
        }
      ]
    }
  ]
}