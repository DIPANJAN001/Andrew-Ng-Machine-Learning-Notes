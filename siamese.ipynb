{
  "nbformat": 4,
  "nbformat_minor": 0,
  "metadata": {
    "colab": {
      "provenance": [],
      "authorship_tag": "ABX9TyOvbwcYYHdabGNB6ZX0BuGn",
      "include_colab_link": true
    },
    "kernelspec": {
      "name": "python3",
      "display_name": "Python 3"
    },
    "language_info": {
      "name": "python"
    }
  },
  "cells": [
    {
      "cell_type": "markdown",
      "metadata": {
        "id": "view-in-github",
        "colab_type": "text"
      },
      "source": [
        "<a href=\"https://colab.research.google.com/github/DIPANJAN001/Andrew-Ng-Machine-Learning-Notes/blob/master/siamese.ipynb\" target=\"_parent\"><img src=\"https://colab.research.google.com/assets/colab-badge.svg\" alt=\"Open In Colab\"/></a>"
      ]
    },
    {
      "cell_type": "code",
      "execution_count": null,
      "metadata": {
        "id": "hLvbLaNrY7A9"
      },
      "outputs": [],
      "source": [
        "import numpy as np\n",
        "import pandas as pd\n",
        "import tensorflow as tf\n",
        "from tensorflow.keras.layers import Input, Concatenate, Dense, Lambda\n",
        "from tensorflow.keras.models import Model\n",
        "from tensorflow.keras.losses import contrastive_loss\n",
        "from tensorflow.keras.optimizers import Adam\n",
        "from sklearn.model_selection import train_test_split\n",
        "\n",
        "# Load your one-hot encoded dataset (categorical features)\n",
        "# Ensure you have pairs of examples (severe, non-severe) for training\n",
        "\n",
        "# Create pairs for the Siamese network\n",
        "positive_pairs = []  # Pairs of similar claims (severe vs. severe)\n",
        "negative_pairs = []  # Pairs of dissimilar claims (severe vs. non-severe)\n",
        "\n",
        "# Split the dataset into training and testing sets\n",
        "X_train, X_test, y_train, y_test = train_test_split(np.concatenate((positive_pairs, negative_pairs)), np.concatenate((np.ones(len(positive_pairs)), np.zeros(len(negative_pairs))), test_size=0.2, random_state=42)\n",
        "\n",
        "# Define the Siamese network architecture\n",
        "def siamese_network(input_shape):\n",
        "    input = Input(shape=input_shape)\n",
        "    x = Dense(128, activation='relu')(input)  # Adjust units and activation as needed\n",
        "    x = Dense(64, activation='relu')(x)  # Add more layers or customize as needed\n",
        "    output = Dense(32)(x)  # Embedding dimension\n",
        "\n",
        "    return Model(input, output)\n",
        "\n",
        "# Define the contrastive loss function\n",
        "def contrastive_loss_with_margin(margin=1.0):\n",
        "    def contrastive_loss(y_true, y_pred):\n",
        "        square_pred = tf.square(y_pred)\n",
        "        margin_square = tf.square(tf.maximum(margin - y_pred, 0))\n",
        "        return tf.reduce_mean(y_true * square_pred + (1 - y_true) * margin_square)\n",
        "\n",
        "    return contrastive_loss\n",
        "\n",
        "# Build and compile the Siamese network\n",
        "input_shape = (input_dimension,)  # Adjust input dimension\n",
        "siamese_model = siamese_network(input_shape)\n",
        "\n",
        "input_a = Input(shape=input_shape)\n",
        "input_b = Input(shape=input_shape)\n",
        "\n",
        "output_a = siamese_model(input_a)\n",
        "output_b = siamese_model(input_b)\n",
        "\n",
        "# Use Lambda layer to calculate the Euclidean distance between the embeddings\n",
        "distance = Lambda(lambda x: tf.norm(x[0] - x[1], axis=-1, keepdims=True), output_shape=(1,))(Concatenate()([output_a, output_b]))\n",
        "\n",
        "siamese_model = Model(inputs=[input_a, input_b], outputs=distance)\n",
        "\n",
        "optimizer = Adam(learning_rate=0.001)\n",
        "siamese_model.compile(loss=contrastive_loss_with_margin(margin=1.0), optimizer=optimizer)\n",
        "\n",
        "# Train the Siamese network\n",
        "siamese_model.fit([X_train[:, 0], X_train[:, 1]], y_train, batch_size=64, epochs=10, validation_split=0.2)\n",
        "\n",
        "# Define a single-claim classifier\n",
        "single_claim_input = Input(shape=input_shape)\n",
        "\n",
        "# Add more Dense layers as needed\n",
        "x = Dense(128, activation='relu')(single_claim_input)\n",
        "x = Dense(64, activation='relu')(x)\n",
        "output = Dense(1, activation='sigmoid')(x)\n",
        "\n",
        "single_claim_classifier = Model(single_claim_input, output)\n",
        "\n",
        "# Compile the single-claim classifier\n",
        "single_claim_classifier.compile(optimizer='adam', loss='binary_crossentropy', metrics=['accuracy'])\n",
        "\n",
        "# Extract embeddings for a single test claim using the Siamese network\n",
        "test_claim_input = ...  # Your one-hot encoded test claim (preprocessed and shaped as needed)\n",
        "test_claim_embedding = siamese_model.predict([test_claim_input, test_claim_input])\n",
        "\n",
        "# Pass the test claim embedding to the single-claim classifier\n",
        "severe_probability = single_claim_classifier.predict(test_claim_embedding)\n",
        "\n",
        "# 'severe_probability' will contain the probability of the test claim being \"severe.\"\n"
      ]
    },
    {
      "cell_type": "code",
      "source": [
        "# Extract embeddings for a single test claim using the Siamese network\n",
        "test_claim_input = ...  # Your one-hot encoded test claim (preprocessed and shaped as needed)\n",
        "\n",
        "# Use the Siamese model to get the embedding for the single test claim\n",
        "test_claim_embedding = siamese_model.predict([test_claim_input, test_claim_input])\n",
        "\n",
        "# Pass the test claim embedding to the single-claim classifier\n",
        "severe_probability = single_claim_classifier.predict(test_claim_embedding)\n",
        "\n",
        "# 'severe_probability' will contain the probability of the test claim being \"severe.\"\n"
      ],
      "metadata": {
        "id": "Ou7udgGsZCal"
      },
      "execution_count": null,
      "outputs": []
    },
    {
      "cell_type": "code",
      "source": [
        "import numpy as np\n",
        "from sklearn.model_selection import train_test_split\n",
        "\n",
        "# Assume one_hot_data is your one-hot encoded feature matrix and labels is your 0/1 labels.\n",
        "one_hot_data = ...\n",
        "labels = ...\n",
        "\n",
        "# Create pairs and labels for Siamese network training\n",
        "positive_pairs = []\n",
        "negative_pairs = []\n",
        "\n",
        "# Loop through the data and create pairs\n",
        "for i in range(len(one_hot_data)):\n",
        "    for j in range(len(one_hot_data)):\n",
        "        if labels[i] == labels[j]:\n",
        "            positive_pairs.append((one_hot_data[i], one_hot_data[j], 1))\n",
        "        else:\n",
        "            negative_pairs.append((one_hot_data[i], one_hot_data[j], 0))\n",
        "\n",
        "# Combine positive and negative pairs\n",
        "pairs = positive_pairs + negative_pairs\n",
        "labels = np.array([pair[2] for pair in pairs])\n",
        "\n",
        "# Split the data into training and testing sets\n",
        "X_train, X_test, y_train, y_test = train_test_split(pairs, labels, test_size=0.2, random_state=42)\n"
      ],
      "metadata": {
        "id": "E3prDttQZFg6"
      },
      "execution_count": null,
      "outputs": []
    }
  ]
}