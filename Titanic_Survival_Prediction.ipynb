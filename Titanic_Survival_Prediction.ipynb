{
  "nbformat": 4,
  "nbformat_minor": 0,
  "metadata": {
    "colab": {
      "provenance": [],
      "include_colab_link": true
    },
    "kernelspec": {
      "name": "python3",
      "display_name": "Python 3"
    },
    "language_info": {
      "name": "python"
    }
  },
  "cells": [
    {
      "cell_type": "markdown",
      "metadata": {
        "id": "view-in-github",
        "colab_type": "text"
      },
      "source": [
        "<a href=\"https://colab.research.google.com/github/DIPANJAN001/Andrew-Ng-Machine-Learning-Notes/blob/master/Titanic_Survival_Prediction.ipynb\" target=\"_parent\"><img src=\"https://colab.research.google.com/assets/colab-badge.svg\" alt=\"Open In Colab\"/></a>"
      ]
    },
    {
      "cell_type": "markdown",
      "metadata": {
        "id": "zezY7SSIGrB2"
      },
      "source": [
        "Importing the Dependencies"
      ]
    },
    {
      "cell_type": "code",
      "metadata": {
        "id": "J1IoiqIICdkD"
      },
      "source": [
        "import numpy as np\n",
        "import pandas as pd\n",
        "import matplotlib.pyplot as plt\n",
        "import seaborn as sns\n",
        "from sklearn.model_selection import train_test_split\n",
        "from sklearn.linear_model import LogisticRegression\n",
        "from sklearn.metrics import accuracy_score"
      ],
      "execution_count": 394,
      "outputs": []
    },
    {
      "cell_type": "code",
      "source": [
        "import seaborn as sns"
      ],
      "metadata": {
        "id": "XbXeZnG6YRWs"
      },
      "execution_count": 395,
      "outputs": []
    },
    {
      "cell_type": "code",
      "source": [
        "titanic_data=sns.load_dataset('titanic')"
      ],
      "metadata": {
        "id": "A8G7PfxXZi1f"
      },
      "execution_count": 396,
      "outputs": []
    },
    {
      "cell_type": "markdown",
      "metadata": {
        "id": "JBcWmPL7HYg2"
      },
      "source": [
        "Data Collection & Processing"
      ]
    },
    {
      "cell_type": "code",
      "metadata": {
        "id": "YkwaUitoHW7v"
      },
      "source": [
        "# load the data from csv file to Pandas DataFrame\n",
        "# = pd.read_csv('/content/train.csv')"
      ],
      "execution_count": 397,
      "outputs": []
    },
    {
      "cell_type": "code",
      "metadata": {
        "colab": {
          "base_uri": "https://localhost:8080/",
          "height": 206
        },
        "id": "DVLxglk9ISqM",
        "outputId": "9fb78a9b-1dd6-4a3f-82ab-137804eb7335"
      },
      "source": [
        "# printing the first 5 rows of the dataframe\n",
        "titanic_data.head()"
      ],
      "execution_count": 398,
      "outputs": [
        {
          "output_type": "execute_result",
          "data": {
            "text/plain": [
              "   survived  pclass     sex   age  sibsp  parch     fare embarked  class  \\\n",
              "0         0       3    male  22.0      1      0   7.2500        S  Third   \n",
              "1         1       1  female  38.0      1      0  71.2833        C  First   \n",
              "2         1       3  female  26.0      0      0   7.9250        S  Third   \n",
              "3         1       1  female  35.0      1      0  53.1000        S  First   \n",
              "4         0       3    male  35.0      0      0   8.0500        S  Third   \n",
              "\n",
              "     who  adult_male deck  embark_town alive  alone  \n",
              "0    man        True  NaN  Southampton    no  False  \n",
              "1  woman       False    C    Cherbourg   yes  False  \n",
              "2  woman       False  NaN  Southampton   yes   True  \n",
              "3  woman       False    C  Southampton   yes  False  \n",
              "4    man        True  NaN  Southampton    no   True  "
            ],
            "text/html": [
              "\n",
              "  <div id=\"df-906c1774-68fb-4ce9-a50b-4131c52abe08\">\n",
              "    <div class=\"colab-df-container\">\n",
              "      <div>\n",
              "<style scoped>\n",
              "    .dataframe tbody tr th:only-of-type {\n",
              "        vertical-align: middle;\n",
              "    }\n",
              "\n",
              "    .dataframe tbody tr th {\n",
              "        vertical-align: top;\n",
              "    }\n",
              "\n",
              "    .dataframe thead th {\n",
              "        text-align: right;\n",
              "    }\n",
              "</style>\n",
              "<table border=\"1\" class=\"dataframe\">\n",
              "  <thead>\n",
              "    <tr style=\"text-align: right;\">\n",
              "      <th></th>\n",
              "      <th>survived</th>\n",
              "      <th>pclass</th>\n",
              "      <th>sex</th>\n",
              "      <th>age</th>\n",
              "      <th>sibsp</th>\n",
              "      <th>parch</th>\n",
              "      <th>fare</th>\n",
              "      <th>embarked</th>\n",
              "      <th>class</th>\n",
              "      <th>who</th>\n",
              "      <th>adult_male</th>\n",
              "      <th>deck</th>\n",
              "      <th>embark_town</th>\n",
              "      <th>alive</th>\n",
              "      <th>alone</th>\n",
              "    </tr>\n",
              "  </thead>\n",
              "  <tbody>\n",
              "    <tr>\n",
              "      <th>0</th>\n",
              "      <td>0</td>\n",
              "      <td>3</td>\n",
              "      <td>male</td>\n",
              "      <td>22.0</td>\n",
              "      <td>1</td>\n",
              "      <td>0</td>\n",
              "      <td>7.2500</td>\n",
              "      <td>S</td>\n",
              "      <td>Third</td>\n",
              "      <td>man</td>\n",
              "      <td>True</td>\n",
              "      <td>NaN</td>\n",
              "      <td>Southampton</td>\n",
              "      <td>no</td>\n",
              "      <td>False</td>\n",
              "    </tr>\n",
              "    <tr>\n",
              "      <th>1</th>\n",
              "      <td>1</td>\n",
              "      <td>1</td>\n",
              "      <td>female</td>\n",
              "      <td>38.0</td>\n",
              "      <td>1</td>\n",
              "      <td>0</td>\n",
              "      <td>71.2833</td>\n",
              "      <td>C</td>\n",
              "      <td>First</td>\n",
              "      <td>woman</td>\n",
              "      <td>False</td>\n",
              "      <td>C</td>\n",
              "      <td>Cherbourg</td>\n",
              "      <td>yes</td>\n",
              "      <td>False</td>\n",
              "    </tr>\n",
              "    <tr>\n",
              "      <th>2</th>\n",
              "      <td>1</td>\n",
              "      <td>3</td>\n",
              "      <td>female</td>\n",
              "      <td>26.0</td>\n",
              "      <td>0</td>\n",
              "      <td>0</td>\n",
              "      <td>7.9250</td>\n",
              "      <td>S</td>\n",
              "      <td>Third</td>\n",
              "      <td>woman</td>\n",
              "      <td>False</td>\n",
              "      <td>NaN</td>\n",
              "      <td>Southampton</td>\n",
              "      <td>yes</td>\n",
              "      <td>True</td>\n",
              "    </tr>\n",
              "    <tr>\n",
              "      <th>3</th>\n",
              "      <td>1</td>\n",
              "      <td>1</td>\n",
              "      <td>female</td>\n",
              "      <td>35.0</td>\n",
              "      <td>1</td>\n",
              "      <td>0</td>\n",
              "      <td>53.1000</td>\n",
              "      <td>S</td>\n",
              "      <td>First</td>\n",
              "      <td>woman</td>\n",
              "      <td>False</td>\n",
              "      <td>C</td>\n",
              "      <td>Southampton</td>\n",
              "      <td>yes</td>\n",
              "      <td>False</td>\n",
              "    </tr>\n",
              "    <tr>\n",
              "      <th>4</th>\n",
              "      <td>0</td>\n",
              "      <td>3</td>\n",
              "      <td>male</td>\n",
              "      <td>35.0</td>\n",
              "      <td>0</td>\n",
              "      <td>0</td>\n",
              "      <td>8.0500</td>\n",
              "      <td>S</td>\n",
              "      <td>Third</td>\n",
              "      <td>man</td>\n",
              "      <td>True</td>\n",
              "      <td>NaN</td>\n",
              "      <td>Southampton</td>\n",
              "      <td>no</td>\n",
              "      <td>True</td>\n",
              "    </tr>\n",
              "  </tbody>\n",
              "</table>\n",
              "</div>\n",
              "      <button class=\"colab-df-convert\" onclick=\"convertToInteractive('df-906c1774-68fb-4ce9-a50b-4131c52abe08')\"\n",
              "              title=\"Convert this dataframe to an interactive table.\"\n",
              "              style=\"display:none;\">\n",
              "        \n",
              "  <svg xmlns=\"http://www.w3.org/2000/svg\" height=\"24px\"viewBox=\"0 0 24 24\"\n",
              "       width=\"24px\">\n",
              "    <path d=\"M0 0h24v24H0V0z\" fill=\"none\"/>\n",
              "    <path d=\"M18.56 5.44l.94 2.06.94-2.06 2.06-.94-2.06-.94-.94-2.06-.94 2.06-2.06.94zm-11 1L8.5 8.5l.94-2.06 2.06-.94-2.06-.94L8.5 2.5l-.94 2.06-2.06.94zm10 10l.94 2.06.94-2.06 2.06-.94-2.06-.94-.94-2.06-.94 2.06-2.06.94z\"/><path d=\"M17.41 7.96l-1.37-1.37c-.4-.4-.92-.59-1.43-.59-.52 0-1.04.2-1.43.59L10.3 9.45l-7.72 7.72c-.78.78-.78 2.05 0 2.83L4 21.41c.39.39.9.59 1.41.59.51 0 1.02-.2 1.41-.59l7.78-7.78 2.81-2.81c.8-.78.8-2.07 0-2.86zM5.41 20L4 18.59l7.72-7.72 1.47 1.35L5.41 20z\"/>\n",
              "  </svg>\n",
              "      </button>\n",
              "      \n",
              "  <style>\n",
              "    .colab-df-container {\n",
              "      display:flex;\n",
              "      flex-wrap:wrap;\n",
              "      gap: 12px;\n",
              "    }\n",
              "\n",
              "    .colab-df-convert {\n",
              "      background-color: #E8F0FE;\n",
              "      border: none;\n",
              "      border-radius: 50%;\n",
              "      cursor: pointer;\n",
              "      display: none;\n",
              "      fill: #1967D2;\n",
              "      height: 32px;\n",
              "      padding: 0 0 0 0;\n",
              "      width: 32px;\n",
              "    }\n",
              "\n",
              "    .colab-df-convert:hover {\n",
              "      background-color: #E2EBFA;\n",
              "      box-shadow: 0px 1px 2px rgba(60, 64, 67, 0.3), 0px 1px 3px 1px rgba(60, 64, 67, 0.15);\n",
              "      fill: #174EA6;\n",
              "    }\n",
              "\n",
              "    [theme=dark] .colab-df-convert {\n",
              "      background-color: #3B4455;\n",
              "      fill: #D2E3FC;\n",
              "    }\n",
              "\n",
              "    [theme=dark] .colab-df-convert:hover {\n",
              "      background-color: #434B5C;\n",
              "      box-shadow: 0px 1px 3px 1px rgba(0, 0, 0, 0.15);\n",
              "      filter: drop-shadow(0px 1px 2px rgba(0, 0, 0, 0.3));\n",
              "      fill: #FFFFFF;\n",
              "    }\n",
              "  </style>\n",
              "\n",
              "      <script>\n",
              "        const buttonEl =\n",
              "          document.querySelector('#df-906c1774-68fb-4ce9-a50b-4131c52abe08 button.colab-df-convert');\n",
              "        buttonEl.style.display =\n",
              "          google.colab.kernel.accessAllowed ? 'block' : 'none';\n",
              "\n",
              "        async function convertToInteractive(key) {\n",
              "          const element = document.querySelector('#df-906c1774-68fb-4ce9-a50b-4131c52abe08');\n",
              "          const dataTable =\n",
              "            await google.colab.kernel.invokeFunction('convertToInteractive',\n",
              "                                                     [key], {});\n",
              "          if (!dataTable) return;\n",
              "\n",
              "          const docLinkHtml = 'Like what you see? Visit the ' +\n",
              "            '<a target=\"_blank\" href=https://colab.research.google.com/notebooks/data_table.ipynb>data table notebook</a>'\n",
              "            + ' to learn more about interactive tables.';\n",
              "          element.innerHTML = '';\n",
              "          dataTable['output_type'] = 'display_data';\n",
              "          await google.colab.output.renderOutput(dataTable, element);\n",
              "          const docLink = document.createElement('div');\n",
              "          docLink.innerHTML = docLinkHtml;\n",
              "          element.appendChild(docLink);\n",
              "        }\n",
              "      </script>\n",
              "    </div>\n",
              "  </div>\n",
              "  "
            ]
          },
          "metadata": {},
          "execution_count": 398
        }
      ]
    },
    {
      "cell_type": "code",
      "metadata": {
        "colab": {
          "base_uri": "https://localhost:8080/"
        },
        "id": "Flr1LhieIbfB",
        "outputId": "cf4b1f49-48ef-4789-9e3e-3437bf149505"
      },
      "source": [
        "# number of rows and Columns\n",
        "titanic_data.shape"
      ],
      "execution_count": 399,
      "outputs": [
        {
          "output_type": "execute_result",
          "data": {
            "text/plain": [
              "(891, 15)"
            ]
          },
          "metadata": {},
          "execution_count": 399
        }
      ]
    },
    {
      "cell_type": "code",
      "metadata": {
        "colab": {
          "base_uri": "https://localhost:8080/"
        },
        "id": "-eQ5cEAdJKNR",
        "outputId": "ebf0f502-5954-4f7f-ccda-56d2fad58c38"
      },
      "source": [
        "# getting some informations about the data\n",
        "titanic_data.info()"
      ],
      "execution_count": 400,
      "outputs": [
        {
          "output_type": "stream",
          "name": "stdout",
          "text": [
            "<class 'pandas.core.frame.DataFrame'>\n",
            "RangeIndex: 891 entries, 0 to 890\n",
            "Data columns (total 15 columns):\n",
            " #   Column       Non-Null Count  Dtype   \n",
            "---  ------       --------------  -----   \n",
            " 0   survived     891 non-null    int64   \n",
            " 1   pclass       891 non-null    int64   \n",
            " 2   sex          891 non-null    object  \n",
            " 3   age          714 non-null    float64 \n",
            " 4   sibsp        891 non-null    int64   \n",
            " 5   parch        891 non-null    int64   \n",
            " 6   fare         891 non-null    float64 \n",
            " 7   embarked     889 non-null    object  \n",
            " 8   class        891 non-null    category\n",
            " 9   who          891 non-null    object  \n",
            " 10  adult_male   891 non-null    bool    \n",
            " 11  deck         203 non-null    category\n",
            " 12  embark_town  889 non-null    object  \n",
            " 13  alive        891 non-null    object  \n",
            " 14  alone        891 non-null    bool    \n",
            "dtypes: bool(2), category(2), float64(2), int64(4), object(5)\n",
            "memory usage: 80.7+ KB\n"
          ]
        }
      ]
    },
    {
      "cell_type": "code",
      "metadata": {
        "colab": {
          "base_uri": "https://localhost:8080/"
        },
        "id": "vgm9U8ZNJZrr",
        "outputId": "d5b8e36b-dd47-46f0-b687-d615ed499fa9"
      },
      "source": [
        "# check the number of missing values in each column\n",
        "titanic_data.isnull().sum()"
      ],
      "execution_count": 401,
      "outputs": [
        {
          "output_type": "execute_result",
          "data": {
            "text/plain": [
              "survived         0\n",
              "pclass           0\n",
              "sex              0\n",
              "age            177\n",
              "sibsp            0\n",
              "parch            0\n",
              "fare             0\n",
              "embarked         2\n",
              "class            0\n",
              "who              0\n",
              "adult_male       0\n",
              "deck           688\n",
              "embark_town      2\n",
              "alive            0\n",
              "alone            0\n",
              "dtype: int64"
            ]
          },
          "metadata": {},
          "execution_count": 401
        }
      ]
    },
    {
      "cell_type": "markdown",
      "metadata": {
        "id": "CI0lP-0YJ8p8"
      },
      "source": [
        "Handling the Missing values"
      ]
    },
    {
      "cell_type": "code",
      "metadata": {
        "id": "6Wzkn3lsJvW2"
      },
      "source": [
        "# drop the \"Cabin\" column from the dataframe\n",
        "#titanic_data = titanic_data.drop(columns='Cabin', axis=1)"
      ],
      "execution_count": 402,
      "outputs": []
    },
    {
      "cell_type": "code",
      "metadata": {
        "id": "v31f_V2fKiZc"
      },
      "source": [
        "# replacing the missing values in \"Age\" column with mean value\n",
        "titanic_data['age'].fillna(titanic_data['age'].mean(), inplace=True)"
      ],
      "execution_count": 403,
      "outputs": []
    },
    {
      "cell_type": "code",
      "metadata": {
        "colab": {
          "base_uri": "https://localhost:8080/"
        },
        "id": "k8VVLzAoLHiq",
        "outputId": "0d40a7fe-0354-476e-c8ef-16d3d9bcd905"
      },
      "source": [
        "# finding the mode value of \"Embarked\" column\n",
        "print(titanic_data['embarked'].mode())"
      ],
      "execution_count": 404,
      "outputs": [
        {
          "output_type": "stream",
          "name": "stdout",
          "text": [
            "0    S\n",
            "Name: embarked, dtype: object\n"
          ]
        }
      ]
    },
    {
      "cell_type": "code",
      "metadata": {
        "colab": {
          "base_uri": "https://localhost:8080/"
        },
        "id": "cQ97PEzRLjmh",
        "outputId": "ef56986f-1b79-4045-9295-ea73f7e9c2c1"
      },
      "source": [
        "print(titanic_data['embarked'].mode()[0])"
      ],
      "execution_count": 405,
      "outputs": [
        {
          "output_type": "stream",
          "name": "stdout",
          "text": [
            "S\n"
          ]
        }
      ]
    },
    {
      "cell_type": "code",
      "metadata": {
        "id": "JUKy-XlrLu0x"
      },
      "source": [
        "# replacing the missing values in \"Embarked\" column with mode value\n",
        "titanic_data['embarked'].fillna(titanic_data['embarked'].mode()[0], inplace=True)"
      ],
      "execution_count": 406,
      "outputs": []
    },
    {
      "cell_type": "code",
      "metadata": {
        "colab": {
          "base_uri": "https://localhost:8080/"
        },
        "id": "Q8y1HhZ-MA7k",
        "outputId": "ac373244-ccc7-4d19-d763-2edccbd17c54"
      },
      "source": [
        "# check the number of missing values in each column\n",
        "titanic_data.isnull().sum()"
      ],
      "execution_count": 407,
      "outputs": [
        {
          "output_type": "execute_result",
          "data": {
            "text/plain": [
              "survived         0\n",
              "pclass           0\n",
              "sex              0\n",
              "age              0\n",
              "sibsp            0\n",
              "parch            0\n",
              "fare             0\n",
              "embarked         0\n",
              "class            0\n",
              "who              0\n",
              "adult_male       0\n",
              "deck           688\n",
              "embark_town      2\n",
              "alive            0\n",
              "alone            0\n",
              "dtype: int64"
            ]
          },
          "metadata": {},
          "execution_count": 407
        }
      ]
    },
    {
      "cell_type": "markdown",
      "metadata": {
        "id": "dUH1aG5EMMLr"
      },
      "source": [
        "Data Analysis"
      ]
    },
    {
      "cell_type": "code",
      "metadata": {
        "colab": {
          "base_uri": "https://localhost:8080/",
          "height": 300
        },
        "id": "8o_2pOvOMGbX",
        "outputId": "ff285937-03e7-4a5f-a936-18ed301cfad9"
      },
      "source": [
        "# getting some statistical measures about the data\n",
        "titanic_data.describe()"
      ],
      "execution_count": 408,
      "outputs": [
        {
          "output_type": "execute_result",
          "data": {
            "text/plain": [
              "         survived      pclass         age       sibsp       parch        fare\n",
              "count  891.000000  891.000000  891.000000  891.000000  891.000000  891.000000\n",
              "mean     0.383838    2.308642   29.699118    0.523008    0.381594   32.204208\n",
              "std      0.486592    0.836071   13.002015    1.102743    0.806057   49.693429\n",
              "min      0.000000    1.000000    0.420000    0.000000    0.000000    0.000000\n",
              "25%      0.000000    2.000000   22.000000    0.000000    0.000000    7.910400\n",
              "50%      0.000000    3.000000   29.699118    0.000000    0.000000   14.454200\n",
              "75%      1.000000    3.000000   35.000000    1.000000    0.000000   31.000000\n",
              "max      1.000000    3.000000   80.000000    8.000000    6.000000  512.329200"
            ],
            "text/html": [
              "\n",
              "  <div id=\"df-da230ebf-18e6-4524-b863-570fea389006\">\n",
              "    <div class=\"colab-df-container\">\n",
              "      <div>\n",
              "<style scoped>\n",
              "    .dataframe tbody tr th:only-of-type {\n",
              "        vertical-align: middle;\n",
              "    }\n",
              "\n",
              "    .dataframe tbody tr th {\n",
              "        vertical-align: top;\n",
              "    }\n",
              "\n",
              "    .dataframe thead th {\n",
              "        text-align: right;\n",
              "    }\n",
              "</style>\n",
              "<table border=\"1\" class=\"dataframe\">\n",
              "  <thead>\n",
              "    <tr style=\"text-align: right;\">\n",
              "      <th></th>\n",
              "      <th>survived</th>\n",
              "      <th>pclass</th>\n",
              "      <th>age</th>\n",
              "      <th>sibsp</th>\n",
              "      <th>parch</th>\n",
              "      <th>fare</th>\n",
              "    </tr>\n",
              "  </thead>\n",
              "  <tbody>\n",
              "    <tr>\n",
              "      <th>count</th>\n",
              "      <td>891.000000</td>\n",
              "      <td>891.000000</td>\n",
              "      <td>891.000000</td>\n",
              "      <td>891.000000</td>\n",
              "      <td>891.000000</td>\n",
              "      <td>891.000000</td>\n",
              "    </tr>\n",
              "    <tr>\n",
              "      <th>mean</th>\n",
              "      <td>0.383838</td>\n",
              "      <td>2.308642</td>\n",
              "      <td>29.699118</td>\n",
              "      <td>0.523008</td>\n",
              "      <td>0.381594</td>\n",
              "      <td>32.204208</td>\n",
              "    </tr>\n",
              "    <tr>\n",
              "      <th>std</th>\n",
              "      <td>0.486592</td>\n",
              "      <td>0.836071</td>\n",
              "      <td>13.002015</td>\n",
              "      <td>1.102743</td>\n",
              "      <td>0.806057</td>\n",
              "      <td>49.693429</td>\n",
              "    </tr>\n",
              "    <tr>\n",
              "      <th>min</th>\n",
              "      <td>0.000000</td>\n",
              "      <td>1.000000</td>\n",
              "      <td>0.420000</td>\n",
              "      <td>0.000000</td>\n",
              "      <td>0.000000</td>\n",
              "      <td>0.000000</td>\n",
              "    </tr>\n",
              "    <tr>\n",
              "      <th>25%</th>\n",
              "      <td>0.000000</td>\n",
              "      <td>2.000000</td>\n",
              "      <td>22.000000</td>\n",
              "      <td>0.000000</td>\n",
              "      <td>0.000000</td>\n",
              "      <td>7.910400</td>\n",
              "    </tr>\n",
              "    <tr>\n",
              "      <th>50%</th>\n",
              "      <td>0.000000</td>\n",
              "      <td>3.000000</td>\n",
              "      <td>29.699118</td>\n",
              "      <td>0.000000</td>\n",
              "      <td>0.000000</td>\n",
              "      <td>14.454200</td>\n",
              "    </tr>\n",
              "    <tr>\n",
              "      <th>75%</th>\n",
              "      <td>1.000000</td>\n",
              "      <td>3.000000</td>\n",
              "      <td>35.000000</td>\n",
              "      <td>1.000000</td>\n",
              "      <td>0.000000</td>\n",
              "      <td>31.000000</td>\n",
              "    </tr>\n",
              "    <tr>\n",
              "      <th>max</th>\n",
              "      <td>1.000000</td>\n",
              "      <td>3.000000</td>\n",
              "      <td>80.000000</td>\n",
              "      <td>8.000000</td>\n",
              "      <td>6.000000</td>\n",
              "      <td>512.329200</td>\n",
              "    </tr>\n",
              "  </tbody>\n",
              "</table>\n",
              "</div>\n",
              "      <button class=\"colab-df-convert\" onclick=\"convertToInteractive('df-da230ebf-18e6-4524-b863-570fea389006')\"\n",
              "              title=\"Convert this dataframe to an interactive table.\"\n",
              "              style=\"display:none;\">\n",
              "        \n",
              "  <svg xmlns=\"http://www.w3.org/2000/svg\" height=\"24px\"viewBox=\"0 0 24 24\"\n",
              "       width=\"24px\">\n",
              "    <path d=\"M0 0h24v24H0V0z\" fill=\"none\"/>\n",
              "    <path d=\"M18.56 5.44l.94 2.06.94-2.06 2.06-.94-2.06-.94-.94-2.06-.94 2.06-2.06.94zm-11 1L8.5 8.5l.94-2.06 2.06-.94-2.06-.94L8.5 2.5l-.94 2.06-2.06.94zm10 10l.94 2.06.94-2.06 2.06-.94-2.06-.94-.94-2.06-.94 2.06-2.06.94z\"/><path d=\"M17.41 7.96l-1.37-1.37c-.4-.4-.92-.59-1.43-.59-.52 0-1.04.2-1.43.59L10.3 9.45l-7.72 7.72c-.78.78-.78 2.05 0 2.83L4 21.41c.39.39.9.59 1.41.59.51 0 1.02-.2 1.41-.59l7.78-7.78 2.81-2.81c.8-.78.8-2.07 0-2.86zM5.41 20L4 18.59l7.72-7.72 1.47 1.35L5.41 20z\"/>\n",
              "  </svg>\n",
              "      </button>\n",
              "      \n",
              "  <style>\n",
              "    .colab-df-container {\n",
              "      display:flex;\n",
              "      flex-wrap:wrap;\n",
              "      gap: 12px;\n",
              "    }\n",
              "\n",
              "    .colab-df-convert {\n",
              "      background-color: #E8F0FE;\n",
              "      border: none;\n",
              "      border-radius: 50%;\n",
              "      cursor: pointer;\n",
              "      display: none;\n",
              "      fill: #1967D2;\n",
              "      height: 32px;\n",
              "      padding: 0 0 0 0;\n",
              "      width: 32px;\n",
              "    }\n",
              "\n",
              "    .colab-df-convert:hover {\n",
              "      background-color: #E2EBFA;\n",
              "      box-shadow: 0px 1px 2px rgba(60, 64, 67, 0.3), 0px 1px 3px 1px rgba(60, 64, 67, 0.15);\n",
              "      fill: #174EA6;\n",
              "    }\n",
              "\n",
              "    [theme=dark] .colab-df-convert {\n",
              "      background-color: #3B4455;\n",
              "      fill: #D2E3FC;\n",
              "    }\n",
              "\n",
              "    [theme=dark] .colab-df-convert:hover {\n",
              "      background-color: #434B5C;\n",
              "      box-shadow: 0px 1px 3px 1px rgba(0, 0, 0, 0.15);\n",
              "      filter: drop-shadow(0px 1px 2px rgba(0, 0, 0, 0.3));\n",
              "      fill: #FFFFFF;\n",
              "    }\n",
              "  </style>\n",
              "\n",
              "      <script>\n",
              "        const buttonEl =\n",
              "          document.querySelector('#df-da230ebf-18e6-4524-b863-570fea389006 button.colab-df-convert');\n",
              "        buttonEl.style.display =\n",
              "          google.colab.kernel.accessAllowed ? 'block' : 'none';\n",
              "\n",
              "        async function convertToInteractive(key) {\n",
              "          const element = document.querySelector('#df-da230ebf-18e6-4524-b863-570fea389006');\n",
              "          const dataTable =\n",
              "            await google.colab.kernel.invokeFunction('convertToInteractive',\n",
              "                                                     [key], {});\n",
              "          if (!dataTable) return;\n",
              "\n",
              "          const docLinkHtml = 'Like what you see? Visit the ' +\n",
              "            '<a target=\"_blank\" href=https://colab.research.google.com/notebooks/data_table.ipynb>data table notebook</a>'\n",
              "            + ' to learn more about interactive tables.';\n",
              "          element.innerHTML = '';\n",
              "          dataTable['output_type'] = 'display_data';\n",
              "          await google.colab.output.renderOutput(dataTable, element);\n",
              "          const docLink = document.createElement('div');\n",
              "          docLink.innerHTML = docLinkHtml;\n",
              "          element.appendChild(docLink);\n",
              "        }\n",
              "      </script>\n",
              "    </div>\n",
              "  </div>\n",
              "  "
            ]
          },
          "metadata": {},
          "execution_count": 408
        }
      ]
    },
    {
      "cell_type": "code",
      "metadata": {
        "colab": {
          "base_uri": "https://localhost:8080/"
        },
        "id": "8319pWvFMWvZ",
        "outputId": "0e4415cd-0a85-479e-d1a6-10caaf74f186"
      },
      "source": [
        "# finding the number of people survived and not survived\n",
        "titanic_data['survived'].value_counts()"
      ],
      "execution_count": 409,
      "outputs": [
        {
          "output_type": "execute_result",
          "data": {
            "text/plain": [
              "0    549\n",
              "1    342\n",
              "Name: survived, dtype: int64"
            ]
          },
          "metadata": {},
          "execution_count": 409
        }
      ]
    },
    {
      "cell_type": "markdown",
      "metadata": {
        "id": "l1KdqdYCPGqS"
      },
      "source": [
        "Encoding the Categorical Columns"
      ]
    },
    {
      "cell_type": "code",
      "metadata": {
        "colab": {
          "base_uri": "https://localhost:8080/"
        },
        "id": "yExAH-sGOjbk",
        "outputId": "4f52094c-6ff1-463c-a686-bbe203d192cc"
      },
      "source": [
        "titanic_data['sex'].value_counts()"
      ],
      "execution_count": 410,
      "outputs": [
        {
          "output_type": "execute_result",
          "data": {
            "text/plain": [
              "male      577\n",
              "female    314\n",
              "Name: sex, dtype: int64"
            ]
          },
          "metadata": {},
          "execution_count": 410
        }
      ]
    },
    {
      "cell_type": "code",
      "metadata": {
        "colab": {
          "base_uri": "https://localhost:8080/"
        },
        "id": "y5LhKZJ1PRhw",
        "outputId": "b432b44c-105a-459e-d401-323fbbb27359"
      },
      "source": [
        "titanic_data['embarked'].value_counts()"
      ],
      "execution_count": 411,
      "outputs": [
        {
          "output_type": "execute_result",
          "data": {
            "text/plain": [
              "S    646\n",
              "C    168\n",
              "Q     77\n",
              "Name: embarked, dtype: int64"
            ]
          },
          "metadata": {},
          "execution_count": 411
        }
      ]
    },
    {
      "cell_type": "code",
      "metadata": {
        "id": "uMbFfslXPVn9"
      },
      "source": [
        "# converting categorical Columns\n",
        "\n",
        "titanic_data.replace({'sex':{'male':0,'female':1}, 'embarked':{'S':0,'C':1,'Q':2},'class':{'First':0,'Second':1,'Third':2},'who':{'man':0,'woman':1,'child':2}}, inplace=True)"
      ],
      "execution_count": 412,
      "outputs": []
    },
    {
      "cell_type": "code",
      "metadata": {
        "colab": {
          "base_uri": "https://localhost:8080/",
          "height": 206
        },
        "id": "Ap4_stBRP1y1",
        "outputId": "6f7a30ae-4552-437a-99ab-97a0a19e26da"
      },
      "source": [
        "titanic_data.head()"
      ],
      "execution_count": 413,
      "outputs": [
        {
          "output_type": "execute_result",
          "data": {
            "text/plain": [
              "   survived  pclass  sex   age  sibsp  parch     fare  embarked class  who  \\\n",
              "0         0       3    0  22.0      1      0   7.2500         0     2    0   \n",
              "1         1       1    1  38.0      1      0  71.2833         1     0    1   \n",
              "2         1       3    1  26.0      0      0   7.9250         0     2    1   \n",
              "3         1       1    1  35.0      1      0  53.1000         0     0    1   \n",
              "4         0       3    0  35.0      0      0   8.0500         0     2    0   \n",
              "\n",
              "   adult_male deck  embark_town alive  alone  \n",
              "0        True  NaN  Southampton    no  False  \n",
              "1       False    C    Cherbourg   yes  False  \n",
              "2       False  NaN  Southampton   yes   True  \n",
              "3       False    C  Southampton   yes  False  \n",
              "4        True  NaN  Southampton    no   True  "
            ],
            "text/html": [
              "\n",
              "  <div id=\"df-8e685d32-5ba2-4c6e-8c0e-ff6b8695d866\">\n",
              "    <div class=\"colab-df-container\">\n",
              "      <div>\n",
              "<style scoped>\n",
              "    .dataframe tbody tr th:only-of-type {\n",
              "        vertical-align: middle;\n",
              "    }\n",
              "\n",
              "    .dataframe tbody tr th {\n",
              "        vertical-align: top;\n",
              "    }\n",
              "\n",
              "    .dataframe thead th {\n",
              "        text-align: right;\n",
              "    }\n",
              "</style>\n",
              "<table border=\"1\" class=\"dataframe\">\n",
              "  <thead>\n",
              "    <tr style=\"text-align: right;\">\n",
              "      <th></th>\n",
              "      <th>survived</th>\n",
              "      <th>pclass</th>\n",
              "      <th>sex</th>\n",
              "      <th>age</th>\n",
              "      <th>sibsp</th>\n",
              "      <th>parch</th>\n",
              "      <th>fare</th>\n",
              "      <th>embarked</th>\n",
              "      <th>class</th>\n",
              "      <th>who</th>\n",
              "      <th>adult_male</th>\n",
              "      <th>deck</th>\n",
              "      <th>embark_town</th>\n",
              "      <th>alive</th>\n",
              "      <th>alone</th>\n",
              "    </tr>\n",
              "  </thead>\n",
              "  <tbody>\n",
              "    <tr>\n",
              "      <th>0</th>\n",
              "      <td>0</td>\n",
              "      <td>3</td>\n",
              "      <td>0</td>\n",
              "      <td>22.0</td>\n",
              "      <td>1</td>\n",
              "      <td>0</td>\n",
              "      <td>7.2500</td>\n",
              "      <td>0</td>\n",
              "      <td>2</td>\n",
              "      <td>0</td>\n",
              "      <td>True</td>\n",
              "      <td>NaN</td>\n",
              "      <td>Southampton</td>\n",
              "      <td>no</td>\n",
              "      <td>False</td>\n",
              "    </tr>\n",
              "    <tr>\n",
              "      <th>1</th>\n",
              "      <td>1</td>\n",
              "      <td>1</td>\n",
              "      <td>1</td>\n",
              "      <td>38.0</td>\n",
              "      <td>1</td>\n",
              "      <td>0</td>\n",
              "      <td>71.2833</td>\n",
              "      <td>1</td>\n",
              "      <td>0</td>\n",
              "      <td>1</td>\n",
              "      <td>False</td>\n",
              "      <td>C</td>\n",
              "      <td>Cherbourg</td>\n",
              "      <td>yes</td>\n",
              "      <td>False</td>\n",
              "    </tr>\n",
              "    <tr>\n",
              "      <th>2</th>\n",
              "      <td>1</td>\n",
              "      <td>3</td>\n",
              "      <td>1</td>\n",
              "      <td>26.0</td>\n",
              "      <td>0</td>\n",
              "      <td>0</td>\n",
              "      <td>7.9250</td>\n",
              "      <td>0</td>\n",
              "      <td>2</td>\n",
              "      <td>1</td>\n",
              "      <td>False</td>\n",
              "      <td>NaN</td>\n",
              "      <td>Southampton</td>\n",
              "      <td>yes</td>\n",
              "      <td>True</td>\n",
              "    </tr>\n",
              "    <tr>\n",
              "      <th>3</th>\n",
              "      <td>1</td>\n",
              "      <td>1</td>\n",
              "      <td>1</td>\n",
              "      <td>35.0</td>\n",
              "      <td>1</td>\n",
              "      <td>0</td>\n",
              "      <td>53.1000</td>\n",
              "      <td>0</td>\n",
              "      <td>0</td>\n",
              "      <td>1</td>\n",
              "      <td>False</td>\n",
              "      <td>C</td>\n",
              "      <td>Southampton</td>\n",
              "      <td>yes</td>\n",
              "      <td>False</td>\n",
              "    </tr>\n",
              "    <tr>\n",
              "      <th>4</th>\n",
              "      <td>0</td>\n",
              "      <td>3</td>\n",
              "      <td>0</td>\n",
              "      <td>35.0</td>\n",
              "      <td>0</td>\n",
              "      <td>0</td>\n",
              "      <td>8.0500</td>\n",
              "      <td>0</td>\n",
              "      <td>2</td>\n",
              "      <td>0</td>\n",
              "      <td>True</td>\n",
              "      <td>NaN</td>\n",
              "      <td>Southampton</td>\n",
              "      <td>no</td>\n",
              "      <td>True</td>\n",
              "    </tr>\n",
              "  </tbody>\n",
              "</table>\n",
              "</div>\n",
              "      <button class=\"colab-df-convert\" onclick=\"convertToInteractive('df-8e685d32-5ba2-4c6e-8c0e-ff6b8695d866')\"\n",
              "              title=\"Convert this dataframe to an interactive table.\"\n",
              "              style=\"display:none;\">\n",
              "        \n",
              "  <svg xmlns=\"http://www.w3.org/2000/svg\" height=\"24px\"viewBox=\"0 0 24 24\"\n",
              "       width=\"24px\">\n",
              "    <path d=\"M0 0h24v24H0V0z\" fill=\"none\"/>\n",
              "    <path d=\"M18.56 5.44l.94 2.06.94-2.06 2.06-.94-2.06-.94-.94-2.06-.94 2.06-2.06.94zm-11 1L8.5 8.5l.94-2.06 2.06-.94-2.06-.94L8.5 2.5l-.94 2.06-2.06.94zm10 10l.94 2.06.94-2.06 2.06-.94-2.06-.94-.94-2.06-.94 2.06-2.06.94z\"/><path d=\"M17.41 7.96l-1.37-1.37c-.4-.4-.92-.59-1.43-.59-.52 0-1.04.2-1.43.59L10.3 9.45l-7.72 7.72c-.78.78-.78 2.05 0 2.83L4 21.41c.39.39.9.59 1.41.59.51 0 1.02-.2 1.41-.59l7.78-7.78 2.81-2.81c.8-.78.8-2.07 0-2.86zM5.41 20L4 18.59l7.72-7.72 1.47 1.35L5.41 20z\"/>\n",
              "  </svg>\n",
              "      </button>\n",
              "      \n",
              "  <style>\n",
              "    .colab-df-container {\n",
              "      display:flex;\n",
              "      flex-wrap:wrap;\n",
              "      gap: 12px;\n",
              "    }\n",
              "\n",
              "    .colab-df-convert {\n",
              "      background-color: #E8F0FE;\n",
              "      border: none;\n",
              "      border-radius: 50%;\n",
              "      cursor: pointer;\n",
              "      display: none;\n",
              "      fill: #1967D2;\n",
              "      height: 32px;\n",
              "      padding: 0 0 0 0;\n",
              "      width: 32px;\n",
              "    }\n",
              "\n",
              "    .colab-df-convert:hover {\n",
              "      background-color: #E2EBFA;\n",
              "      box-shadow: 0px 1px 2px rgba(60, 64, 67, 0.3), 0px 1px 3px 1px rgba(60, 64, 67, 0.15);\n",
              "      fill: #174EA6;\n",
              "    }\n",
              "\n",
              "    [theme=dark] .colab-df-convert {\n",
              "      background-color: #3B4455;\n",
              "      fill: #D2E3FC;\n",
              "    }\n",
              "\n",
              "    [theme=dark] .colab-df-convert:hover {\n",
              "      background-color: #434B5C;\n",
              "      box-shadow: 0px 1px 3px 1px rgba(0, 0, 0, 0.15);\n",
              "      filter: drop-shadow(0px 1px 2px rgba(0, 0, 0, 0.3));\n",
              "      fill: #FFFFFF;\n",
              "    }\n",
              "  </style>\n",
              "\n",
              "      <script>\n",
              "        const buttonEl =\n",
              "          document.querySelector('#df-8e685d32-5ba2-4c6e-8c0e-ff6b8695d866 button.colab-df-convert');\n",
              "        buttonEl.style.display =\n",
              "          google.colab.kernel.accessAllowed ? 'block' : 'none';\n",
              "\n",
              "        async function convertToInteractive(key) {\n",
              "          const element = document.querySelector('#df-8e685d32-5ba2-4c6e-8c0e-ff6b8695d866');\n",
              "          const dataTable =\n",
              "            await google.colab.kernel.invokeFunction('convertToInteractive',\n",
              "                                                     [key], {});\n",
              "          if (!dataTable) return;\n",
              "\n",
              "          const docLinkHtml = 'Like what you see? Visit the ' +\n",
              "            '<a target=\"_blank\" href=https://colab.research.google.com/notebooks/data_table.ipynb>data table notebook</a>'\n",
              "            + ' to learn more about interactive tables.';\n",
              "          element.innerHTML = '';\n",
              "          dataTable['output_type'] = 'display_data';\n",
              "          await google.colab.output.renderOutput(dataTable, element);\n",
              "          const docLink = document.createElement('div');\n",
              "          docLink.innerHTML = docLinkHtml;\n",
              "          element.appendChild(docLink);\n",
              "        }\n",
              "      </script>\n",
              "    </div>\n",
              "  </div>\n",
              "  "
            ]
          },
          "metadata": {},
          "execution_count": 413
        }
      ]
    },
    {
      "cell_type": "markdown",
      "metadata": {
        "id": "kOEeHLwzQFs6"
      },
      "source": [
        "Separating features & Target"
      ]
    },
    {
      "cell_type": "code",
      "metadata": {
        "id": "CW6a3AjFP8At"
      },
      "source": [
        "X = titanic_data.drop(columns = ['survived','deck','embark_town','alive','adult_male','alone'],axis=1)\n",
        "Y = titanic_data['survived']"
      ],
      "execution_count": 414,
      "outputs": []
    },
    {
      "cell_type": "code",
      "source": [
        "X"
      ],
      "metadata": {
        "colab": {
          "base_uri": "https://localhost:8080/",
          "height": 423
        },
        "id": "wH4guug3lEe-",
        "outputId": "51abaff0-7cb6-4d72-a55f-642002c7a7f2"
      },
      "execution_count": 415,
      "outputs": [
        {
          "output_type": "execute_result",
          "data": {
            "text/plain": [
              "     pclass  sex        age  sibsp  parch     fare  embarked class  who\n",
              "0         3    0  22.000000      1      0   7.2500         0     2    0\n",
              "1         1    1  38.000000      1      0  71.2833         1     0    1\n",
              "2         3    1  26.000000      0      0   7.9250         0     2    1\n",
              "3         1    1  35.000000      1      0  53.1000         0     0    1\n",
              "4         3    0  35.000000      0      0   8.0500         0     2    0\n",
              "..      ...  ...        ...    ...    ...      ...       ...   ...  ...\n",
              "886       2    0  27.000000      0      0  13.0000         0     1    0\n",
              "887       1    1  19.000000      0      0  30.0000         0     0    1\n",
              "888       3    1  29.699118      1      2  23.4500         0     2    1\n",
              "889       1    0  26.000000      0      0  30.0000         1     0    0\n",
              "890       3    0  32.000000      0      0   7.7500         2     2    0\n",
              "\n",
              "[891 rows x 9 columns]"
            ],
            "text/html": [
              "\n",
              "  <div id=\"df-674374ba-9f0f-42a4-9719-95f8e3c878a0\">\n",
              "    <div class=\"colab-df-container\">\n",
              "      <div>\n",
              "<style scoped>\n",
              "    .dataframe tbody tr th:only-of-type {\n",
              "        vertical-align: middle;\n",
              "    }\n",
              "\n",
              "    .dataframe tbody tr th {\n",
              "        vertical-align: top;\n",
              "    }\n",
              "\n",
              "    .dataframe thead th {\n",
              "        text-align: right;\n",
              "    }\n",
              "</style>\n",
              "<table border=\"1\" class=\"dataframe\">\n",
              "  <thead>\n",
              "    <tr style=\"text-align: right;\">\n",
              "      <th></th>\n",
              "      <th>pclass</th>\n",
              "      <th>sex</th>\n",
              "      <th>age</th>\n",
              "      <th>sibsp</th>\n",
              "      <th>parch</th>\n",
              "      <th>fare</th>\n",
              "      <th>embarked</th>\n",
              "      <th>class</th>\n",
              "      <th>who</th>\n",
              "    </tr>\n",
              "  </thead>\n",
              "  <tbody>\n",
              "    <tr>\n",
              "      <th>0</th>\n",
              "      <td>3</td>\n",
              "      <td>0</td>\n",
              "      <td>22.000000</td>\n",
              "      <td>1</td>\n",
              "      <td>0</td>\n",
              "      <td>7.2500</td>\n",
              "      <td>0</td>\n",
              "      <td>2</td>\n",
              "      <td>0</td>\n",
              "    </tr>\n",
              "    <tr>\n",
              "      <th>1</th>\n",
              "      <td>1</td>\n",
              "      <td>1</td>\n",
              "      <td>38.000000</td>\n",
              "      <td>1</td>\n",
              "      <td>0</td>\n",
              "      <td>71.2833</td>\n",
              "      <td>1</td>\n",
              "      <td>0</td>\n",
              "      <td>1</td>\n",
              "    </tr>\n",
              "    <tr>\n",
              "      <th>2</th>\n",
              "      <td>3</td>\n",
              "      <td>1</td>\n",
              "      <td>26.000000</td>\n",
              "      <td>0</td>\n",
              "      <td>0</td>\n",
              "      <td>7.9250</td>\n",
              "      <td>0</td>\n",
              "      <td>2</td>\n",
              "      <td>1</td>\n",
              "    </tr>\n",
              "    <tr>\n",
              "      <th>3</th>\n",
              "      <td>1</td>\n",
              "      <td>1</td>\n",
              "      <td>35.000000</td>\n",
              "      <td>1</td>\n",
              "      <td>0</td>\n",
              "      <td>53.1000</td>\n",
              "      <td>0</td>\n",
              "      <td>0</td>\n",
              "      <td>1</td>\n",
              "    </tr>\n",
              "    <tr>\n",
              "      <th>4</th>\n",
              "      <td>3</td>\n",
              "      <td>0</td>\n",
              "      <td>35.000000</td>\n",
              "      <td>0</td>\n",
              "      <td>0</td>\n",
              "      <td>8.0500</td>\n",
              "      <td>0</td>\n",
              "      <td>2</td>\n",
              "      <td>0</td>\n",
              "    </tr>\n",
              "    <tr>\n",
              "      <th>...</th>\n",
              "      <td>...</td>\n",
              "      <td>...</td>\n",
              "      <td>...</td>\n",
              "      <td>...</td>\n",
              "      <td>...</td>\n",
              "      <td>...</td>\n",
              "      <td>...</td>\n",
              "      <td>...</td>\n",
              "      <td>...</td>\n",
              "    </tr>\n",
              "    <tr>\n",
              "      <th>886</th>\n",
              "      <td>2</td>\n",
              "      <td>0</td>\n",
              "      <td>27.000000</td>\n",
              "      <td>0</td>\n",
              "      <td>0</td>\n",
              "      <td>13.0000</td>\n",
              "      <td>0</td>\n",
              "      <td>1</td>\n",
              "      <td>0</td>\n",
              "    </tr>\n",
              "    <tr>\n",
              "      <th>887</th>\n",
              "      <td>1</td>\n",
              "      <td>1</td>\n",
              "      <td>19.000000</td>\n",
              "      <td>0</td>\n",
              "      <td>0</td>\n",
              "      <td>30.0000</td>\n",
              "      <td>0</td>\n",
              "      <td>0</td>\n",
              "      <td>1</td>\n",
              "    </tr>\n",
              "    <tr>\n",
              "      <th>888</th>\n",
              "      <td>3</td>\n",
              "      <td>1</td>\n",
              "      <td>29.699118</td>\n",
              "      <td>1</td>\n",
              "      <td>2</td>\n",
              "      <td>23.4500</td>\n",
              "      <td>0</td>\n",
              "      <td>2</td>\n",
              "      <td>1</td>\n",
              "    </tr>\n",
              "    <tr>\n",
              "      <th>889</th>\n",
              "      <td>1</td>\n",
              "      <td>0</td>\n",
              "      <td>26.000000</td>\n",
              "      <td>0</td>\n",
              "      <td>0</td>\n",
              "      <td>30.0000</td>\n",
              "      <td>1</td>\n",
              "      <td>0</td>\n",
              "      <td>0</td>\n",
              "    </tr>\n",
              "    <tr>\n",
              "      <th>890</th>\n",
              "      <td>3</td>\n",
              "      <td>0</td>\n",
              "      <td>32.000000</td>\n",
              "      <td>0</td>\n",
              "      <td>0</td>\n",
              "      <td>7.7500</td>\n",
              "      <td>2</td>\n",
              "      <td>2</td>\n",
              "      <td>0</td>\n",
              "    </tr>\n",
              "  </tbody>\n",
              "</table>\n",
              "<p>891 rows × 9 columns</p>\n",
              "</div>\n",
              "      <button class=\"colab-df-convert\" onclick=\"convertToInteractive('df-674374ba-9f0f-42a4-9719-95f8e3c878a0')\"\n",
              "              title=\"Convert this dataframe to an interactive table.\"\n",
              "              style=\"display:none;\">\n",
              "        \n",
              "  <svg xmlns=\"http://www.w3.org/2000/svg\" height=\"24px\"viewBox=\"0 0 24 24\"\n",
              "       width=\"24px\">\n",
              "    <path d=\"M0 0h24v24H0V0z\" fill=\"none\"/>\n",
              "    <path d=\"M18.56 5.44l.94 2.06.94-2.06 2.06-.94-2.06-.94-.94-2.06-.94 2.06-2.06.94zm-11 1L8.5 8.5l.94-2.06 2.06-.94-2.06-.94L8.5 2.5l-.94 2.06-2.06.94zm10 10l.94 2.06.94-2.06 2.06-.94-2.06-.94-.94-2.06-.94 2.06-2.06.94z\"/><path d=\"M17.41 7.96l-1.37-1.37c-.4-.4-.92-.59-1.43-.59-.52 0-1.04.2-1.43.59L10.3 9.45l-7.72 7.72c-.78.78-.78 2.05 0 2.83L4 21.41c.39.39.9.59 1.41.59.51 0 1.02-.2 1.41-.59l7.78-7.78 2.81-2.81c.8-.78.8-2.07 0-2.86zM5.41 20L4 18.59l7.72-7.72 1.47 1.35L5.41 20z\"/>\n",
              "  </svg>\n",
              "      </button>\n",
              "      \n",
              "  <style>\n",
              "    .colab-df-container {\n",
              "      display:flex;\n",
              "      flex-wrap:wrap;\n",
              "      gap: 12px;\n",
              "    }\n",
              "\n",
              "    .colab-df-convert {\n",
              "      background-color: #E8F0FE;\n",
              "      border: none;\n",
              "      border-radius: 50%;\n",
              "      cursor: pointer;\n",
              "      display: none;\n",
              "      fill: #1967D2;\n",
              "      height: 32px;\n",
              "      padding: 0 0 0 0;\n",
              "      width: 32px;\n",
              "    }\n",
              "\n",
              "    .colab-df-convert:hover {\n",
              "      background-color: #E2EBFA;\n",
              "      box-shadow: 0px 1px 2px rgba(60, 64, 67, 0.3), 0px 1px 3px 1px rgba(60, 64, 67, 0.15);\n",
              "      fill: #174EA6;\n",
              "    }\n",
              "\n",
              "    [theme=dark] .colab-df-convert {\n",
              "      background-color: #3B4455;\n",
              "      fill: #D2E3FC;\n",
              "    }\n",
              "\n",
              "    [theme=dark] .colab-df-convert:hover {\n",
              "      background-color: #434B5C;\n",
              "      box-shadow: 0px 1px 3px 1px rgba(0, 0, 0, 0.15);\n",
              "      filter: drop-shadow(0px 1px 2px rgba(0, 0, 0, 0.3));\n",
              "      fill: #FFFFFF;\n",
              "    }\n",
              "  </style>\n",
              "\n",
              "      <script>\n",
              "        const buttonEl =\n",
              "          document.querySelector('#df-674374ba-9f0f-42a4-9719-95f8e3c878a0 button.colab-df-convert');\n",
              "        buttonEl.style.display =\n",
              "          google.colab.kernel.accessAllowed ? 'block' : 'none';\n",
              "\n",
              "        async function convertToInteractive(key) {\n",
              "          const element = document.querySelector('#df-674374ba-9f0f-42a4-9719-95f8e3c878a0');\n",
              "          const dataTable =\n",
              "            await google.colab.kernel.invokeFunction('convertToInteractive',\n",
              "                                                     [key], {});\n",
              "          if (!dataTable) return;\n",
              "\n",
              "          const docLinkHtml = 'Like what you see? Visit the ' +\n",
              "            '<a target=\"_blank\" href=https://colab.research.google.com/notebooks/data_table.ipynb>data table notebook</a>'\n",
              "            + ' to learn more about interactive tables.';\n",
              "          element.innerHTML = '';\n",
              "          dataTable['output_type'] = 'display_data';\n",
              "          await google.colab.output.renderOutput(dataTable, element);\n",
              "          const docLink = document.createElement('div');\n",
              "          docLink.innerHTML = docLinkHtml;\n",
              "          element.appendChild(docLink);\n",
              "        }\n",
              "      </script>\n",
              "    </div>\n",
              "  </div>\n",
              "  "
            ]
          },
          "metadata": {},
          "execution_count": 415
        }
      ]
    },
    {
      "cell_type": "markdown",
      "metadata": {
        "id": "RpQJXUhYQ0YO"
      },
      "source": [
        "Splitting the data into training data & Test data"
      ]
    },
    {
      "cell_type": "code",
      "metadata": {
        "id": "B2zVx7kpQxiY"
      },
      "source": [
        "X_train, X_test, Y_train, Y_test = train_test_split(X,Y, test_size=0.12, random_state=2)\n",
        "X_train, X_val, y_train, y_val = train_test_split(X_train, Y_train, test_size=0.1, random_state=1)"
      ],
      "execution_count": 416,
      "outputs": []
    },
    {
      "cell_type": "code",
      "metadata": {
        "id": "FJGHBJgiU4ZB"
      },
      "source": [
        "X_train=np.asarray(X_train).astype(np.float32)"
      ],
      "execution_count": 417,
      "outputs": []
    },
    {
      "cell_type": "code",
      "source": [
        "Y_train=np.asarray(Y_train).astype(np.float32)"
      ],
      "metadata": {
        "id": "TnYZ7jHuhw5I"
      },
      "execution_count": 418,
      "outputs": []
    },
    {
      "cell_type": "code",
      "source": [
        "import keras\n",
        "from keras import  Model,Input\n",
        "from keras.layers import Dense"
      ],
      "metadata": {
        "id": "wrH7OadmhzWZ"
      },
      "execution_count": 419,
      "outputs": []
    },
    {
      "cell_type": "code",
      "source": [
        "inp=Input(shape=(X_train.shape[1],))\n",
        "l1=Dense(16,activation='relu')(inp)\n",
        "l3=Dense(4,activation='relu')(l1)\n",
        "out=Dense(1,activation='sigmoid')(l3)\n",
        "model=Model(inputs=inp,outputs=out)"
      ],
      "metadata": {
        "id": "-YiHhJG5iWm9"
      },
      "execution_count": 426,
      "outputs": []
    },
    {
      "cell_type": "code",
      "source": [
        "model.compile(optimizer='sgd',loss='binary_crossentropy',metrics=['accuracy'])"
      ],
      "metadata": {
        "id": "5GlYnkCnj2DX"
      },
      "execution_count": 427,
      "outputs": []
    },
    {
      "cell_type": "code",
      "source": [
        "history=model.fit(X_train,y_train,epochs=120,validation_data=(X_val, y_val),shuffle=True)"
      ],
      "metadata": {
        "colab": {
          "base_uri": "https://localhost:8080/"
        },
        "id": "ENsSLV9KkM-u",
        "outputId": "02a20c7c-1a4a-421e-feca-ee5aedf4d403"
      },
      "execution_count": 428,
      "outputs": [
        {
          "output_type": "stream",
          "name": "stdout",
          "text": [
            "Epoch 1/120\n",
            "23/23 [==============================] - 1s 12ms/step - loss: 1.3107 - accuracy: 0.6057 - val_loss: 0.6655 - val_accuracy: 0.6709\n",
            "Epoch 2/120\n",
            "23/23 [==============================] - 0s 3ms/step - loss: 0.6566 - accuracy: 0.6184 - val_loss: 0.6255 - val_accuracy: 0.6709\n",
            "Epoch 3/120\n",
            "23/23 [==============================] - 0s 3ms/step - loss: 0.6322 - accuracy: 0.6184 - val_loss: 0.6181 - val_accuracy: 0.6709\n",
            "Epoch 4/120\n",
            "23/23 [==============================] - 0s 5ms/step - loss: 0.6268 - accuracy: 0.6184 - val_loss: 0.6799 - val_accuracy: 0.6709\n",
            "Epoch 5/120\n",
            "23/23 [==============================] - 0s 4ms/step - loss: 0.6441 - accuracy: 0.6184 - val_loss: 0.6266 - val_accuracy: 0.6709\n",
            "Epoch 6/120\n",
            "23/23 [==============================] - 0s 4ms/step - loss: 0.6211 - accuracy: 0.6184 - val_loss: 0.6356 - val_accuracy: 0.6709\n",
            "Epoch 7/120\n",
            "23/23 [==============================] - 0s 3ms/step - loss: 0.6197 - accuracy: 0.6184 - val_loss: 0.6008 - val_accuracy: 0.6709\n",
            "Epoch 8/120\n",
            "23/23 [==============================] - 0s 4ms/step - loss: 0.6171 - accuracy: 0.6184 - val_loss: 0.6068 - val_accuracy: 0.6709\n",
            "Epoch 9/120\n",
            "23/23 [==============================] - 0s 5ms/step - loss: 0.6156 - accuracy: 0.6326 - val_loss: 0.6037 - val_accuracy: 0.7342\n",
            "Epoch 10/120\n",
            "23/23 [==============================] - 0s 3ms/step - loss: 0.6168 - accuracy: 0.6908 - val_loss: 0.6519 - val_accuracy: 0.6582\n",
            "Epoch 11/120\n",
            "23/23 [==============================] - 0s 4ms/step - loss: 0.6215 - accuracy: 0.6780 - val_loss: 0.5996 - val_accuracy: 0.7215\n",
            "Epoch 12/120\n",
            "23/23 [==============================] - 0s 4ms/step - loss: 0.6180 - accuracy: 0.6950 - val_loss: 0.6046 - val_accuracy: 0.7468\n",
            "Epoch 13/120\n",
            "23/23 [==============================] - 0s 4ms/step - loss: 0.6147 - accuracy: 0.6894 - val_loss: 0.6015 - val_accuracy: 0.7342\n",
            "Epoch 14/120\n",
            "23/23 [==============================] - 0s 4ms/step - loss: 0.6144 - accuracy: 0.6879 - val_loss: 0.5999 - val_accuracy: 0.7342\n",
            "Epoch 15/120\n",
            "23/23 [==============================] - 0s 3ms/step - loss: 0.6160 - accuracy: 0.6908 - val_loss: 0.6014 - val_accuracy: 0.7089\n",
            "Epoch 16/120\n",
            "23/23 [==============================] - 0s 4ms/step - loss: 0.6158 - accuracy: 0.6908 - val_loss: 0.6010 - val_accuracy: 0.7342\n",
            "Epoch 17/120\n",
            "23/23 [==============================] - 0s 4ms/step - loss: 0.6141 - accuracy: 0.6965 - val_loss: 0.6021 - val_accuracy: 0.7342\n",
            "Epoch 18/120\n",
            "23/23 [==============================] - 0s 4ms/step - loss: 0.6137 - accuracy: 0.6950 - val_loss: 0.6029 - val_accuracy: 0.7342\n",
            "Epoch 19/120\n",
            "23/23 [==============================] - 0s 4ms/step - loss: 0.6134 - accuracy: 0.6908 - val_loss: 0.6091 - val_accuracy: 0.7342\n",
            "Epoch 20/120\n",
            "23/23 [==============================] - 0s 3ms/step - loss: 0.6130 - accuracy: 0.6894 - val_loss: 0.6041 - val_accuracy: 0.7342\n",
            "Epoch 21/120\n",
            "23/23 [==============================] - 0s 3ms/step - loss: 0.6154 - accuracy: 0.6936 - val_loss: 0.6040 - val_accuracy: 0.7468\n",
            "Epoch 22/120\n",
            "23/23 [==============================] - 0s 3ms/step - loss: 0.6107 - accuracy: 0.6894 - val_loss: 0.7045 - val_accuracy: 0.3544\n",
            "Epoch 23/120\n",
            "23/23 [==============================] - 0s 4ms/step - loss: 0.6891 - accuracy: 0.5206 - val_loss: 0.6860 - val_accuracy: 0.4937\n",
            "Epoch 24/120\n",
            "23/23 [==============================] - 0s 4ms/step - loss: 0.6436 - accuracy: 0.6667 - val_loss: 0.6111 - val_accuracy: 0.7342\n",
            "Epoch 25/120\n",
            "23/23 [==============================] - 0s 4ms/step - loss: 0.6129 - accuracy: 0.6936 - val_loss: 0.6287 - val_accuracy: 0.6962\n",
            "Epoch 26/120\n",
            "23/23 [==============================] - 0s 4ms/step - loss: 0.6141 - accuracy: 0.6922 - val_loss: 0.6108 - val_accuracy: 0.7342\n",
            "Epoch 27/120\n",
            "23/23 [==============================] - 0s 3ms/step - loss: 0.6114 - accuracy: 0.6922 - val_loss: 0.5992 - val_accuracy: 0.7342\n",
            "Epoch 28/120\n",
            "23/23 [==============================] - 0s 4ms/step - loss: 0.6092 - accuracy: 0.6922 - val_loss: 0.6026 - val_accuracy: 0.7468\n",
            "Epoch 29/120\n",
            "23/23 [==============================] - 0s 3ms/step - loss: 0.6099 - accuracy: 0.6908 - val_loss: 0.6121 - val_accuracy: 0.7342\n",
            "Epoch 30/120\n",
            "23/23 [==============================] - 0s 4ms/step - loss: 0.6097 - accuracy: 0.6922 - val_loss: 0.6320 - val_accuracy: 0.6962\n",
            "Epoch 31/120\n",
            "23/23 [==============================] - 0s 4ms/step - loss: 0.6116 - accuracy: 0.6865 - val_loss: 0.6060 - val_accuracy: 0.7468\n",
            "Epoch 32/120\n",
            "23/23 [==============================] - 0s 6ms/step - loss: 0.6101 - accuracy: 0.6908 - val_loss: 0.6067 - val_accuracy: 0.7342\n",
            "Epoch 33/120\n",
            "23/23 [==============================] - 0s 6ms/step - loss: 0.6099 - accuracy: 0.6894 - val_loss: 0.6033 - val_accuracy: 0.7468\n",
            "Epoch 34/120\n",
            "23/23 [==============================] - 0s 6ms/step - loss: 0.6089 - accuracy: 0.6950 - val_loss: 0.6041 - val_accuracy: 0.7342\n",
            "Epoch 35/120\n",
            "23/23 [==============================] - 0s 6ms/step - loss: 0.6092 - accuracy: 0.6922 - val_loss: 0.6003 - val_accuracy: 0.7089\n",
            "Epoch 36/120\n",
            "23/23 [==============================] - 0s 6ms/step - loss: 0.6098 - accuracy: 0.6936 - val_loss: 0.6007 - val_accuracy: 0.7089\n",
            "Epoch 37/120\n",
            "23/23 [==============================] - 0s 5ms/step - loss: 0.6102 - accuracy: 0.6908 - val_loss: 0.5971 - val_accuracy: 0.7342\n",
            "Epoch 38/120\n",
            "23/23 [==============================] - 0s 7ms/step - loss: 0.6082 - accuracy: 0.6936 - val_loss: 0.6004 - val_accuracy: 0.7468\n",
            "Epoch 39/120\n",
            "23/23 [==============================] - 0s 6ms/step - loss: 0.6073 - accuracy: 0.6894 - val_loss: 0.5993 - val_accuracy: 0.7468\n",
            "Epoch 40/120\n",
            "23/23 [==============================] - 0s 6ms/step - loss: 0.6072 - accuracy: 0.6894 - val_loss: 0.6017 - val_accuracy: 0.7468\n",
            "Epoch 41/120\n",
            "23/23 [==============================] - 0s 5ms/step - loss: 0.6063 - accuracy: 0.6993 - val_loss: 0.6012 - val_accuracy: 0.7468\n",
            "Epoch 42/120\n",
            "23/23 [==============================] - 0s 6ms/step - loss: 0.6063 - accuracy: 0.6922 - val_loss: 0.5990 - val_accuracy: 0.7342\n",
            "Epoch 43/120\n",
            "23/23 [==============================] - 0s 6ms/step - loss: 0.6059 - accuracy: 0.6950 - val_loss: 0.6455 - val_accuracy: 0.6709\n",
            "Epoch 44/120\n",
            "23/23 [==============================] - 0s 6ms/step - loss: 0.6112 - accuracy: 0.6794 - val_loss: 0.5965 - val_accuracy: 0.7342\n",
            "Epoch 45/120\n",
            "23/23 [==============================] - 0s 6ms/step - loss: 0.6055 - accuracy: 0.6950 - val_loss: 0.6014 - val_accuracy: 0.7468\n",
            "Epoch 46/120\n",
            "23/23 [==============================] - 0s 6ms/step - loss: 0.6054 - accuracy: 0.6936 - val_loss: 0.5996 - val_accuracy: 0.7468\n",
            "Epoch 47/120\n",
            "23/23 [==============================] - 0s 6ms/step - loss: 0.6039 - accuracy: 0.6908 - val_loss: 0.5981 - val_accuracy: 0.7342\n",
            "Epoch 48/120\n",
            "23/23 [==============================] - 0s 6ms/step - loss: 0.6046 - accuracy: 0.7021 - val_loss: 0.6005 - val_accuracy: 0.7468\n",
            "Epoch 49/120\n",
            "23/23 [==============================] - 0s 6ms/step - loss: 0.6032 - accuracy: 0.6979 - val_loss: 0.6557 - val_accuracy: 0.6329\n",
            "Epoch 50/120\n",
            "23/23 [==============================] - 0s 6ms/step - loss: 0.6104 - accuracy: 0.6794 - val_loss: 0.5990 - val_accuracy: 0.7342\n",
            "Epoch 51/120\n",
            "23/23 [==============================] - 0s 4ms/step - loss: 0.6037 - accuracy: 0.6908 - val_loss: 0.6142 - val_accuracy: 0.7468\n",
            "Epoch 52/120\n",
            "23/23 [==============================] - 0s 4ms/step - loss: 0.6028 - accuracy: 0.6936 - val_loss: 0.5994 - val_accuracy: 0.7342\n",
            "Epoch 53/120\n",
            "23/23 [==============================] - 0s 3ms/step - loss: 0.6044 - accuracy: 0.6879 - val_loss: 0.6455 - val_accuracy: 0.6582\n",
            "Epoch 54/120\n",
            "23/23 [==============================] - 0s 4ms/step - loss: 0.6046 - accuracy: 0.6908 - val_loss: 0.6456 - val_accuracy: 0.6456\n",
            "Epoch 55/120\n",
            "23/23 [==============================] - 0s 5ms/step - loss: 0.6083 - accuracy: 0.6780 - val_loss: 0.6574 - val_accuracy: 0.6076\n",
            "Epoch 56/120\n",
            "23/23 [==============================] - 0s 3ms/step - loss: 0.6109 - accuracy: 0.6809 - val_loss: 0.6752 - val_accuracy: 0.5823\n",
            "Epoch 57/120\n",
            "23/23 [==============================] - 0s 4ms/step - loss: 0.6136 - accuracy: 0.6738 - val_loss: 0.6024 - val_accuracy: 0.7342\n",
            "Epoch 58/120\n",
            "23/23 [==============================] - 0s 4ms/step - loss: 0.6040 - accuracy: 0.6837 - val_loss: 0.6099 - val_accuracy: 0.7342\n",
            "Epoch 59/120\n",
            "23/23 [==============================] - 0s 4ms/step - loss: 0.6007 - accuracy: 0.6936 - val_loss: 0.6053 - val_accuracy: 0.7342\n",
            "Epoch 60/120\n",
            "23/23 [==============================] - 0s 4ms/step - loss: 0.6011 - accuracy: 0.6922 - val_loss: 0.6013 - val_accuracy: 0.7468\n",
            "Epoch 61/120\n",
            "23/23 [==============================] - 0s 4ms/step - loss: 0.6036 - accuracy: 0.6950 - val_loss: 0.6561 - val_accuracy: 0.6076\n",
            "Epoch 62/120\n",
            "23/23 [==============================] - 0s 3ms/step - loss: 0.6080 - accuracy: 0.6809 - val_loss: 0.6629 - val_accuracy: 0.5949\n",
            "Epoch 63/120\n",
            "23/23 [==============================] - 0s 4ms/step - loss: 0.6058 - accuracy: 0.6780 - val_loss: 0.6140 - val_accuracy: 0.7342\n",
            "Epoch 64/120\n",
            "23/23 [==============================] - 0s 4ms/step - loss: 0.5996 - accuracy: 0.6879 - val_loss: 0.6110 - val_accuracy: 0.7468\n",
            "Epoch 65/120\n",
            "23/23 [==============================] - 0s 4ms/step - loss: 0.6002 - accuracy: 0.6879 - val_loss: 0.5968 - val_accuracy: 0.7468\n",
            "Epoch 66/120\n",
            "23/23 [==============================] - 0s 4ms/step - loss: 0.6007 - accuracy: 0.6979 - val_loss: 0.5955 - val_accuracy: 0.7468\n",
            "Epoch 67/120\n",
            "23/23 [==============================] - 0s 4ms/step - loss: 0.6005 - accuracy: 0.6965 - val_loss: 0.6027 - val_accuracy: 0.7342\n",
            "Epoch 68/120\n",
            "23/23 [==============================] - 0s 4ms/step - loss: 0.5980 - accuracy: 0.6979 - val_loss: 0.5964 - val_accuracy: 0.7342\n",
            "Epoch 69/120\n",
            "23/23 [==============================] - 0s 4ms/step - loss: 0.5993 - accuracy: 0.7007 - val_loss: 0.5974 - val_accuracy: 0.7468\n",
            "Epoch 70/120\n",
            "23/23 [==============================] - 0s 4ms/step - loss: 0.5986 - accuracy: 0.6965 - val_loss: 0.5983 - val_accuracy: 0.7342\n",
            "Epoch 71/120\n",
            "23/23 [==============================] - 0s 4ms/step - loss: 0.5981 - accuracy: 0.6979 - val_loss: 0.6059 - val_accuracy: 0.7342\n",
            "Epoch 72/120\n",
            "23/23 [==============================] - 0s 4ms/step - loss: 0.5983 - accuracy: 0.6950 - val_loss: 0.5979 - val_accuracy: 0.7342\n",
            "Epoch 73/120\n",
            "23/23 [==============================] - 0s 4ms/step - loss: 0.5981 - accuracy: 0.6965 - val_loss: 0.7039 - val_accuracy: 0.4430\n",
            "Epoch 74/120\n",
            "23/23 [==============================] - 0s 4ms/step - loss: 0.6235 - accuracy: 0.6638 - val_loss: 0.6733 - val_accuracy: 0.5696\n",
            "Epoch 75/120\n",
            "23/23 [==============================] - 0s 5ms/step - loss: 0.6076 - accuracy: 0.6738 - val_loss: 0.6917 - val_accuracy: 0.4810\n",
            "Epoch 76/120\n",
            "23/23 [==============================] - 0s 4ms/step - loss: 0.6120 - accuracy: 0.6780 - val_loss: 0.5994 - val_accuracy: 0.7342\n",
            "Epoch 77/120\n",
            "23/23 [==============================] - 0s 4ms/step - loss: 0.5973 - accuracy: 0.6894 - val_loss: 0.5992 - val_accuracy: 0.7468\n",
            "Epoch 78/120\n",
            "23/23 [==============================] - 0s 4ms/step - loss: 0.5959 - accuracy: 0.6979 - val_loss: 0.6075 - val_accuracy: 0.7468\n",
            "Epoch 79/120\n",
            "23/23 [==============================] - 0s 4ms/step - loss: 0.5969 - accuracy: 0.6965 - val_loss: 0.6790 - val_accuracy: 0.5570\n",
            "Epoch 80/120\n",
            "23/23 [==============================] - 0s 4ms/step - loss: 0.6068 - accuracy: 0.6865 - val_loss: 0.5943 - val_accuracy: 0.7468\n",
            "Epoch 81/120\n",
            "23/23 [==============================] - 0s 3ms/step - loss: 0.5948 - accuracy: 0.6922 - val_loss: 0.6516 - val_accuracy: 0.6582\n",
            "Epoch 82/120\n",
            "23/23 [==============================] - 0s 4ms/step - loss: 0.6038 - accuracy: 0.6965 - val_loss: 0.5935 - val_accuracy: 0.7468\n",
            "Epoch 83/120\n",
            "23/23 [==============================] - 0s 3ms/step - loss: 0.5953 - accuracy: 0.6993 - val_loss: 0.5907 - val_accuracy: 0.7342\n",
            "Epoch 84/120\n",
            "23/23 [==============================] - 0s 5ms/step - loss: 0.5932 - accuracy: 0.6936 - val_loss: 0.6398 - val_accuracy: 0.6582\n",
            "Epoch 85/120\n",
            "23/23 [==============================] - 0s 4ms/step - loss: 0.5967 - accuracy: 0.6837 - val_loss: 0.6049 - val_accuracy: 0.7342\n",
            "Epoch 86/120\n",
            "23/23 [==============================] - 0s 4ms/step - loss: 0.5943 - accuracy: 0.6979 - val_loss: 0.6070 - val_accuracy: 0.7468\n",
            "Epoch 87/120\n",
            "23/23 [==============================] - 0s 4ms/step - loss: 0.5925 - accuracy: 0.6993 - val_loss: 0.5962 - val_accuracy: 0.7342\n",
            "Epoch 88/120\n",
            "23/23 [==============================] - 0s 4ms/step - loss: 0.5931 - accuracy: 0.6908 - val_loss: 0.5945 - val_accuracy: 0.7468\n",
            "Epoch 89/120\n",
            "23/23 [==============================] - 0s 3ms/step - loss: 0.5917 - accuracy: 0.6979 - val_loss: 0.6995 - val_accuracy: 0.4557\n",
            "Epoch 90/120\n",
            "23/23 [==============================] - 0s 5ms/step - loss: 0.6072 - accuracy: 0.6993 - val_loss: 0.7514 - val_accuracy: 0.7089\n",
            "Epoch 91/120\n",
            "23/23 [==============================] - 0s 4ms/step - loss: 0.6194 - accuracy: 0.6823 - val_loss: 0.5903 - val_accuracy: 0.7342\n",
            "Epoch 92/120\n",
            "23/23 [==============================] - 0s 4ms/step - loss: 0.5912 - accuracy: 0.7050 - val_loss: 0.6358 - val_accuracy: 0.6962\n",
            "Epoch 93/120\n",
            "23/23 [==============================] - 0s 4ms/step - loss: 0.6004 - accuracy: 0.6908 - val_loss: 0.5898 - val_accuracy: 0.7342\n",
            "Epoch 94/120\n",
            "23/23 [==============================] - 0s 3ms/step - loss: 0.5910 - accuracy: 0.6993 - val_loss: 0.6566 - val_accuracy: 0.6203\n",
            "Epoch 95/120\n",
            "23/23 [==============================] - 0s 4ms/step - loss: 0.5987 - accuracy: 0.7035 - val_loss: 0.5889 - val_accuracy: 0.7342\n",
            "Epoch 96/120\n",
            "23/23 [==============================] - 0s 5ms/step - loss: 0.5924 - accuracy: 0.6950 - val_loss: 0.6161 - val_accuracy: 0.7342\n",
            "Epoch 97/120\n",
            "23/23 [==============================] - 0s 3ms/step - loss: 0.5975 - accuracy: 0.6809 - val_loss: 0.5919 - val_accuracy: 0.7215\n",
            "Epoch 98/120\n",
            "23/23 [==============================] - 0s 4ms/step - loss: 0.5899 - accuracy: 0.7021 - val_loss: 0.5915 - val_accuracy: 0.7342\n",
            "Epoch 99/120\n",
            "23/23 [==============================] - 0s 4ms/step - loss: 0.5876 - accuracy: 0.6993 - val_loss: 0.6086 - val_accuracy: 0.7342\n",
            "Epoch 100/120\n",
            "23/23 [==============================] - 0s 4ms/step - loss: 0.5893 - accuracy: 0.6979 - val_loss: 0.5894 - val_accuracy: 0.7342\n",
            "Epoch 101/120\n",
            "23/23 [==============================] - 0s 4ms/step - loss: 0.5872 - accuracy: 0.7021 - val_loss: 0.5908 - val_accuracy: 0.7342\n",
            "Epoch 102/120\n",
            "23/23 [==============================] - 0s 4ms/step - loss: 0.5878 - accuracy: 0.6993 - val_loss: 0.5961 - val_accuracy: 0.7342\n",
            "Epoch 103/120\n",
            "23/23 [==============================] - 0s 4ms/step - loss: 0.5861 - accuracy: 0.7021 - val_loss: 0.5926 - val_accuracy: 0.7342\n",
            "Epoch 104/120\n",
            "23/23 [==============================] - 0s 4ms/step - loss: 0.5843 - accuracy: 0.7035 - val_loss: 0.7278 - val_accuracy: 0.4304\n",
            "Epoch 105/120\n",
            "23/23 [==============================] - 0s 4ms/step - loss: 0.6026 - accuracy: 0.6922 - val_loss: 0.5883 - val_accuracy: 0.7089\n",
            "Epoch 106/120\n",
            "23/23 [==============================] - 0s 5ms/step - loss: 0.5847 - accuracy: 0.7021 - val_loss: 0.6219 - val_accuracy: 0.7342\n",
            "Epoch 107/120\n",
            "23/23 [==============================] - 0s 4ms/step - loss: 0.5907 - accuracy: 0.6993 - val_loss: 0.5886 - val_accuracy: 0.7089\n",
            "Epoch 108/120\n",
            "23/23 [==============================] - 0s 4ms/step - loss: 0.5850 - accuracy: 0.7050 - val_loss: 0.5871 - val_accuracy: 0.7468\n",
            "Epoch 109/120\n",
            "23/23 [==============================] - 0s 4ms/step - loss: 0.5837 - accuracy: 0.6979 - val_loss: 0.7071 - val_accuracy: 0.6962\n",
            "Epoch 110/120\n",
            "23/23 [==============================] - 0s 4ms/step - loss: 0.5947 - accuracy: 0.6993 - val_loss: 0.6845 - val_accuracy: 0.5316\n",
            "Epoch 111/120\n",
            "23/23 [==============================] - 0s 5ms/step - loss: 0.5923 - accuracy: 0.7007 - val_loss: 0.5893 - val_accuracy: 0.7089\n",
            "Epoch 112/120\n",
            "23/23 [==============================] - 0s 4ms/step - loss: 0.5811 - accuracy: 0.7050 - val_loss: 0.6113 - val_accuracy: 0.7342\n",
            "Epoch 113/120\n",
            "23/23 [==============================] - 0s 4ms/step - loss: 0.5865 - accuracy: 0.6879 - val_loss: 0.6015 - val_accuracy: 0.7089\n",
            "Epoch 114/120\n",
            "23/23 [==============================] - 0s 4ms/step - loss: 0.5796 - accuracy: 0.6993 - val_loss: 0.6968 - val_accuracy: 0.6962\n",
            "Epoch 115/120\n",
            "23/23 [==============================] - 0s 4ms/step - loss: 0.5948 - accuracy: 0.6979 - val_loss: 0.5895 - val_accuracy: 0.7342\n",
            "Epoch 116/120\n",
            "23/23 [==============================] - 0s 5ms/step - loss: 0.5797 - accuracy: 0.6950 - val_loss: 0.5962 - val_accuracy: 0.7342\n",
            "Epoch 117/120\n",
            "23/23 [==============================] - 0s 3ms/step - loss: 0.5778 - accuracy: 0.7092 - val_loss: 0.5994 - val_accuracy: 0.7215\n",
            "Epoch 118/120\n",
            "23/23 [==============================] - 0s 4ms/step - loss: 0.5820 - accuracy: 0.7035 - val_loss: 0.5812 - val_accuracy: 0.7342\n",
            "Epoch 119/120\n",
            "23/23 [==============================] - 0s 3ms/step - loss: 0.5791 - accuracy: 0.7163 - val_loss: 0.6948 - val_accuracy: 0.4937\n",
            "Epoch 120/120\n",
            "23/23 [==============================] - 0s 4ms/step - loss: 0.5873 - accuracy: 0.6979 - val_loss: 0.7363 - val_accuracy: 0.3924\n"
          ]
        }
      ]
    },
    {
      "cell_type": "code",
      "source": [
        "test_loss, test_acc = model.evaluate(np.array(X_test), Y_test)\n",
        "print('Test accuracy:', test_acc)"
      ],
      "metadata": {
        "colab": {
          "base_uri": "https://localhost:8080/"
        },
        "id": "f8vthI8Fn3WR",
        "outputId": "2af23794-fde5-4708-ad5e-d3a3bde53760"
      },
      "execution_count": 429,
      "outputs": [
        {
          "output_type": "stream",
          "name": "stdout",
          "text": [
            "4/4 [==============================] - 0s 4ms/step - loss: 0.6712 - accuracy: 0.5514\n",
            "Test accuracy: 0.5514018535614014\n"
          ]
        }
      ]
    },
    {
      "cell_type": "code",
      "source": [
        "import matplotlib.pyplot as plt"
      ],
      "metadata": {
        "id": "BozI4rmLn-qU"
      },
      "execution_count": 430,
      "outputs": []
    },
    {
      "cell_type": "code",
      "source": [
        "loss_train = history.history['loss']\n",
        "loss_val = history.history['val_loss']\n",
        "epochs = range(1,121)\n",
        "plt.plot(epochs, loss_train, 'g', label='Training loss')\n",
        "plt.plot(epochs, loss_val, 'b', label='validation loss')\n",
        "plt.title('Training and Validation loss')\n",
        "plt.xlabel('Epochs')\n",
        "plt.ylabel('Loss')\n",
        "plt.legend()\n",
        "plt.show()\n"
      ],
      "metadata": {
        "colab": {
          "base_uri": "https://localhost:8080/",
          "height": 301
        },
        "id": "V8SN_XrLoOxD",
        "outputId": "d2a1e47f-6069-4492-ce94-dab54e25f76b"
      },
      "execution_count": 431,
      "outputs": [
        {
          "output_type": "display_data",
          "data": {
            "text/plain": [
              "<Figure size 432x288 with 1 Axes>"
            ],
            "image/png": "[encoded data removed]"
          },
          "metadata": {}
        }
      ]
    }
  ]
}