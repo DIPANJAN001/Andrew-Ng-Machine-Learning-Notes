{
  "nbformat": 4,
  "nbformat_minor": 0,
  "metadata": {
    "colab": {
      "provenance": [],
      "authorship_tag": "ABX9TyNRIre1NnOOS2gVvoB/p5xj",
      "include_colab_link": true
    },
    "kernelspec": {
      "name": "python3",
      "display_name": "Python 3"
    },
    "language_info": {
      "name": "python"
    }
  },
  "cells": [
    {
      "cell_type": "markdown",
      "metadata": {
        "id": "view-in-github",
        "colab_type": "text"
      },
      "source": [
        "<a href=\"https://colab.research.google.com/github/DIPANJAN001/Andrew-Ng-Machine-Learning-Notes/blob/master/PVx1.ipynb\" target=\"_parent\"><img src=\"https://colab.research.google.com/assets/colab-badge.svg\" alt=\"Open In Colab\"/></a>"
      ]
    },
    {
      "cell_type": "code",
      "execution_count": 27,
      "metadata": {
        "colab": {
          "base_uri": "https://localhost:8080/"
        },
        "id": "B57RdFK_WG53",
        "outputId": "9e4ab96d-4760-4914-c85f-584c3f3ca8a0"
      },
      "outputs": [
        {
          "output_type": "stream",
          "name": "stdout",
          "text": [
            "Looking in indexes: https://pypi.org/simple, https://us-python.pkg.dev/colab-wheels/public/simple/\n",
            "Requirement already satisfied: Boruta in /usr/local/lib/python3.7/dist-packages (0.3)\n",
            "Requirement already satisfied: numpy>=1.10.4 in /usr/local/lib/python3.7/dist-packages (from Boruta) (1.21.6)\n",
            "Requirement already satisfied: scikit-learn>=0.17.1 in /usr/local/lib/python3.7/dist-packages (from Boruta) (1.0.2)\n",
            "Requirement already satisfied: scipy>=0.17.0 in /usr/local/lib/python3.7/dist-packages (from Boruta) (1.7.3)\n",
            "Requirement already satisfied: joblib>=0.11 in /usr/local/lib/python3.7/dist-packages (from scikit-learn>=0.17.1->Boruta) (1.2.0)\n",
            "Requirement already satisfied: threadpoolctl>=2.0.0 in /usr/local/lib/python3.7/dist-packages (from scikit-learn>=0.17.1->Boruta) (3.1.0)\n"
          ]
        }
      ],
      "source": [
        "import pandas as pd\n",
        "import numpy as np\n",
        "import matplotlib.pyplot as plt\n",
        "!pip install Boruta\n",
        "import pandas as pd\n",
        "import numpy as np\n",
        "from sklearn.ensemble import RandomForestRegressor\n",
        "from boruta import BorutaPy\n",
        "from sklearn.model_selection import train_test_split\n",
        "from sklearn.metrics import accuracy_score\n",
        "from keras.models import Sequential\n",
        "from keras.layers import Dense\n",
        "from keras.layers import LSTM\n",
        "from keras.layers import Dropout\n",
        "from keras.layers import concatenate\n",
        "from keras import Model\n",
        "from keras.layers import Input"
      ]
    },
    {
      "cell_type": "code",
      "source": [
        "df=pd.read_excel(\"/content/pv_04.xlsx\")\n",
        "weather_input1=df.drop('power_normed',axis=1)\n",
        "weather_input=weather_input1.drop('time_idx',axis=1)\n",
        "solpow=df['power_normed']"
      ],
      "metadata": {
        "id": "yppt8YsWW7Q-"
      },
      "execution_count": 28,
      "outputs": []
    },
    {
      "cell_type": "code",
      "source": [
        "rfc = RandomForestRegressor(random_state=1, n_estimators=1000, max_depth=5)\n",
        "boruta_selector = BorutaPy(rfc, n_estimators='auto', verbose=2, random_state=1)\n",
        "boruta_selector.fit(np.array(weather_input), np.array(solpow)) "
      ],
      "metadata": {
        "colab": {
          "base_uri": "https://localhost:8080/",
          "height": 346
        },
        "id": "27rOaZCAXZ8a",
        "outputId": "f8d72a56-898d-42ae-fd03-81873ae09acb"
      },
      "execution_count": 29,
      "outputs": [
        {
          "output_type": "error",
          "ename": "KeyboardInterrupt",
          "evalue": "ignored",
          "traceback": [
            "\u001b[0;31m---------------------------------------------------------------------------\u001b[0m",
            "\u001b[0;31mKeyboardInterrupt\u001b[0m                         Traceback (most recent call last)",
            "\u001b[0;32m<ipython-input-29-5b1a98468926>\u001b[0m in \u001b[0;36m<module>\u001b[0;34m\u001b[0m\n\u001b[1;32m      1\u001b[0m \u001b[0mrfc\u001b[0m \u001b[0;34m=\u001b[0m \u001b[0mRandomForestRegressor\u001b[0m\u001b[0;34m(\u001b[0m\u001b[0mrandom_state\u001b[0m\u001b[0;34m=\u001b[0m\u001b[0;36m1\u001b[0m\u001b[0;34m,\u001b[0m \u001b[0mn_estimators\u001b[0m\u001b[0;34m=\u001b[0m\u001b[0;36m1000\u001b[0m\u001b[0;34m,\u001b[0m \u001b[0mmax_depth\u001b[0m\u001b[0;34m=\u001b[0m\u001b[0;36m5\u001b[0m\u001b[0;34m)\u001b[0m\u001b[0;34m\u001b[0m\u001b[0;34m\u001b[0m\u001b[0m\n\u001b[1;32m      2\u001b[0m \u001b[0mboruta_selector\u001b[0m \u001b[0;34m=\u001b[0m \u001b[0mBorutaPy\u001b[0m\u001b[0;34m(\u001b[0m\u001b[0mrfc\u001b[0m\u001b[0;34m,\u001b[0m \u001b[0mn_estimators\u001b[0m\u001b[0;34m=\u001b[0m\u001b[0;34m'auto'\u001b[0m\u001b[0;34m,\u001b[0m \u001b[0mverbose\u001b[0m\u001b[0;34m=\u001b[0m\u001b[0;36m2\u001b[0m\u001b[0;34m,\u001b[0m \u001b[0mrandom_state\u001b[0m\u001b[0;34m=\u001b[0m\u001b[0;36m1\u001b[0m\u001b[0;34m)\u001b[0m\u001b[0;34m\u001b[0m\u001b[0;34m\u001b[0m\u001b[0m\n\u001b[0;32m----> 3\u001b[0;31m \u001b[0mboruta_selector\u001b[0m\u001b[0;34m.\u001b[0m\u001b[0mfit\u001b[0m\u001b[0;34m(\u001b[0m\u001b[0mnp\u001b[0m\u001b[0;34m.\u001b[0m\u001b[0marray\u001b[0m\u001b[0;34m(\u001b[0m\u001b[0mweather_input\u001b[0m\u001b[0;34m)\u001b[0m\u001b[0;34m,\u001b[0m \u001b[0mnp\u001b[0m\u001b[0;34m.\u001b[0m\u001b[0marray\u001b[0m\u001b[0;34m(\u001b[0m\u001b[0msolpow\u001b[0m\u001b[0;34m)\u001b[0m\u001b[0;34m)\u001b[0m\u001b[0;34m\u001b[0m\u001b[0;34m\u001b[0m\u001b[0m\n\u001b[0m",
            "\u001b[0;32m/usr/local/lib/python3.7/dist-packages/boruta/boruta_py.py\u001b[0m in \u001b[0;36mfit\u001b[0;34m(self, X, y)\u001b[0m\n\u001b[1;32m    199\u001b[0m         \"\"\"\n\u001b[1;32m    200\u001b[0m \u001b[0;34m\u001b[0m\u001b[0m\n\u001b[0;32m--> 201\u001b[0;31m         \u001b[0;32mreturn\u001b[0m \u001b[0mself\u001b[0m\u001b[0;34m.\u001b[0m\u001b[0m_fit\u001b[0m\u001b[0;34m(\u001b[0m\u001b[0mX\u001b[0m\u001b[0;34m,\u001b[0m \u001b[0my\u001b[0m\u001b[0;34m)\u001b[0m\u001b[0;34m\u001b[0m\u001b[0;34m\u001b[0m\u001b[0m\n\u001b[0m\u001b[1;32m    202\u001b[0m \u001b[0;34m\u001b[0m\u001b[0m\n\u001b[1;32m    203\u001b[0m     \u001b[0;32mdef\u001b[0m \u001b[0mtransform\u001b[0m\u001b[0;34m(\u001b[0m\u001b[0mself\u001b[0m\u001b[0;34m,\u001b[0m \u001b[0mX\u001b[0m\u001b[0;34m,\u001b[0m \u001b[0mweak\u001b[0m\u001b[0;34m=\u001b[0m\u001b[0;32mFalse\u001b[0m\u001b[0;34m)\u001b[0m\u001b[0;34m:\u001b[0m\u001b[0;34m\u001b[0m\u001b[0;34m\u001b[0m\u001b[0m\n",
            "\u001b[0;32m/usr/local/lib/python3.7/dist-packages/boruta/boruta_py.py\u001b[0m in \u001b[0;36m_fit\u001b[0;34m(self, X, y)\u001b[0m\n\u001b[1;32m    283\u001b[0m \u001b[0;34m\u001b[0m\u001b[0m\n\u001b[1;32m    284\u001b[0m             \u001b[0;31m# add shadow attributes, shuffle them and train estimator, get imps\u001b[0m\u001b[0;34m\u001b[0m\u001b[0;34m\u001b[0m\u001b[0;34m\u001b[0m\u001b[0m\n\u001b[0;32m--> 285\u001b[0;31m             \u001b[0mcur_imp\u001b[0m \u001b[0;34m=\u001b[0m \u001b[0mself\u001b[0m\u001b[0;34m.\u001b[0m\u001b[0m_add_shadows_get_imps\u001b[0m\u001b[0;34m(\u001b[0m\u001b[0mX\u001b[0m\u001b[0;34m,\u001b[0m \u001b[0my\u001b[0m\u001b[0;34m,\u001b[0m \u001b[0mdec_reg\u001b[0m\u001b[0;34m)\u001b[0m\u001b[0;34m\u001b[0m\u001b[0;34m\u001b[0m\u001b[0m\n\u001b[0m\u001b[1;32m    286\u001b[0m \u001b[0;34m\u001b[0m\u001b[0m\n\u001b[1;32m    287\u001b[0m             \u001b[0;31m# get the threshold of shadow importances we will use for rejection\u001b[0m\u001b[0;34m\u001b[0m\u001b[0;34m\u001b[0m\u001b[0;34m\u001b[0m\u001b[0m\n",
            "\u001b[0;32m/usr/local/lib/python3.7/dist-packages/boruta/boruta_py.py\u001b[0m in \u001b[0;36m_add_shadows_get_imps\u001b[0;34m(self, X, y, dec_reg)\u001b[0m\n\u001b[1;32m    410\u001b[0m         \u001b[0mx_sha\u001b[0m \u001b[0;34m=\u001b[0m \u001b[0mnp\u001b[0m\u001b[0;34m.\u001b[0m\u001b[0mapply_along_axis\u001b[0m\u001b[0;34m(\u001b[0m\u001b[0mself\u001b[0m\u001b[0;34m.\u001b[0m\u001b[0m_get_shuffle\u001b[0m\u001b[0;34m,\u001b[0m \u001b[0;36m0\u001b[0m\u001b[0;34m,\u001b[0m \u001b[0mx_sha\u001b[0m\u001b[0;34m)\u001b[0m\u001b[0;34m\u001b[0m\u001b[0;34m\u001b[0m\u001b[0m\n\u001b[1;32m    411\u001b[0m         \u001b[0;31m# get importance of the merged matrix\u001b[0m\u001b[0;34m\u001b[0m\u001b[0;34m\u001b[0m\u001b[0;34m\u001b[0m\u001b[0m\n\u001b[0;32m--> 412\u001b[0;31m         \u001b[0mimp\u001b[0m \u001b[0;34m=\u001b[0m \u001b[0mself\u001b[0m\u001b[0;34m.\u001b[0m\u001b[0m_get_imp\u001b[0m\u001b[0;34m(\u001b[0m\u001b[0mnp\u001b[0m\u001b[0;34m.\u001b[0m\u001b[0mhstack\u001b[0m\u001b[0;34m(\u001b[0m\u001b[0;34m(\u001b[0m\u001b[0mx_cur\u001b[0m\u001b[0;34m,\u001b[0m \u001b[0mx_sha\u001b[0m\u001b[0;34m)\u001b[0m\u001b[0;34m)\u001b[0m\u001b[0;34m,\u001b[0m \u001b[0my\u001b[0m\u001b[0;34m)\u001b[0m\u001b[0;34m\u001b[0m\u001b[0;34m\u001b[0m\u001b[0m\n\u001b[0m\u001b[1;32m    413\u001b[0m         \u001b[0;31m# separate importances of real and shadow features\u001b[0m\u001b[0;34m\u001b[0m\u001b[0;34m\u001b[0m\u001b[0;34m\u001b[0m\u001b[0m\n\u001b[1;32m    414\u001b[0m         \u001b[0mimp_sha\u001b[0m \u001b[0;34m=\u001b[0m \u001b[0mimp\u001b[0m\u001b[0;34m[\u001b[0m\u001b[0mx_cur_w\u001b[0m\u001b[0;34m:\u001b[0m\u001b[0;34m]\u001b[0m\u001b[0;34m\u001b[0m\u001b[0;34m\u001b[0m\u001b[0m\n",
            "\u001b[0;32m/usr/local/lib/python3.7/dist-packages/boruta/boruta_py.py\u001b[0m in \u001b[0;36m_get_imp\u001b[0;34m(self, X, y)\u001b[0m\n\u001b[1;32m    382\u001b[0m     \u001b[0;32mdef\u001b[0m \u001b[0m_get_imp\u001b[0m\u001b[0;34m(\u001b[0m\u001b[0mself\u001b[0m\u001b[0;34m,\u001b[0m \u001b[0mX\u001b[0m\u001b[0;34m,\u001b[0m \u001b[0my\u001b[0m\u001b[0;34m)\u001b[0m\u001b[0;34m:\u001b[0m\u001b[0;34m\u001b[0m\u001b[0;34m\u001b[0m\u001b[0m\n\u001b[1;32m    383\u001b[0m         \u001b[0;32mtry\u001b[0m\u001b[0;34m:\u001b[0m\u001b[0;34m\u001b[0m\u001b[0;34m\u001b[0m\u001b[0m\n\u001b[0;32m--> 384\u001b[0;31m             \u001b[0mself\u001b[0m\u001b[0;34m.\u001b[0m\u001b[0mestimator\u001b[0m\u001b[0;34m.\u001b[0m\u001b[0mfit\u001b[0m\u001b[0;34m(\u001b[0m\u001b[0mX\u001b[0m\u001b[0;34m,\u001b[0m \u001b[0my\u001b[0m\u001b[0;34m)\u001b[0m\u001b[0;34m\u001b[0m\u001b[0;34m\u001b[0m\u001b[0m\n\u001b[0m\u001b[1;32m    385\u001b[0m         \u001b[0;32mexcept\u001b[0m \u001b[0mException\u001b[0m \u001b[0;32mas\u001b[0m \u001b[0me\u001b[0m\u001b[0;34m:\u001b[0m\u001b[0;34m\u001b[0m\u001b[0;34m\u001b[0m\u001b[0m\n\u001b[1;32m    386\u001b[0m             raise ValueError('Please check your X and y variable. The provided'\n",
            "\u001b[0;32m/usr/local/lib/python3.7/dist-packages/sklearn/ensemble/_forest.py\u001b[0m in \u001b[0;36mfit\u001b[0;34m(self, X, y, sample_weight)\u001b[0m\n\u001b[1;32m    465\u001b[0m                     \u001b[0mn_samples_bootstrap\u001b[0m\u001b[0;34m=\u001b[0m\u001b[0mn_samples_bootstrap\u001b[0m\u001b[0;34m,\u001b[0m\u001b[0;34m\u001b[0m\u001b[0;34m\u001b[0m\u001b[0m\n\u001b[1;32m    466\u001b[0m                 )\n\u001b[0;32m--> 467\u001b[0;31m                 \u001b[0;32mfor\u001b[0m \u001b[0mi\u001b[0m\u001b[0;34m,\u001b[0m \u001b[0mt\u001b[0m \u001b[0;32min\u001b[0m \u001b[0menumerate\u001b[0m\u001b[0;34m(\u001b[0m\u001b[0mtrees\u001b[0m\u001b[0;34m)\u001b[0m\u001b[0;34m\u001b[0m\u001b[0;34m\u001b[0m\u001b[0m\n\u001b[0m\u001b[1;32m    468\u001b[0m             )\n\u001b[1;32m    469\u001b[0m \u001b[0;34m\u001b[0m\u001b[0m\n",
            "\u001b[0;32m/usr/local/lib/python3.7/dist-packages/joblib/parallel.py\u001b[0m in \u001b[0;36m__call__\u001b[0;34m(self, iterable)\u001b[0m\n\u001b[1;32m   1086\u001b[0m                 \u001b[0mself\u001b[0m\u001b[0;34m.\u001b[0m\u001b[0m_iterating\u001b[0m \u001b[0;34m=\u001b[0m \u001b[0mself\u001b[0m\u001b[0;34m.\u001b[0m\u001b[0m_original_iterator\u001b[0m \u001b[0;32mis\u001b[0m \u001b[0;32mnot\u001b[0m \u001b[0;32mNone\u001b[0m\u001b[0;34m\u001b[0m\u001b[0;34m\u001b[0m\u001b[0m\n\u001b[1;32m   1087\u001b[0m \u001b[0;34m\u001b[0m\u001b[0m\n\u001b[0;32m-> 1088\u001b[0;31m             \u001b[0;32mwhile\u001b[0m \u001b[0mself\u001b[0m\u001b[0;34m.\u001b[0m\u001b[0mdispatch_one_batch\u001b[0m\u001b[0;34m(\u001b[0m\u001b[0miterator\u001b[0m\u001b[0;34m)\u001b[0m\u001b[0;34m:\u001b[0m\u001b[0;34m\u001b[0m\u001b[0;34m\u001b[0m\u001b[0m\n\u001b[0m\u001b[1;32m   1089\u001b[0m                 \u001b[0;32mpass\u001b[0m\u001b[0;34m\u001b[0m\u001b[0;34m\u001b[0m\u001b[0m\n\u001b[1;32m   1090\u001b[0m \u001b[0;34m\u001b[0m\u001b[0m\n",
            "\u001b[0;32m/usr/local/lib/python3.7/dist-packages/joblib/parallel.py\u001b[0m in \u001b[0;36mdispatch_one_batch\u001b[0;34m(self, iterator)\u001b[0m\n\u001b[1;32m    899\u001b[0m                 \u001b[0;32mreturn\u001b[0m \u001b[0;32mFalse\u001b[0m\u001b[0;34m\u001b[0m\u001b[0;34m\u001b[0m\u001b[0m\n\u001b[1;32m    900\u001b[0m             \u001b[0;32melse\u001b[0m\u001b[0;34m:\u001b[0m\u001b[0;34m\u001b[0m\u001b[0;34m\u001b[0m\u001b[0m\n\u001b[0;32m--> 901\u001b[0;31m                 \u001b[0mself\u001b[0m\u001b[0;34m.\u001b[0m\u001b[0m_dispatch\u001b[0m\u001b[0;34m(\u001b[0m\u001b[0mtasks\u001b[0m\u001b[0;34m)\u001b[0m\u001b[0;34m\u001b[0m\u001b[0;34m\u001b[0m\u001b[0m\n\u001b[0m\u001b[1;32m    902\u001b[0m                 \u001b[0;32mreturn\u001b[0m \u001b[0;32mTrue\u001b[0m\u001b[0;34m\u001b[0m\u001b[0;34m\u001b[0m\u001b[0m\n\u001b[1;32m    903\u001b[0m \u001b[0;34m\u001b[0m\u001b[0m\n",
            "\u001b[0;32m/usr/local/lib/python3.7/dist-packages/joblib/parallel.py\u001b[0m in \u001b[0;36m_dispatch\u001b[0;34m(self, batch)\u001b[0m\n\u001b[1;32m    817\u001b[0m         \u001b[0;32mwith\u001b[0m \u001b[0mself\u001b[0m\u001b[0;34m.\u001b[0m\u001b[0m_lock\u001b[0m\u001b[0;34m:\u001b[0m\u001b[0;34m\u001b[0m\u001b[0;34m\u001b[0m\u001b[0m\n\u001b[1;32m    818\u001b[0m             \u001b[0mjob_idx\u001b[0m \u001b[0;34m=\u001b[0m \u001b[0mlen\u001b[0m\u001b[0;34m(\u001b[0m\u001b[0mself\u001b[0m\u001b[0;34m.\u001b[0m\u001b[0m_jobs\u001b[0m\u001b[0;34m)\u001b[0m\u001b[0;34m\u001b[0m\u001b[0;34m\u001b[0m\u001b[0m\n\u001b[0;32m--> 819\u001b[0;31m             \u001b[0mjob\u001b[0m \u001b[0;34m=\u001b[0m \u001b[0mself\u001b[0m\u001b[0;34m.\u001b[0m\u001b[0m_backend\u001b[0m\u001b[0;34m.\u001b[0m\u001b[0mapply_async\u001b[0m\u001b[0;34m(\u001b[0m\u001b[0mbatch\u001b[0m\u001b[0;34m,\u001b[0m \u001b[0mcallback\u001b[0m\u001b[0;34m=\u001b[0m\u001b[0mcb\u001b[0m\u001b[0;34m)\u001b[0m\u001b[0;34m\u001b[0m\u001b[0;34m\u001b[0m\u001b[0m\n\u001b[0m\u001b[1;32m    820\u001b[0m             \u001b[0;31m# A job can complete so quickly than its callback is\u001b[0m\u001b[0;34m\u001b[0m\u001b[0;34m\u001b[0m\u001b[0;34m\u001b[0m\u001b[0m\n\u001b[1;32m    821\u001b[0m             \u001b[0;31m# called before we get here, causing self._jobs to\u001b[0m\u001b[0;34m\u001b[0m\u001b[0;34m\u001b[0m\u001b[0;34m\u001b[0m\u001b[0m\n",
            "\u001b[0;32m/usr/local/lib/python3.7/dist-packages/joblib/_parallel_backends.py\u001b[0m in \u001b[0;36mapply_async\u001b[0;34m(self, func, callback)\u001b[0m\n\u001b[1;32m    206\u001b[0m     \u001b[0;32mdef\u001b[0m \u001b[0mapply_async\u001b[0m\u001b[0;34m(\u001b[0m\u001b[0mself\u001b[0m\u001b[0;34m,\u001b[0m \u001b[0mfunc\u001b[0m\u001b[0;34m,\u001b[0m \u001b[0mcallback\u001b[0m\u001b[0;34m=\u001b[0m\u001b[0;32mNone\u001b[0m\u001b[0;34m)\u001b[0m\u001b[0;34m:\u001b[0m\u001b[0;34m\u001b[0m\u001b[0;34m\u001b[0m\u001b[0m\n\u001b[1;32m    207\u001b[0m         \u001b[0;34m\"\"\"Schedule a func to be run\"\"\"\u001b[0m\u001b[0;34m\u001b[0m\u001b[0;34m\u001b[0m\u001b[0m\n\u001b[0;32m--> 208\u001b[0;31m         \u001b[0mresult\u001b[0m \u001b[0;34m=\u001b[0m \u001b[0mImmediateResult\u001b[0m\u001b[0;34m(\u001b[0m\u001b[0mfunc\u001b[0m\u001b[0;34m)\u001b[0m\u001b[0;34m\u001b[0m\u001b[0;34m\u001b[0m\u001b[0m\n\u001b[0m\u001b[1;32m    209\u001b[0m         \u001b[0;32mif\u001b[0m \u001b[0mcallback\u001b[0m\u001b[0;34m:\u001b[0m\u001b[0;34m\u001b[0m\u001b[0;34m\u001b[0m\u001b[0m\n\u001b[1;32m    210\u001b[0m             \u001b[0mcallback\u001b[0m\u001b[0;34m(\u001b[0m\u001b[0mresult\u001b[0m\u001b[0;34m)\u001b[0m\u001b[0;34m\u001b[0m\u001b[0;34m\u001b[0m\u001b[0m\n",
            "\u001b[0;32m/usr/local/lib/python3.7/dist-packages/joblib/_parallel_backends.py\u001b[0m in \u001b[0;36m__init__\u001b[0;34m(self, batch)\u001b[0m\n\u001b[1;32m    595\u001b[0m         \u001b[0;31m# Don't delay the application, to avoid keeping the input\u001b[0m\u001b[0;34m\u001b[0m\u001b[0;34m\u001b[0m\u001b[0;34m\u001b[0m\u001b[0m\n\u001b[1;32m    596\u001b[0m         \u001b[0;31m# arguments in memory\u001b[0m\u001b[0;34m\u001b[0m\u001b[0;34m\u001b[0m\u001b[0;34m\u001b[0m\u001b[0m\n\u001b[0;32m--> 597\u001b[0;31m         \u001b[0mself\u001b[0m\u001b[0;34m.\u001b[0m\u001b[0mresults\u001b[0m \u001b[0;34m=\u001b[0m \u001b[0mbatch\u001b[0m\u001b[0;34m(\u001b[0m\u001b[0;34m)\u001b[0m\u001b[0;34m\u001b[0m\u001b[0;34m\u001b[0m\u001b[0m\n\u001b[0m\u001b[1;32m    598\u001b[0m \u001b[0;34m\u001b[0m\u001b[0m\n\u001b[1;32m    599\u001b[0m     \u001b[0;32mdef\u001b[0m \u001b[0mget\u001b[0m\u001b[0;34m(\u001b[0m\u001b[0mself\u001b[0m\u001b[0;34m)\u001b[0m\u001b[0;34m:\u001b[0m\u001b[0;34m\u001b[0m\u001b[0;34m\u001b[0m\u001b[0m\n",
            "\u001b[0;32m/usr/local/lib/python3.7/dist-packages/joblib/parallel.py\u001b[0m in \u001b[0;36m__call__\u001b[0;34m(self)\u001b[0m\n\u001b[1;32m    287\u001b[0m         \u001b[0;32mwith\u001b[0m \u001b[0mparallel_backend\u001b[0m\u001b[0;34m(\u001b[0m\u001b[0mself\u001b[0m\u001b[0;34m.\u001b[0m\u001b[0m_backend\u001b[0m\u001b[0;34m,\u001b[0m \u001b[0mn_jobs\u001b[0m\u001b[0;34m=\u001b[0m\u001b[0mself\u001b[0m\u001b[0;34m.\u001b[0m\u001b[0m_n_jobs\u001b[0m\u001b[0;34m)\u001b[0m\u001b[0;34m:\u001b[0m\u001b[0;34m\u001b[0m\u001b[0;34m\u001b[0m\u001b[0m\n\u001b[1;32m    288\u001b[0m             return [func(*args, **kwargs)\n\u001b[0;32m--> 289\u001b[0;31m                     for func, args, kwargs in self.items]\n\u001b[0m\u001b[1;32m    290\u001b[0m \u001b[0;34m\u001b[0m\u001b[0m\n\u001b[1;32m    291\u001b[0m     \u001b[0;32mdef\u001b[0m \u001b[0m__reduce__\u001b[0m\u001b[0;34m(\u001b[0m\u001b[0mself\u001b[0m\u001b[0;34m)\u001b[0m\u001b[0;34m:\u001b[0m\u001b[0;34m\u001b[0m\u001b[0;34m\u001b[0m\u001b[0m\n",
            "\u001b[0;32m/usr/local/lib/python3.7/dist-packages/joblib/parallel.py\u001b[0m in \u001b[0;36m<listcomp>\u001b[0;34m(.0)\u001b[0m\n\u001b[1;32m    287\u001b[0m         \u001b[0;32mwith\u001b[0m \u001b[0mparallel_backend\u001b[0m\u001b[0;34m(\u001b[0m\u001b[0mself\u001b[0m\u001b[0;34m.\u001b[0m\u001b[0m_backend\u001b[0m\u001b[0;34m,\u001b[0m \u001b[0mn_jobs\u001b[0m\u001b[0;34m=\u001b[0m\u001b[0mself\u001b[0m\u001b[0;34m.\u001b[0m\u001b[0m_n_jobs\u001b[0m\u001b[0;34m)\u001b[0m\u001b[0;34m:\u001b[0m\u001b[0;34m\u001b[0m\u001b[0;34m\u001b[0m\u001b[0m\n\u001b[1;32m    288\u001b[0m             return [func(*args, **kwargs)\n\u001b[0;32m--> 289\u001b[0;31m                     for func, args, kwargs in self.items]\n\u001b[0m\u001b[1;32m    290\u001b[0m \u001b[0;34m\u001b[0m\u001b[0m\n\u001b[1;32m    291\u001b[0m     \u001b[0;32mdef\u001b[0m \u001b[0m__reduce__\u001b[0m\u001b[0;34m(\u001b[0m\u001b[0mself\u001b[0m\u001b[0;34m)\u001b[0m\u001b[0;34m:\u001b[0m\u001b[0;34m\u001b[0m\u001b[0;34m\u001b[0m\u001b[0m\n",
            "\u001b[0;32m/usr/local/lib/python3.7/dist-packages/sklearn/utils/fixes.py\u001b[0m in \u001b[0;36m__call__\u001b[0;34m(self, *args, **kwargs)\u001b[0m\n\u001b[1;32m    214\u001b[0m     \u001b[0;32mdef\u001b[0m \u001b[0m__call__\u001b[0m\u001b[0;34m(\u001b[0m\u001b[0mself\u001b[0m\u001b[0;34m,\u001b[0m \u001b[0;34m*\u001b[0m\u001b[0margs\u001b[0m\u001b[0;34m,\u001b[0m \u001b[0;34m**\u001b[0m\u001b[0mkwargs\u001b[0m\u001b[0;34m)\u001b[0m\u001b[0;34m:\u001b[0m\u001b[0;34m\u001b[0m\u001b[0;34m\u001b[0m\u001b[0m\n\u001b[1;32m    215\u001b[0m         \u001b[0;32mwith\u001b[0m \u001b[0mconfig_context\u001b[0m\u001b[0;34m(\u001b[0m\u001b[0;34m**\u001b[0m\u001b[0mself\u001b[0m\u001b[0;34m.\u001b[0m\u001b[0mconfig\u001b[0m\u001b[0;34m)\u001b[0m\u001b[0;34m:\u001b[0m\u001b[0;34m\u001b[0m\u001b[0;34m\u001b[0m\u001b[0m\n\u001b[0;32m--> 216\u001b[0;31m             \u001b[0;32mreturn\u001b[0m \u001b[0mself\u001b[0m\u001b[0;34m.\u001b[0m\u001b[0mfunction\u001b[0m\u001b[0;34m(\u001b[0m\u001b[0;34m*\u001b[0m\u001b[0margs\u001b[0m\u001b[0;34m,\u001b[0m \u001b[0;34m**\u001b[0m\u001b[0mkwargs\u001b[0m\u001b[0;34m)\u001b[0m\u001b[0;34m\u001b[0m\u001b[0;34m\u001b[0m\u001b[0m\n\u001b[0m\u001b[1;32m    217\u001b[0m \u001b[0;34m\u001b[0m\u001b[0m\n\u001b[1;32m    218\u001b[0m \u001b[0;34m\u001b[0m\u001b[0m\n",
            "\u001b[0;32m/usr/local/lib/python3.7/dist-packages/sklearn/ensemble/_forest.py\u001b[0m in \u001b[0;36m_parallel_build_trees\u001b[0;34m(tree, forest, X, y, sample_weight, tree_idx, n_trees, verbose, class_weight, n_samples_bootstrap)\u001b[0m\n\u001b[1;32m    183\u001b[0m             \u001b[0mcurr_sample_weight\u001b[0m \u001b[0;34m*=\u001b[0m \u001b[0mcompute_sample_weight\u001b[0m\u001b[0;34m(\u001b[0m\u001b[0;34m\"balanced\"\u001b[0m\u001b[0;34m,\u001b[0m \u001b[0my\u001b[0m\u001b[0;34m,\u001b[0m \u001b[0mindices\u001b[0m\u001b[0;34m=\u001b[0m\u001b[0mindices\u001b[0m\u001b[0;34m)\u001b[0m\u001b[0;34m\u001b[0m\u001b[0;34m\u001b[0m\u001b[0m\n\u001b[1;32m    184\u001b[0m \u001b[0;34m\u001b[0m\u001b[0m\n\u001b[0;32m--> 185\u001b[0;31m         \u001b[0mtree\u001b[0m\u001b[0;34m.\u001b[0m\u001b[0mfit\u001b[0m\u001b[0;34m(\u001b[0m\u001b[0mX\u001b[0m\u001b[0;34m,\u001b[0m \u001b[0my\u001b[0m\u001b[0;34m,\u001b[0m \u001b[0msample_weight\u001b[0m\u001b[0;34m=\u001b[0m\u001b[0mcurr_sample_weight\u001b[0m\u001b[0;34m,\u001b[0m \u001b[0mcheck_input\u001b[0m\u001b[0;34m=\u001b[0m\u001b[0;32mFalse\u001b[0m\u001b[0;34m)\u001b[0m\u001b[0;34m\u001b[0m\u001b[0;34m\u001b[0m\u001b[0m\n\u001b[0m\u001b[1;32m    186\u001b[0m     \u001b[0;32melse\u001b[0m\u001b[0;34m:\u001b[0m\u001b[0;34m\u001b[0m\u001b[0;34m\u001b[0m\u001b[0m\n\u001b[1;32m    187\u001b[0m         \u001b[0mtree\u001b[0m\u001b[0;34m.\u001b[0m\u001b[0mfit\u001b[0m\u001b[0;34m(\u001b[0m\u001b[0mX\u001b[0m\u001b[0;34m,\u001b[0m \u001b[0my\u001b[0m\u001b[0;34m,\u001b[0m \u001b[0msample_weight\u001b[0m\u001b[0;34m=\u001b[0m\u001b[0msample_weight\u001b[0m\u001b[0;34m,\u001b[0m \u001b[0mcheck_input\u001b[0m\u001b[0;34m=\u001b[0m\u001b[0;32mFalse\u001b[0m\u001b[0;34m)\u001b[0m\u001b[0;34m\u001b[0m\u001b[0;34m\u001b[0m\u001b[0m\n",
            "\u001b[0;32m/usr/local/lib/python3.7/dist-packages/sklearn/tree/_classes.py\u001b[0m in \u001b[0;36mfit\u001b[0;34m(self, X, y, sample_weight, check_input, X_idx_sorted)\u001b[0m\n\u001b[1;32m   1318\u001b[0m             \u001b[0msample_weight\u001b[0m\u001b[0;34m=\u001b[0m\u001b[0msample_weight\u001b[0m\u001b[0;34m,\u001b[0m\u001b[0;34m\u001b[0m\u001b[0;34m\u001b[0m\u001b[0m\n\u001b[1;32m   1319\u001b[0m             \u001b[0mcheck_input\u001b[0m\u001b[0;34m=\u001b[0m\u001b[0mcheck_input\u001b[0m\u001b[0;34m,\u001b[0m\u001b[0;34m\u001b[0m\u001b[0;34m\u001b[0m\u001b[0m\n\u001b[0;32m-> 1320\u001b[0;31m             \u001b[0mX_idx_sorted\u001b[0m\u001b[0;34m=\u001b[0m\u001b[0mX_idx_sorted\u001b[0m\u001b[0;34m,\u001b[0m\u001b[0;34m\u001b[0m\u001b[0;34m\u001b[0m\u001b[0m\n\u001b[0m\u001b[1;32m   1321\u001b[0m         )\n\u001b[1;32m   1322\u001b[0m         \u001b[0;32mreturn\u001b[0m \u001b[0mself\u001b[0m\u001b[0;34m\u001b[0m\u001b[0;34m\u001b[0m\u001b[0m\n",
            "\u001b[0;32m/usr/local/lib/python3.7/dist-packages/sklearn/tree/_classes.py\u001b[0m in \u001b[0;36mfit\u001b[0;34m(self, X, y, sample_weight, check_input, X_idx_sorted)\u001b[0m\n\u001b[1;32m    418\u001b[0m             )\n\u001b[1;32m    419\u001b[0m \u001b[0;34m\u001b[0m\u001b[0m\n\u001b[0;32m--> 420\u001b[0;31m         \u001b[0mbuilder\u001b[0m\u001b[0;34m.\u001b[0m\u001b[0mbuild\u001b[0m\u001b[0;34m(\u001b[0m\u001b[0mself\u001b[0m\u001b[0;34m.\u001b[0m\u001b[0mtree_\u001b[0m\u001b[0;34m,\u001b[0m \u001b[0mX\u001b[0m\u001b[0;34m,\u001b[0m \u001b[0my\u001b[0m\u001b[0;34m,\u001b[0m \u001b[0msample_weight\u001b[0m\u001b[0;34m)\u001b[0m\u001b[0;34m\u001b[0m\u001b[0;34m\u001b[0m\u001b[0m\n\u001b[0m\u001b[1;32m    421\u001b[0m \u001b[0;34m\u001b[0m\u001b[0m\n\u001b[1;32m    422\u001b[0m         \u001b[0;32mif\u001b[0m \u001b[0mself\u001b[0m\u001b[0;34m.\u001b[0m\u001b[0mn_outputs_\u001b[0m \u001b[0;34m==\u001b[0m \u001b[0;36m1\u001b[0m \u001b[0;32mand\u001b[0m \u001b[0mis_classifier\u001b[0m\u001b[0;34m(\u001b[0m\u001b[0mself\u001b[0m\u001b[0;34m)\u001b[0m\u001b[0;34m:\u001b[0m\u001b[0;34m\u001b[0m\u001b[0;34m\u001b[0m\u001b[0m\n",
            "\u001b[0;31mKeyboardInterrupt\u001b[0m: "
          ]
        }
      ]
    },
    {
      "cell_type": "code",
      "source": [
        "def lstm_data_transform(x_data, y_data, num_steps):\n",
        "    \"\"\" Changes data to the format for LSTM training \n",
        "for sliding window approach \"\"\"\n",
        "    # Prepare the list for the transformed data\n",
        "    X, y = list(), list()\n",
        "    # Loop of the entire data set\n",
        "    for i in range(x_data.shape[0]):\n",
        "        # compute a new (sliding window) index\n",
        "        end_ix = i + num_steps\n",
        "        # if index is larger than the size of the dataset, we stop\n",
        "        if end_ix >= x_data.shape[0]:\n",
        "            break\n",
        "        # Get a sequence of data for x\n",
        "        seq_X = x_data[i:end_ix]\n",
        "        # Get only the last element of the sequency for y\n",
        "        seq_y = y_data[end_ix]\n",
        "        # Append the list with sequencies\n",
        "        X.append(seq_X)\n",
        "        y.append(seq_y)\n",
        "    # Make final arrays\n",
        "    x_array = np.array(X)\n",
        "    y_array = np.array(y)\n",
        "    return x_array, y_array"
      ],
      "metadata": {
        "id": "8haqeUkUXmPK"
      },
      "execution_count": null,
      "outputs": []
    },
    {
      "cell_type": "code",
      "source": [
        "X_important_train = boruta_selector.transform(np.array(weather_input))\n",
        "num_steps = 3\n",
        "# training set\n",
        "(x_transformed_train,\n",
        " y_transformed_train) = lstm_data_transform(X_important_train,solpow , num_steps=num_steps)\n",
        "assert x_transformed_train.shape[0] == y_transformed_train.shape[0]\n",
        "from sklearn.model_selection import train_test_split\n",
        "X_train, X_test, y_train, y_test = train_test_split(x_transformed_train,y_transformed_train,test_size=0.4, random_state=42,shuffle=False)\n",
        "#X_train_,X_val,y_train_,y_val=train_test_split(X_train,y_train,test_size=0.2, random_state=42,shuffle=False)"
      ],
      "metadata": {
        "id": "fR8k9YUoXp3T"
      },
      "execution_count": null,
      "outputs": []
    },
    {
      "cell_type": "code",
      "source": [
        "inputs1 = Input(shape=(X_train.shape[1],X_train.shape[2]))"
      ],
      "metadata": {
        "id": "qNg60ZpBYKpq"
      },
      "execution_count": null,
      "outputs": []
    },
    {
      "cell_type": "code",
      "source": [
        "from keras.layers import Bidirectional\n",
        "from keras import layers"
      ],
      "metadata": {
        "id": "4_CBuAx_cITk"
      },
      "execution_count": null,
      "outputs": []
    },
    {
      "cell_type": "code",
      "source": [
        "def get_model1(): \n",
        "    #inputs1 = Input(shape=(X_train.shape[1],X_train.shape[2]))\n",
        "    fe1_0 = Bidirectional(LSTM(32, activation='relu',return_sequences = True))(inputs1)#32\n",
        "    fe1_1 = Dropout(0.5)(fe1_0)\n",
        "    fe1_2 = Bidirectional(LSTM(16, activation='relu',return_sequences = True))(fe1_1)#16\n",
        "    fe1_3= Dropout(0.5)(fe1_2)\n",
        "    fe1_4=Bidirectional(LSTM(8, activation='relu'))(fe1_3)#8\n",
        "    out1_1=Dense(1, activation='linear')(fe1_4)\n",
        "    return Model(inputs1, out1_1)\n",
        "def get_model2(): \n",
        "    #inputs1 = Input(shape=(X_train.shape[1],X_train.shape[2]))\n",
        "    fe2_0 = Bidirectional(LSTM(16, activation='relu',return_sequences = True))(inputs1)#16,16,8\n",
        "    fe2_1 = Dropout(0.5)(fe2_0)\n",
        "    fe2_2 = Bidirectional(LSTM(16, activation='relu',return_sequences = True))(fe2_1)\n",
        "    fe2_3= Dropout(0.5)(fe2_2)\n",
        "    fe2_4=Bidirectional(LSTM(8, activation='relu'))(fe2_3)\n",
        "    out2_1=Dense(1, activation='linear')(fe2_4)\n",
        "    return Model(inputs1, out2_1)\n",
        "def get_model3(): \n",
        "    #inputs1 = Input(shape=(X_train.shape[1],X_train.shape[2]))\n",
        "    fe3_0 = Bidirectional(LSTM(16, activation='relu',return_sequences = True))(inputs1)#16,8,8\n",
        "    fe3_1 = Dropout(0.5)(fe3_0)\n",
        "    fe3_2 = Bidirectional(LSTM(8, activation='relu',return_sequences = True))(fe3_1)\n",
        "    fe3_3= Dropout(0.5)(fe3_2)\n",
        "    fe3_4=Bidirectional(LSTM(8, activation='relu'))(fe3_3)\n",
        "    out3_1=Dense(1, activation='linear')(fe3_4)\n",
        "    return Model(inputs1, out3_1)\n",
        "model1 = get_model1() \n",
        "model2 = get_model2() \n",
        "model3 = get_model3()\n",
        "y1 = model1(inputs1) \n",
        "y2 = model2(inputs1) \n",
        "y3 = model3(inputs1)\n",
        "outputs = layers.average([y1, y2, y3]) \n",
        "ensemble_model = Model(inputs=inputs1, outputs=outputs)\n",
        "ensemble_model.compile(optimizer='Adam',loss='mean_squared_error',metrics=['RootMeanSquaredError'])\n",
        "history=ensemble_model.fit(X_train, y_train, epochs = 100,validation_split=0.25,batch_size = 32)"
      ],
      "metadata": {
        "id": "goWTvO-lb73P"
      },
      "execution_count": null,
      "outputs": []
    },
    {
      "cell_type": "code",
      "source": [
        "plt.plot(history.history['loss'], label='train')\n",
        "plt.plot(history.history['val_loss'], label='val')\n",
        "plt.legend()\n",
        "plt.show()"
      ],
      "metadata": {
        "colab": {
          "base_uri": "https://localhost:8080/",
          "height": 268
        },
        "id": "Ku1Ue855QomY",
        "outputId": "f6a523fd-cee2-45df-91d0-967c422d7eda"
      },
      "execution_count": 43,
      "outputs": [
        {
          "output_type": "display_data",
          "data": {
            "text/plain": [
              "<Figure size 432x288 with 1 Axes>"
            ],
            "image/png": "[encoded data removed]"
          },
          "metadata": {
            "needs_background": "light"
          }
        }
      ]
    },
    {
      "cell_type": "code",
      "source": [
        "y_en_=ensemble_model.predict(X_test)\n",
        "plt.scatter(y_en_,y_test)\n",
        "plt.show()"
      ],
      "metadata": {
        "colab": {
          "base_uri": "https://localhost:8080/",
          "height": 607
        },
        "id": "Rqm5Zz_nWILI",
        "outputId": "b34d841f-166f-4734-908e-b83b1c05bfc1"
      },
      "execution_count": 44,
      "outputs": [
        {
          "output_type": "error",
          "ename": "ValueError",
          "evalue": "ignored",
          "traceback": [
            "\u001b[0;31m---------------------------------------------------------------------------\u001b[0m",
            "\u001b[0;31mValueError\u001b[0m                                Traceback (most recent call last)",
            "\u001b[0;32m<ipython-input-44-b1b4c4de4843>\u001b[0m in \u001b[0;36m<module>\u001b[0;34m\u001b[0m\n\u001b[0;32m----> 1\u001b[0;31m \u001b[0my_en_\u001b[0m\u001b[0;34m=\u001b[0m\u001b[0mensemble_model\u001b[0m\u001b[0;34m.\u001b[0m\u001b[0mpredict\u001b[0m\u001b[0;34m(\u001b[0m\u001b[0mX_test\u001b[0m\u001b[0;34m)\u001b[0m\u001b[0;34m\u001b[0m\u001b[0;34m\u001b[0m\u001b[0m\n\u001b[0m\u001b[1;32m      2\u001b[0m \u001b[0mplt\u001b[0m\u001b[0;34m.\u001b[0m\u001b[0mscatter\u001b[0m\u001b[0;34m(\u001b[0m\u001b[0my_en_\u001b[0m\u001b[0;34m,\u001b[0m\u001b[0my_test\u001b[0m\u001b[0;34m)\u001b[0m\u001b[0;34m\u001b[0m\u001b[0;34m\u001b[0m\u001b[0m\n\u001b[1;32m      3\u001b[0m \u001b[0mplt\u001b[0m\u001b[0;34m.\u001b[0m\u001b[0mshow\u001b[0m\u001b[0;34m(\u001b[0m\u001b[0;34m)\u001b[0m\u001b[0;34m\u001b[0m\u001b[0;34m\u001b[0m\u001b[0m\n",
            "\u001b[0;32m/usr/local/lib/python3.7/dist-packages/keras/utils/traceback_utils.py\u001b[0m in \u001b[0;36merror_handler\u001b[0;34m(*args, **kwargs)\u001b[0m\n\u001b[1;32m     65\u001b[0m     \u001b[0;32mexcept\u001b[0m \u001b[0mException\u001b[0m \u001b[0;32mas\u001b[0m \u001b[0me\u001b[0m\u001b[0;34m:\u001b[0m  \u001b[0;31m# pylint: disable=broad-except\u001b[0m\u001b[0;34m\u001b[0m\u001b[0;34m\u001b[0m\u001b[0m\n\u001b[1;32m     66\u001b[0m       \u001b[0mfiltered_tb\u001b[0m \u001b[0;34m=\u001b[0m \u001b[0m_process_traceback_frames\u001b[0m\u001b[0;34m(\u001b[0m\u001b[0me\u001b[0m\u001b[0;34m.\u001b[0m\u001b[0m__traceback__\u001b[0m\u001b[0;34m)\u001b[0m\u001b[0;34m\u001b[0m\u001b[0;34m\u001b[0m\u001b[0m\n\u001b[0;32m---> 67\u001b[0;31m       \u001b[0;32mraise\u001b[0m \u001b[0me\u001b[0m\u001b[0;34m.\u001b[0m\u001b[0mwith_traceback\u001b[0m\u001b[0;34m(\u001b[0m\u001b[0mfiltered_tb\u001b[0m\u001b[0;34m)\u001b[0m \u001b[0;32mfrom\u001b[0m \u001b[0;32mNone\u001b[0m\u001b[0;34m\u001b[0m\u001b[0;34m\u001b[0m\u001b[0m\n\u001b[0m\u001b[1;32m     68\u001b[0m     \u001b[0;32mfinally\u001b[0m\u001b[0;34m:\u001b[0m\u001b[0;34m\u001b[0m\u001b[0;34m\u001b[0m\u001b[0m\n\u001b[1;32m     69\u001b[0m       \u001b[0;32mdel\u001b[0m \u001b[0mfiltered_tb\u001b[0m\u001b[0;34m\u001b[0m\u001b[0;34m\u001b[0m\u001b[0m\n",
            "\u001b[0;32m/usr/local/lib/python3.7/dist-packages/keras/engine/training.py\u001b[0m in \u001b[0;36mtf__predict_function\u001b[0;34m(iterator)\u001b[0m\n\u001b[1;32m     13\u001b[0m                 \u001b[0;32mtry\u001b[0m\u001b[0;34m:\u001b[0m\u001b[0;34m\u001b[0m\u001b[0;34m\u001b[0m\u001b[0m\n\u001b[1;32m     14\u001b[0m                     \u001b[0mdo_return\u001b[0m \u001b[0;34m=\u001b[0m \u001b[0;32mTrue\u001b[0m\u001b[0;34m\u001b[0m\u001b[0;34m\u001b[0m\u001b[0m\n\u001b[0;32m---> 15\u001b[0;31m                     \u001b[0mretval_\u001b[0m \u001b[0;34m=\u001b[0m \u001b[0mag__\u001b[0m\u001b[0;34m.\u001b[0m\u001b[0mconverted_call\u001b[0m\u001b[0;34m(\u001b[0m\u001b[0mag__\u001b[0m\u001b[0;34m.\u001b[0m\u001b[0mld\u001b[0m\u001b[0;34m(\u001b[0m\u001b[0mstep_function\u001b[0m\u001b[0;34m)\u001b[0m\u001b[0;34m,\u001b[0m \u001b[0;34m(\u001b[0m\u001b[0mag__\u001b[0m\u001b[0;34m.\u001b[0m\u001b[0mld\u001b[0m\u001b[0;34m(\u001b[0m\u001b[0mself\u001b[0m\u001b[0;34m)\u001b[0m\u001b[0;34m,\u001b[0m \u001b[0mag__\u001b[0m\u001b[0;34m.\u001b[0m\u001b[0mld\u001b[0m\u001b[0;34m(\u001b[0m\u001b[0miterator\u001b[0m\u001b[0;34m)\u001b[0m\u001b[0;34m)\u001b[0m\u001b[0;34m,\u001b[0m \u001b[0;32mNone\u001b[0m\u001b[0;34m,\u001b[0m \u001b[0mfscope\u001b[0m\u001b[0;34m)\u001b[0m\u001b[0;34m\u001b[0m\u001b[0;34m\u001b[0m\u001b[0m\n\u001b[0m\u001b[1;32m     16\u001b[0m                 \u001b[0;32mexcept\u001b[0m\u001b[0;34m:\u001b[0m\u001b[0;34m\u001b[0m\u001b[0;34m\u001b[0m\u001b[0m\n\u001b[1;32m     17\u001b[0m                     \u001b[0mdo_return\u001b[0m \u001b[0;34m=\u001b[0m \u001b[0;32mFalse\u001b[0m\u001b[0;34m\u001b[0m\u001b[0;34m\u001b[0m\u001b[0m\n",
            "\u001b[0;31mValueError\u001b[0m: in user code:\n\n    File \"/usr/local/lib/python3.7/dist-packages/keras/engine/training.py\", line 1845, in predict_function  *\n        return step_function(self, iterator)\n    File \"/usr/local/lib/python3.7/dist-packages/keras/engine/training.py\", line 1834, in step_function  **\n        outputs = model.distribute_strategy.run(run_step, args=(data,))\n    File \"/usr/local/lib/python3.7/dist-packages/keras/engine/training.py\", line 1823, in run_step  **\n        outputs = model.predict_step(data)\n    File \"/usr/local/lib/python3.7/dist-packages/keras/engine/training.py\", line 1791, in predict_step\n        return self(x, training=False)\n    File \"/usr/local/lib/python3.7/dist-packages/keras/utils/traceback_utils.py\", line 67, in error_handler\n        raise e.with_traceback(filtered_tb) from None\n    File \"/usr/local/lib/python3.7/dist-packages/keras/engine/input_spec.py\", line 264, in assert_input_compatibility\n        raise ValueError(f'Input {input_index} of layer \"{layer_name}\" is '\n\n    ValueError: Input 0 of layer \"model_15\" is incompatible with the layer: expected shape=(None, 3, 20), found shape=(None, 3, 18)\n"
          ]
        }
      ]
    },
    {
      "cell_type": "code",
      "source": [
        "df_ = pd.DataFrame()\n",
        "df_['time']=[i for i in range(len(y_en_))]\n",
        "df_['Actual']=y_test\n",
        "df_['Predicted']=y_en_"
      ],
      "metadata": {
        "id": "h0GhbT99ThD-"
      },
      "execution_count": 46,
      "outputs": []
    },
    {
      "cell_type": "code",
      "source": [
        "import matplotlib.pyplot as plt\n",
        "plt.plot(df_['time'],df_['Actual'])\n",
        "plt.show()\n",
        "plt.plot(df_['time'],df_['Predicted'])\n",
        "plt.show()"
      ],
      "metadata": {
        "colab": {
          "base_uri": "https://localhost:8080/",
          "height": 516
        },
        "id": "57wAZEiMTnjj",
        "outputId": "59a3732a-2dd7-426e-8407-c9cb65c167b0"
      },
      "execution_count": 52,
      "outputs": [
        {
          "output_type": "display_data",
          "data": {
            "text/plain": [
              "<Figure size 432x288 with 1 Axes>"
            ],
            "image/png": "[encoded data removed]"
          },
          "metadata": {
            "needs_background": "light"
          }
        },
        {
          "output_type": "display_data",
          "data": {
            "text/plain": [
              "<Figure size 432x288 with 1 Axes>"
            ],
            "image/png": "[encoded data removed]"
          },
          "metadata": {
            "needs_background": "light"
          }
        }
      ]
    },
    {
      "cell_type": "code",
      "source": [
        "def get_model1(): \n",
        "    #inputs1 = Input(shape=(X_train.shape[1],X_train.shape[2]))\n",
        "    fe1_0 = LSTM(32, activation='relu',return_sequences = True)(inputs1)#32\n",
        "    fe1_1 = Dropout(0.2)(fe1_0)\n",
        "    fe1_2 = LSTM(16, activation='relu',return_sequences = True)(fe1_1)#16\n",
        "    fe1_3= Dropout(0.2)(fe1_2)\n",
        "    fe1_4=LSTM(8, activation='relu')(fe1_3)#8\n",
        "    out1_1=Dense(1, activation='linear')(fe1_4)\n",
        "    return Model(inputs1, out1_1)\n",
        "def get_model2(): \n",
        "    #inputs1 = Input(shape=(X_train.shape[1],X_train.shape[2]))\n",
        "    fe2_0 = LSTM(16, activation='relu',return_sequences = True)(inputs1)#16,16,8\n",
        "    fe2_1 = Dropout(0.5)(fe2_0)\n",
        "    fe2_2 = LSTM(16, activation='relu',return_sequences = True)(fe2_1)\n",
        "    fe2_3= Dropout(0.5)(fe2_2)\n",
        "    fe2_4=LSTM(8, activation='relu')(fe2_3)\n",
        "    out2_1=Dense(1, activation='linear')(fe2_4)\n",
        "    return Model(inputs1, out2_1)\n",
        "def get_model3(): \n",
        "    #inputs1 = Input(shape=(X_train.shape[1],X_train.shape[2]))\n",
        "    fe3_0 = LSTM(16, activation='relu',return_sequences = True)(inputs1)#16,8,8\n",
        "    fe3_1 = Dropout(0.5)(fe3_0)\n",
        "    fe3_2 = LSTM(8, activation='relu',return_sequences = True)(fe3_1)\n",
        "    fe3_3= Dropout(0.5)(fe3_2)\n",
        "    fe3_4=LSTM(8, activation='relu')(fe3_3)\n",
        "    out3_1=Dense(1, activation='linear')(fe3_4)\n",
        "    return Model(inputs1, out3_1)\n",
        "model1 = get_model1() \n",
        "#model2 = get_model2() \n",
        "model3 = get_model3()\n",
        "y1 = model1(inputs1) \n",
        "#y2 = model2(inputs1) \n",
        "y3 = model3(inputs1)\n",
        "outputs = layers.average([y1,y3]) \n",
        "ensemble_model = Model(inputs=inputs1, outputs=outputs)\n",
        "ensemble_model.compile(optimizer='Adam',loss='mean_squared_error',metrics=['RootMeanSquaredError'])\n",
        "history=ensemble_model.fit(X_train, y_train, epochs = 200,validation_split=0.25,batch_size = 64)"
      ],
      "metadata": {
        "id": "HEeIP_LxCPTQ"
      },
      "execution_count": null,
      "outputs": []
    },
    {
      "cell_type": "code",
      "source": [
        "plt.plot(history.history['loss'], label='train')\n",
        "plt.plot(history.history['val_loss'], label='val')\n",
        "plt.legend()\n",
        "plt.show()"
      ],
      "metadata": {
        "colab": {
          "base_uri": "https://localhost:8080/",
          "height": 268
        },
        "id": "kFqcdG5_RWlA",
        "outputId": "3c70caa5-61b9-4b47-adfa-1c63d509a003"
      },
      "execution_count": 48,
      "outputs": [
        {
          "output_type": "display_data",
          "data": {
            "text/plain": [
              "<Figure size 432x288 with 1 Axes>"
            ],
            "image/png": "[encoded data removed]"
          },
          "metadata": {
            "needs_background": "light"
          }
        }
      ]
    },
    {
      "cell_type": "code",
      "source": [
        "y_en=ensemble_model.predict(X_test)\n",
        "plt.scatter(y_en,y_test)\n",
        "plt.show()"
      ],
      "metadata": {
        "id": "XyrZrQE6ddFu",
        "colab": {
          "base_uri": "https://localhost:8080/",
          "height": 607
        },
        "outputId": "72ec7087-3ba2-4ee4-d486-58efdeb40c34"
      },
      "execution_count": 49,
      "outputs": [
        {
          "output_type": "error",
          "ename": "ValueError",
          "evalue": "ignored",
          "traceback": [
            "\u001b[0;31m---------------------------------------------------------------------------\u001b[0m",
            "\u001b[0;31mValueError\u001b[0m                                Traceback (most recent call last)",
            "\u001b[0;32m<ipython-input-49-aa8d7e24806d>\u001b[0m in \u001b[0;36m<module>\u001b[0;34m\u001b[0m\n\u001b[0;32m----> 1\u001b[0;31m \u001b[0my_en\u001b[0m\u001b[0;34m=\u001b[0m\u001b[0mensemble_model\u001b[0m\u001b[0;34m.\u001b[0m\u001b[0mpredict\u001b[0m\u001b[0;34m(\u001b[0m\u001b[0mX_test\u001b[0m\u001b[0;34m)\u001b[0m\u001b[0;34m\u001b[0m\u001b[0;34m\u001b[0m\u001b[0m\n\u001b[0m\u001b[1;32m      2\u001b[0m \u001b[0mplt\u001b[0m\u001b[0;34m.\u001b[0m\u001b[0mscatter\u001b[0m\u001b[0;34m(\u001b[0m\u001b[0my_en\u001b[0m\u001b[0;34m,\u001b[0m\u001b[0my_test\u001b[0m\u001b[0;34m)\u001b[0m\u001b[0;34m\u001b[0m\u001b[0;34m\u001b[0m\u001b[0m\n\u001b[1;32m      3\u001b[0m \u001b[0mplt\u001b[0m\u001b[0;34m.\u001b[0m\u001b[0mshow\u001b[0m\u001b[0;34m(\u001b[0m\u001b[0;34m)\u001b[0m\u001b[0;34m\u001b[0m\u001b[0;34m\u001b[0m\u001b[0m\n",
            "\u001b[0;32m/usr/local/lib/python3.7/dist-packages/keras/utils/traceback_utils.py\u001b[0m in \u001b[0;36merror_handler\u001b[0;34m(*args, **kwargs)\u001b[0m\n\u001b[1;32m     65\u001b[0m     \u001b[0;32mexcept\u001b[0m \u001b[0mException\u001b[0m \u001b[0;32mas\u001b[0m \u001b[0me\u001b[0m\u001b[0;34m:\u001b[0m  \u001b[0;31m# pylint: disable=broad-except\u001b[0m\u001b[0;34m\u001b[0m\u001b[0;34m\u001b[0m\u001b[0m\n\u001b[1;32m     66\u001b[0m       \u001b[0mfiltered_tb\u001b[0m \u001b[0;34m=\u001b[0m \u001b[0m_process_traceback_frames\u001b[0m\u001b[0;34m(\u001b[0m\u001b[0me\u001b[0m\u001b[0;34m.\u001b[0m\u001b[0m__traceback__\u001b[0m\u001b[0;34m)\u001b[0m\u001b[0;34m\u001b[0m\u001b[0;34m\u001b[0m\u001b[0m\n\u001b[0;32m---> 67\u001b[0;31m       \u001b[0;32mraise\u001b[0m \u001b[0me\u001b[0m\u001b[0;34m.\u001b[0m\u001b[0mwith_traceback\u001b[0m\u001b[0;34m(\u001b[0m\u001b[0mfiltered_tb\u001b[0m\u001b[0;34m)\u001b[0m \u001b[0;32mfrom\u001b[0m \u001b[0;32mNone\u001b[0m\u001b[0;34m\u001b[0m\u001b[0;34m\u001b[0m\u001b[0m\n\u001b[0m\u001b[1;32m     68\u001b[0m     \u001b[0;32mfinally\u001b[0m\u001b[0;34m:\u001b[0m\u001b[0;34m\u001b[0m\u001b[0;34m\u001b[0m\u001b[0m\n\u001b[1;32m     69\u001b[0m       \u001b[0;32mdel\u001b[0m \u001b[0mfiltered_tb\u001b[0m\u001b[0;34m\u001b[0m\u001b[0;34m\u001b[0m\u001b[0m\n",
            "\u001b[0;32m/usr/local/lib/python3.7/dist-packages/keras/engine/training.py\u001b[0m in \u001b[0;36mtf__predict_function\u001b[0;34m(iterator)\u001b[0m\n\u001b[1;32m     13\u001b[0m                 \u001b[0;32mtry\u001b[0m\u001b[0;34m:\u001b[0m\u001b[0;34m\u001b[0m\u001b[0;34m\u001b[0m\u001b[0m\n\u001b[1;32m     14\u001b[0m                     \u001b[0mdo_return\u001b[0m \u001b[0;34m=\u001b[0m \u001b[0;32mTrue\u001b[0m\u001b[0;34m\u001b[0m\u001b[0;34m\u001b[0m\u001b[0m\n\u001b[0;32m---> 15\u001b[0;31m                     \u001b[0mretval_\u001b[0m \u001b[0;34m=\u001b[0m \u001b[0mag__\u001b[0m\u001b[0;34m.\u001b[0m\u001b[0mconverted_call\u001b[0m\u001b[0;34m(\u001b[0m\u001b[0mag__\u001b[0m\u001b[0;34m.\u001b[0m\u001b[0mld\u001b[0m\u001b[0;34m(\u001b[0m\u001b[0mstep_function\u001b[0m\u001b[0;34m)\u001b[0m\u001b[0;34m,\u001b[0m \u001b[0;34m(\u001b[0m\u001b[0mag__\u001b[0m\u001b[0;34m.\u001b[0m\u001b[0mld\u001b[0m\u001b[0;34m(\u001b[0m\u001b[0mself\u001b[0m\u001b[0;34m)\u001b[0m\u001b[0;34m,\u001b[0m \u001b[0mag__\u001b[0m\u001b[0;34m.\u001b[0m\u001b[0mld\u001b[0m\u001b[0;34m(\u001b[0m\u001b[0miterator\u001b[0m\u001b[0;34m)\u001b[0m\u001b[0;34m)\u001b[0m\u001b[0;34m,\u001b[0m \u001b[0;32mNone\u001b[0m\u001b[0;34m,\u001b[0m \u001b[0mfscope\u001b[0m\u001b[0;34m)\u001b[0m\u001b[0;34m\u001b[0m\u001b[0;34m\u001b[0m\u001b[0m\n\u001b[0m\u001b[1;32m     16\u001b[0m                 \u001b[0;32mexcept\u001b[0m\u001b[0;34m:\u001b[0m\u001b[0;34m\u001b[0m\u001b[0;34m\u001b[0m\u001b[0m\n\u001b[1;32m     17\u001b[0m                     \u001b[0mdo_return\u001b[0m \u001b[0;34m=\u001b[0m \u001b[0;32mFalse\u001b[0m\u001b[0;34m\u001b[0m\u001b[0;34m\u001b[0m\u001b[0m\n",
            "\u001b[0;31mValueError\u001b[0m: in user code:\n\n    File \"/usr/local/lib/python3.7/dist-packages/keras/engine/training.py\", line 1845, in predict_function  *\n        return step_function(self, iterator)\n    File \"/usr/local/lib/python3.7/dist-packages/keras/engine/training.py\", line 1834, in step_function  **\n        outputs = model.distribute_strategy.run(run_step, args=(data,))\n    File \"/usr/local/lib/python3.7/dist-packages/keras/engine/training.py\", line 1823, in run_step  **\n        outputs = model.predict_step(data)\n    File \"/usr/local/lib/python3.7/dist-packages/keras/engine/training.py\", line 1791, in predict_step\n        return self(x, training=False)\n    File \"/usr/local/lib/python3.7/dist-packages/keras/utils/traceback_utils.py\", line 67, in error_handler\n        raise e.with_traceback(filtered_tb) from None\n    File \"/usr/local/lib/python3.7/dist-packages/keras/engine/input_spec.py\", line 264, in assert_input_compatibility\n        raise ValueError(f'Input {input_index} of layer \"{layer_name}\" is '\n\n    ValueError: Input 0 of layer \"model_15\" is incompatible with the layer: expected shape=(None, 3, 20), found shape=(None, 3, 18)\n"
          ]
        }
      ]
    },
    {
      "cell_type": "code",
      "source": [
        "df_ = pd.DataFrame()"
      ],
      "metadata": {
        "id": "pY6nosyciZbk"
      },
      "execution_count": null,
      "outputs": []
    },
    {
      "cell_type": "code",
      "source": [
        "df_['time']=[i for i in range(len(y_en))]\n",
        "df_['Actual']=y_test\n",
        "df_['Predicted']=y_en\n"
      ],
      "metadata": {
        "id": "bJn8ecqBiRTo"
      },
      "execution_count": null,
      "outputs": []
    },
    {
      "cell_type": "code",
      "source": [
        "import matplotlib.pyplot as plt\n",
        "plt.plot(df_['time'],df_['Actual'])\n",
        "plt.plot(df_['time'],df_['Predicted'])\n",
        "plt.show()"
      ],
      "metadata": {
        "colab": {
          "base_uri": "https://localhost:8080/",
          "height": 265
        },
        "id": "slBjBqHpCZtE",
        "outputId": "80273e5d-9ff8-4204-ca1b-6dd406cb1732"
      },
      "execution_count": 50,
      "outputs": [
        {
          "output_type": "display_data",
          "data": {
            "text/plain": [
              "<Figure size 432x288 with 1 Axes>"
            ],
            "image/png": "[encoded data removed]"
          },
          "metadata": {
            "needs_background": "light"
          }
        }
      ]
    },
    {
      "cell_type": "code",
      "source": [
        "from sklearn.datasets import make_classification\n",
        "from sklearn.datasets import make_classification\n",
        "from sklearn.preprocessing import MinMaxScaler\n",
        "from sklearn.model_selection import train_test_split\n",
        "from keras.layers import LeakyReLU\n",
        "from keras.models import Model\n",
        "from keras.layers import Input\n",
        "from keras.layers import Dense\n",
        "from keras.layers import BatchNormalization\n",
        "from keras.models import load_model\n",
        "from keras.layers import Input"
      ],
      "metadata": {
        "id": "9_rTy4wYEs4D"
      },
      "execution_count": 31,
      "outputs": []
    },
    {
      "cell_type": "code",
      "source": [
        "n_inputs=weather_input.shape[1]"
      ],
      "metadata": {
        "id": "bGukXRzXExcj"
      },
      "execution_count": 32,
      "outputs": []
    },
    {
      "cell_type": "code",
      "source": [
        "input_data_shape= Input(shape=(n_inputs,))\n",
        "# encoder level 1\n",
        "encoder= Dense(n_inputs*2)(input_data_shape)\n",
        "encoder = BatchNormalization()(encoder)\n",
        "encoder= LeakyReLU()(encoder)\n",
        "# encoder level 2\n",
        "encoder= Dense(n_inputs)(encoder)\n",
        "encoder= BatchNormalization()(encoder)\n",
        "encoder= LeakyReLU()(encoder)\n",
        "# bottleneck\n",
        "#n_bottleneck = round(float(n_inputs) / 2.0)\n",
        "n_bottleneck = 20\n",
        "bottleneck = Dense(n_bottleneck)(encoder)\n",
        "# define decoder, level 1\n",
        "decoder = Dense(n_inputs)(bottleneck)\n",
        "decoder = BatchNormalization()(decoder)\n",
        "decoder = LeakyReLU()(decoder)\n",
        "# decoder level 2\n",
        "decoder = Dense(n_inputs*2)(decoder)\n",
        "decoder = BatchNormalization()(decoder)\n",
        "decoder = LeakyReLU()(decoder)"
      ],
      "metadata": {
        "id": "7zLNn6I8EJSx"
      },
      "execution_count": 33,
      "outputs": []
    },
    {
      "cell_type": "code",
      "source": [
        "output = Dense(n_inputs, activation='linear')(decoder)\n",
        "# define autoencoder model\n",
        "model = Model(inputs=input_data_shape, outputs=output)\n",
        "# compile autoencoder model\n",
        "model.compile(optimizer='adam', loss='mse')"
      ],
      "metadata": {
        "id": "May7nOebEJl7"
      },
      "execution_count": 34,
      "outputs": []
    },
    {
      "cell_type": "code",
      "source": [
        " model.fit(weather_input,weather_input, epochs=100, batch_size=32, verbose=2)"
      ],
      "metadata": {
        "id": "bDSNxe4eE47z",
        "colab": {
          "base_uri": "https://localhost:8080/"
        },
        "outputId": "2bbc8828-02c5-4edb-8214-bf91a7d72710"
      },
      "execution_count": 35,
      "outputs": [
        {
          "output_type": "stream",
          "name": "stdout",
          "text": [
            "Epoch 1/100\n",
            "190/190 - 6s - loss: 0.0929 - 6s/epoch - 34ms/step\n",
            "Epoch 2/100\n",
            "190/190 - 1s - loss: 0.0199 - 1s/epoch - 8ms/step\n",
            "Epoch 3/100\n",
            "190/190 - 1s - loss: 0.0158 - 1s/epoch - 6ms/step\n",
            "Epoch 4/100\n",
            "190/190 - 1s - loss: 0.0139 - 1s/epoch - 6ms/step\n",
            "Epoch 5/100\n",
            "190/190 - 1s - loss: 0.0129 - 1s/epoch - 7ms/step\n",
            "Epoch 6/100\n",
            "190/190 - 1s - loss: 0.0116 - 1s/epoch - 7ms/step\n",
            "Epoch 7/100\n",
            "190/190 - 2s - loss: 0.0110 - 2s/epoch - 8ms/step\n",
            "Epoch 8/100\n",
            "190/190 - 1s - loss: 0.0102 - 1s/epoch - 7ms/step\n",
            "Epoch 9/100\n",
            "190/190 - 1s - loss: 0.0100 - 1s/epoch - 7ms/step\n",
            "Epoch 10/100\n",
            "190/190 - 1s - loss: 0.0097 - 1s/epoch - 7ms/step\n",
            "Epoch 11/100\n",
            "190/190 - 1s - loss: 0.0086 - 1s/epoch - 7ms/step\n",
            "Epoch 12/100\n",
            "190/190 - 1s - loss: 0.0083 - 1s/epoch - 7ms/step\n",
            "Epoch 13/100\n",
            "190/190 - 1s - loss: 0.0083 - 1s/epoch - 6ms/step\n",
            "Epoch 14/100\n",
            "190/190 - 1s - loss: 0.0077 - 1s/epoch - 6ms/step\n",
            "Epoch 15/100\n",
            "190/190 - 1s - loss: 0.0077 - 1s/epoch - 7ms/step\n",
            "Epoch 16/100\n",
            "190/190 - 1s - loss: 0.0075 - 1s/epoch - 6ms/step\n",
            "Epoch 17/100\n",
            "190/190 - 2s - loss: 0.0073 - 2s/epoch - 9ms/step\n",
            "Epoch 18/100\n",
            "190/190 - 1s - loss: 0.0075 - 1s/epoch - 6ms/step\n",
            "Epoch 19/100\n",
            "190/190 - 1s - loss: 0.0069 - 1s/epoch - 6ms/step\n",
            "Epoch 20/100\n",
            "190/190 - 1s - loss: 0.0066 - 1s/epoch - 7ms/step\n",
            "Epoch 21/100\n",
            "190/190 - 1s - loss: 0.0066 - 1s/epoch - 6ms/step\n",
            "Epoch 22/100\n",
            "190/190 - 1s - loss: 0.0066 - 1s/epoch - 6ms/step\n",
            "Epoch 23/100\n",
            "190/190 - 1s - loss: 0.0063 - 1s/epoch - 6ms/step\n",
            "Epoch 24/100\n",
            "190/190 - 1s - loss: 0.0062 - 1s/epoch - 6ms/step\n",
            "Epoch 25/100\n",
            "190/190 - 1s - loss: 0.0062 - 1s/epoch - 6ms/step\n",
            "Epoch 26/100\n",
            "190/190 - 1s - loss: 0.0058 - 1s/epoch - 6ms/step\n",
            "Epoch 27/100\n",
            "190/190 - 1s - loss: 0.0060 - 1s/epoch - 6ms/step\n",
            "Epoch 28/100\n",
            "190/190 - 1s - loss: 0.0061 - 1s/epoch - 7ms/step\n",
            "Epoch 29/100\n",
            "190/190 - 1s - loss: 0.0057 - 1s/epoch - 6ms/step\n",
            "Epoch 30/100\n",
            "190/190 - 1s - loss: 0.0057 - 1s/epoch - 6ms/step\n",
            "Epoch 31/100\n",
            "190/190 - 1s - loss: 0.0056 - 592ms/epoch - 3ms/step\n",
            "Epoch 32/100\n",
            "190/190 - 1s - loss: 0.0053 - 606ms/epoch - 3ms/step\n",
            "Epoch 33/100\n",
            "190/190 - 1s - loss: 0.0054 - 577ms/epoch - 3ms/step\n",
            "Epoch 34/100\n",
            "190/190 - 1s - loss: 0.0054 - 569ms/epoch - 3ms/step\n",
            "Epoch 35/100\n",
            "190/190 - 1s - loss: 0.0052 - 590ms/epoch - 3ms/step\n",
            "Epoch 36/100\n",
            "190/190 - 1s - loss: 0.0052 - 569ms/epoch - 3ms/step\n",
            "Epoch 37/100\n",
            "190/190 - 1s - loss: 0.0052 - 604ms/epoch - 3ms/step\n",
            "Epoch 38/100\n",
            "190/190 - 1s - loss: 0.0051 - 575ms/epoch - 3ms/step\n",
            "Epoch 39/100\n",
            "190/190 - 1s - loss: 0.0050 - 593ms/epoch - 3ms/step\n",
            "Epoch 40/100\n",
            "190/190 - 1s - loss: 0.0049 - 619ms/epoch - 3ms/step\n",
            "Epoch 41/100\n",
            "190/190 - 1s - loss: 0.0049 - 583ms/epoch - 3ms/step\n",
            "Epoch 42/100\n",
            "190/190 - 1s - loss: 0.0046 - 624ms/epoch - 3ms/step\n",
            "Epoch 43/100\n",
            "190/190 - 1s - loss: 0.0047 - 581ms/epoch - 3ms/step\n",
            "Epoch 44/100\n",
            "190/190 - 1s - loss: 0.0047 - 590ms/epoch - 3ms/step\n",
            "Epoch 45/100\n",
            "190/190 - 1s - loss: 0.0048 - 592ms/epoch - 3ms/step\n",
            "Epoch 46/100\n",
            "190/190 - 1s - loss: 0.0045 - 579ms/epoch - 3ms/step\n",
            "Epoch 47/100\n",
            "190/190 - 1s - loss: 0.0045 - 592ms/epoch - 3ms/step\n",
            "Epoch 48/100\n",
            "190/190 - 1s - loss: 0.0045 - 571ms/epoch - 3ms/step\n",
            "Epoch 49/100\n",
            "190/190 - 1s - loss: 0.0042 - 637ms/epoch - 3ms/step\n",
            "Epoch 50/100\n",
            "190/190 - 1s - loss: 0.0042 - 716ms/epoch - 4ms/step\n",
            "Epoch 51/100\n",
            "190/190 - 1s - loss: 0.0043 - 575ms/epoch - 3ms/step\n",
            "Epoch 52/100\n",
            "190/190 - 1s - loss: 0.0042 - 577ms/epoch - 3ms/step\n",
            "Epoch 53/100\n",
            "190/190 - 1s - loss: 0.0043 - 576ms/epoch - 3ms/step\n",
            "Epoch 54/100\n",
            "190/190 - 1s - loss: 0.0043 - 613ms/epoch - 3ms/step\n",
            "Epoch 55/100\n",
            "190/190 - 1s - loss: 0.0040 - 588ms/epoch - 3ms/step\n",
            "Epoch 56/100\n",
            "190/190 - 1s - loss: 0.0041 - 598ms/epoch - 3ms/step\n",
            "Epoch 57/100\n",
            "190/190 - 1s - loss: 0.0039 - 589ms/epoch - 3ms/step\n",
            "Epoch 58/100\n",
            "190/190 - 1s - loss: 0.0040 - 581ms/epoch - 3ms/step\n",
            "Epoch 59/100\n",
            "190/190 - 1s - loss: 0.0039 - 594ms/epoch - 3ms/step\n",
            "Epoch 60/100\n",
            "190/190 - 1s - loss: 0.0039 - 597ms/epoch - 3ms/step\n",
            "Epoch 61/100\n",
            "190/190 - 1s - loss: 0.0037 - 577ms/epoch - 3ms/step\n",
            "Epoch 62/100\n",
            "190/190 - 1s - loss: 0.0037 - 584ms/epoch - 3ms/step\n",
            "Epoch 63/100\n",
            "190/190 - 1s - loss: 0.0037 - 589ms/epoch - 3ms/step\n",
            "Epoch 64/100\n",
            "190/190 - 1s - loss: 0.0037 - 579ms/epoch - 3ms/step\n",
            "Epoch 65/100\n",
            "190/190 - 1s - loss: 0.0037 - 583ms/epoch - 3ms/step\n",
            "Epoch 66/100\n",
            "190/190 - 1s - loss: 0.0038 - 609ms/epoch - 3ms/step\n",
            "Epoch 67/100\n",
            "190/190 - 1s - loss: 0.0037 - 1s/epoch - 6ms/step\n",
            "Epoch 68/100\n",
            "190/190 - 1s - loss: 0.0036 - 1s/epoch - 6ms/step\n",
            "Epoch 69/100\n",
            "190/190 - 1s - loss: 0.0036 - 1s/epoch - 6ms/step\n",
            "Epoch 70/100\n",
            "190/190 - 1s - loss: 0.0034 - 1s/epoch - 6ms/step\n",
            "Epoch 71/100\n",
            "190/190 - 1s - loss: 0.0034 - 596ms/epoch - 3ms/step\n",
            "Epoch 72/100\n",
            "190/190 - 1s - loss: 0.0034 - 579ms/epoch - 3ms/step\n",
            "Epoch 73/100\n",
            "190/190 - 1s - loss: 0.0033 - 597ms/epoch - 3ms/step\n",
            "Epoch 74/100\n",
            "190/190 - 1s - loss: 0.0034 - 584ms/epoch - 3ms/step\n",
            "Epoch 75/100\n",
            "190/190 - 1s - loss: 0.0034 - 566ms/epoch - 3ms/step\n",
            "Epoch 76/100\n",
            "190/190 - 1s - loss: 0.0033 - 590ms/epoch - 3ms/step\n",
            "Epoch 77/100\n",
            "190/190 - 1s - loss: 0.0034 - 604ms/epoch - 3ms/step\n",
            "Epoch 78/100\n",
            "190/190 - 1s - loss: 0.0033 - 585ms/epoch - 3ms/step\n",
            "Epoch 79/100\n",
            "190/190 - 1s - loss: 0.0033 - 564ms/epoch - 3ms/step\n",
            "Epoch 80/100\n",
            "190/190 - 1s - loss: 0.0032 - 594ms/epoch - 3ms/step\n",
            "Epoch 81/100\n",
            "190/190 - 1s - loss: 0.0032 - 594ms/epoch - 3ms/step\n",
            "Epoch 82/100\n",
            "190/190 - 1s - loss: 0.0032 - 570ms/epoch - 3ms/step\n",
            "Epoch 83/100\n",
            "190/190 - 1s - loss: 0.0032 - 603ms/epoch - 3ms/step\n",
            "Epoch 84/100\n",
            "190/190 - 1s - loss: 0.0031 - 575ms/epoch - 3ms/step\n",
            "Epoch 85/100\n",
            "190/190 - 1s - loss: 0.0031 - 603ms/epoch - 3ms/step\n",
            "Epoch 86/100\n",
            "190/190 - 1s - loss: 0.0031 - 577ms/epoch - 3ms/step\n",
            "Epoch 87/100\n",
            "190/190 - 1s - loss: 0.0030 - 565ms/epoch - 3ms/step\n",
            "Epoch 88/100\n",
            "190/190 - 1s - loss: 0.0030 - 586ms/epoch - 3ms/step\n",
            "Epoch 89/100\n",
            "190/190 - 1s - loss: 0.0030 - 570ms/epoch - 3ms/step\n",
            "Epoch 90/100\n",
            "190/190 - 1s - loss: 0.0032 - 592ms/epoch - 3ms/step\n",
            "Epoch 91/100\n",
            "190/190 - 1s - loss: 0.0030 - 595ms/epoch - 3ms/step\n",
            "Epoch 92/100\n",
            "190/190 - 1s - loss: 0.0029 - 587ms/epoch - 3ms/step\n",
            "Epoch 93/100\n",
            "190/190 - 1s - loss: 0.0030 - 590ms/epoch - 3ms/step\n",
            "Epoch 94/100\n",
            "190/190 - 1s - loss: 0.0029 - 572ms/epoch - 3ms/step\n",
            "Epoch 95/100\n",
            "190/190 - 1s - loss: 0.0029 - 576ms/epoch - 3ms/step\n",
            "Epoch 96/100\n",
            "190/190 - 1s - loss: 0.0029 - 555ms/epoch - 3ms/step\n",
            "Epoch 97/100\n",
            "190/190 - 1s - loss: 0.0030 - 588ms/epoch - 3ms/step\n",
            "Epoch 98/100\n",
            "190/190 - 1s - loss: 0.0029 - 569ms/epoch - 3ms/step\n",
            "Epoch 99/100\n",
            "190/190 - 1s - loss: 0.0029 - 595ms/epoch - 3ms/step\n",
            "Epoch 100/100\n",
            "190/190 - 1s - loss: 0.0028 - 584ms/epoch - 3ms/step\n"
          ]
        },
        {
          "output_type": "execute_result",
          "data": {
            "text/plain": [
              "<keras.callbacks.History at 0x7f66b4dab710>"
            ]
          },
          "metadata": {},
          "execution_count": 35
        }
      ]
    },
    {
      "cell_type": "code",
      "source": [
        "# define an encoder model (without the decoder)\n",
        "encoder = Model(inputs=input_data_shape, outputs=bottleneck)\n",
        "# save the encoder to file\n",
        "encoder.save('encoder.h5')"
      ],
      "metadata": {
        "id": "czWUThhJE7Pp",
        "colab": {
          "base_uri": "https://localhost:8080/"
        },
        "outputId": "f4cc4339-5d97-4b2f-f59e-a1e4cf38e78f"
      },
      "execution_count": 36,
      "outputs": [
        {
          "output_type": "stream",
          "name": "stderr",
          "text": [
            "WARNING:tensorflow:Compiled the loaded model, but the compiled metrics have yet to be built. `model.compile_metrics` will be empty until you train or evaluate the model.\n"
          ]
        }
      ]
    },
    {
      "cell_type": "code",
      "source": [
        "solpow=solpow.to_numpy().reshape(-1,1)\n",
        "encoder = load_model('encoder.h5')\n",
        "\n",
        "# encode the train data\n",
        "X_train_encode = encoder.predict(weather_input)"
      ],
      "metadata": {
        "id": "jhuvCvIWFQwq",
        "colab": {
          "base_uri": "https://localhost:8080/"
        },
        "outputId": "ed201cea-b4da-4e8d-d360-46ece5c30d10"
      },
      "execution_count": 37,
      "outputs": [
        {
          "output_type": "stream",
          "name": "stderr",
          "text": [
            "WARNING:tensorflow:No training configuration found in the save file, so the model was *not* compiled. Compile it manually.\n"
          ]
        },
        {
          "output_type": "stream",
          "name": "stdout",
          "text": [
            "190/190 [==============================] - 0s 2ms/step\n"
          ]
        }
      ]
    },
    {
      "cell_type": "code",
      "source": [
        "encoder = load_model('encoder.h5')\n",
        "\n",
        "# encode the train data\n",
        "X_train_encode = encoder.predict(weather_input)"
      ],
      "metadata": {
        "id": "moGLepO3Im8e",
        "colab": {
          "base_uri": "https://localhost:8080/"
        },
        "outputId": "96d1fbad-9d39-43f5-842b-36806340c711"
      },
      "execution_count": 38,
      "outputs": [
        {
          "output_type": "stream",
          "name": "stderr",
          "text": [
            "WARNING:tensorflow:No training configuration found in the save file, so the model was *not* compiled. Compile it manually.\n"
          ]
        },
        {
          "output_type": "stream",
          "name": "stdout",
          "text": [
            "190/190 [==============================] - 0s 2ms/step\n"
          ]
        }
      ]
    },
    {
      "cell_type": "code",
      "source": [
        "num_steps = 3\n",
        "# training set\n",
        "(x_transformed1,\n",
        " y_transformed1) = lstm_data_transform(X_train_encode,solpow , num_steps=num_steps)\n",
        "assert x_transformed1.shape[0] == y_transformed1.shape[0]"
      ],
      "metadata": {
        "id": "Gste5MwfFVPC"
      },
      "execution_count": 39,
      "outputs": []
    },
    {
      "cell_type": "code",
      "source": [
        "X_train1, X_test1, y_train1, y_test1 = train_test_split(x_transformed1, y_transformed1, test_size=0.4, random_state=42,shuffle=False)"
      ],
      "metadata": {
        "id": "XsA3YUEIFZx7"
      },
      "execution_count": 40,
      "outputs": []
    },
    {
      "cell_type": "code",
      "source": [
        "inputs1=Input(shape=(X_train1.shape[1],X_train1.shape[2]))"
      ],
      "metadata": {
        "id": "fdfdQDOSF21B"
      },
      "execution_count": 41,
      "outputs": []
    },
    {
      "cell_type": "code",
      "source": [
        "def get_model1(): \n",
        "    #inputs1 = Input(shape=(X_train.shape[1],X_train.shape[2]))\n",
        "    fe1_0 = Bidirectional(LSTM(32, activation='relu',return_sequences = True))(inputs1)#32\n",
        "    fe1_1 = Dropout(0.2)(fe1_0)\n",
        "    fe1_2 = Bidirectional(LSTM(16, activation='relu',return_sequences = True))(fe1_1)#16\n",
        "    fe1_3= Dropout(0.2)(fe1_2)\n",
        "    fe1_4=Bidirectional(LSTM(8, activation='relu'))(fe1_3)#8\n",
        "    out1_1=Dense(1, activation='linear')(fe1_4)\n",
        "    return Model(inputs1, out1_1)\n",
        "def get_model2(): \n",
        "    #inputs1 = Input(shape=(X_train.shape[1],X_train.shape[2]))\n",
        "    fe2_0 = Bidirectional(LSTM(16, activation='relu',return_sequences = True))(inputs1)#16,16,8\n",
        "    fe2_1 = Dropout(0.5)(fe2_0)\n",
        "    fe2_2 = Bidirectional(LSTM(16, activation='relu',return_sequences = True))(fe2_1)\n",
        "    fe2_3= Dropout(0.5)(fe2_2)\n",
        "    fe2_4=Bidirectional(LSTM(8, activation='relu'))(fe2_3)\n",
        "    out2_1=Dense(1, activation='linear')(fe2_4)\n",
        "    return Model(inputs1, out2_1)\n",
        "def get_model3(): \n",
        "    #inputs1 = Input(shape=(X_train.shape[1],X_train.shape[2]))\n",
        "    fe3_0 = Bidirectional(LSTM(16, activation='relu',return_sequences = True))(inputs1)#16,8,8\n",
        "    fe3_1 = Dropout(0.5)(fe3_0)\n",
        "    fe3_2 = Bidirectional(LSTM(8, activation='relu',return_sequences = True))(fe3_1)\n",
        "    fe3_3= Dropout(0.5)(fe3_2)\n",
        "    fe3_4=Bidirectional(LSTM(8, activation='relu'))(fe3_3)\n",
        "    out3_1=Dense(1, activation='linear')(fe3_4)\n",
        "    return Model(inputs1, out3_1)\n",
        "model1 = get_model1() \n",
        "model2 = get_model2() \n",
        "model3 = get_model3()\n",
        "y1 = model1(inputs1) \n",
        "y2 = model2(inputs1) \n",
        "y3 = model3(inputs1)\n",
        "outputs = layers.average([y1, y2, y3]) \n",
        "ensemble_model = Model(inputs=inputs1, outputs=outputs)\n",
        "ensemble_model.compile(optimizer='Adam',loss='mean_squared_error',metrics=['RootMeanSquaredError'])\n",
        "history=ensemble_model.fit(X_train1, y_train1, epochs = 100,validation_split=0.25,batch_size = 32)"
      ],
      "metadata": {
        "id": "t2xAJ_P5F1PM",
        "colab": {
          "base_uri": "https://localhost:8080/"
        },
        "outputId": "78aec7dd-ffdb-48f2-c257-801a4f655273"
      },
      "execution_count": 51,
      "outputs": [
        {
          "output_type": "stream",
          "name": "stdout",
          "text": [
            "Epoch 1/100\n",
            "86/86 [==============================] - 36s 66ms/step - loss: 0.0160 - root_mean_squared_error: 0.1266 - val_loss: 9.2859e-04 - val_root_mean_squared_error: 0.0305\n",
            "Epoch 2/100\n",
            "86/86 [==============================] - 3s 30ms/step - loss: 0.0050 - root_mean_squared_error: 0.0706 - val_loss: 9.4026e-04 - val_root_mean_squared_error: 0.0307\n",
            "Epoch 3/100\n",
            "86/86 [==============================] - 3s 31ms/step - loss: 0.0044 - root_mean_squared_error: 0.0664 - val_loss: 7.5783e-04 - val_root_mean_squared_error: 0.0275\n",
            "Epoch 4/100\n",
            "86/86 [==============================] - 3s 31ms/step - loss: 0.0038 - root_mean_squared_error: 0.0615 - val_loss: 7.3941e-04 - val_root_mean_squared_error: 0.0272\n",
            "Epoch 5/100\n",
            "86/86 [==============================] - 3s 30ms/step - loss: 0.0035 - root_mean_squared_error: 0.0588 - val_loss: 7.1535e-04 - val_root_mean_squared_error: 0.0267\n",
            "Epoch 6/100\n",
            "86/86 [==============================] - 3s 31ms/step - loss: 0.0031 - root_mean_squared_error: 0.0558 - val_loss: 6.7046e-04 - val_root_mean_squared_error: 0.0259\n",
            "Epoch 7/100\n",
            "86/86 [==============================] - 3s 30ms/step - loss: 0.0030 - root_mean_squared_error: 0.0544 - val_loss: 6.3470e-04 - val_root_mean_squared_error: 0.0252\n",
            "Epoch 8/100\n",
            "86/86 [==============================] - 3s 31ms/step - loss: 0.0029 - root_mean_squared_error: 0.0542 - val_loss: 6.4749e-04 - val_root_mean_squared_error: 0.0254\n",
            "Epoch 9/100\n",
            "86/86 [==============================] - 3s 31ms/step - loss: 0.0027 - root_mean_squared_error: 0.0523 - val_loss: 6.5223e-04 - val_root_mean_squared_error: 0.0255\n",
            "Epoch 10/100\n",
            "86/86 [==============================] - 3s 30ms/step - loss: 0.0027 - root_mean_squared_error: 0.0523 - val_loss: 6.5904e-04 - val_root_mean_squared_error: 0.0257\n",
            "Epoch 11/100\n",
            "86/86 [==============================] - 3s 30ms/step - loss: 0.0026 - root_mean_squared_error: 0.0509 - val_loss: 6.5720e-04 - val_root_mean_squared_error: 0.0256\n",
            "Epoch 12/100\n",
            "86/86 [==============================] - 3s 31ms/step - loss: 0.0026 - root_mean_squared_error: 0.0508 - val_loss: 6.5384e-04 - val_root_mean_squared_error: 0.0256\n",
            "Epoch 13/100\n",
            "86/86 [==============================] - 3s 31ms/step - loss: 0.0024 - root_mean_squared_error: 0.0490 - val_loss: 5.8837e-04 - val_root_mean_squared_error: 0.0243\n",
            "Epoch 14/100\n",
            "86/86 [==============================] - 4s 47ms/step - loss: 0.0024 - root_mean_squared_error: 0.0493 - val_loss: 6.3751e-04 - val_root_mean_squared_error: 0.0252\n",
            "Epoch 15/100\n",
            "86/86 [==============================] - 3s 35ms/step - loss: 0.0023 - root_mean_squared_error: 0.0476 - val_loss: 5.5972e-04 - val_root_mean_squared_error: 0.0237\n",
            "Epoch 16/100\n",
            "86/86 [==============================] - 4s 44ms/step - loss: 0.0023 - root_mean_squared_error: 0.0478 - val_loss: 6.5824e-04 - val_root_mean_squared_error: 0.0257\n",
            "Epoch 17/100\n",
            "86/86 [==============================] - 3s 31ms/step - loss: 0.0022 - root_mean_squared_error: 0.0471 - val_loss: 6.0337e-04 - val_root_mean_squared_error: 0.0246\n",
            "Epoch 18/100\n",
            "86/86 [==============================] - 3s 31ms/step - loss: 0.0022 - root_mean_squared_error: 0.0469 - val_loss: 5.9766e-04 - val_root_mean_squared_error: 0.0244\n",
            "Epoch 19/100\n",
            "86/86 [==============================] - 5s 54ms/step - loss: 0.0021 - root_mean_squared_error: 0.0456 - val_loss: 6.0197e-04 - val_root_mean_squared_error: 0.0245\n",
            "Epoch 20/100\n",
            "86/86 [==============================] - 3s 32ms/step - loss: 0.0022 - root_mean_squared_error: 0.0466 - val_loss: 5.5980e-04 - val_root_mean_squared_error: 0.0237\n",
            "Epoch 21/100\n",
            "86/86 [==============================] - 3s 31ms/step - loss: 0.0020 - root_mean_squared_error: 0.0451 - val_loss: 5.2773e-04 - val_root_mean_squared_error: 0.0230\n",
            "Epoch 22/100\n",
            "86/86 [==============================] - 3s 31ms/step - loss: 0.0019 - root_mean_squared_error: 0.0439 - val_loss: 6.4288e-04 - val_root_mean_squared_error: 0.0254\n",
            "Epoch 23/100\n",
            "86/86 [==============================] - 3s 31ms/step - loss: 0.0020 - root_mean_squared_error: 0.0443 - val_loss: 5.5672e-04 - val_root_mean_squared_error: 0.0236\n",
            "Epoch 24/100\n",
            "86/86 [==============================] - 3s 31ms/step - loss: 0.0019 - root_mean_squared_error: 0.0433 - val_loss: 6.5393e-04 - val_root_mean_squared_error: 0.0256\n",
            "Epoch 25/100\n",
            "86/86 [==============================] - 3s 31ms/step - loss: 0.0020 - root_mean_squared_error: 0.0444 - val_loss: 7.2851e-04 - val_root_mean_squared_error: 0.0270\n",
            "Epoch 26/100\n",
            "86/86 [==============================] - 3s 31ms/step - loss: 0.0018 - root_mean_squared_error: 0.0426 - val_loss: 6.3155e-04 - val_root_mean_squared_error: 0.0251\n",
            "Epoch 27/100\n",
            "86/86 [==============================] - 3s 31ms/step - loss: 0.0019 - root_mean_squared_error: 0.0441 - val_loss: 6.4258e-04 - val_root_mean_squared_error: 0.0253\n",
            "Epoch 28/100\n",
            "86/86 [==============================] - 3s 31ms/step - loss: 0.0017 - root_mean_squared_error: 0.0410 - val_loss: 6.3554e-04 - val_root_mean_squared_error: 0.0252\n",
            "Epoch 29/100\n",
            "86/86 [==============================] - 3s 31ms/step - loss: 0.0018 - root_mean_squared_error: 0.0424 - val_loss: 6.0747e-04 - val_root_mean_squared_error: 0.0246\n",
            "Epoch 30/100\n",
            "86/86 [==============================] - 3s 31ms/step - loss: 0.0018 - root_mean_squared_error: 0.0420 - val_loss: 7.6572e-04 - val_root_mean_squared_error: 0.0277\n",
            "Epoch 31/100\n",
            "86/86 [==============================] - 3s 30ms/step - loss: 0.0018 - root_mean_squared_error: 0.0425 - val_loss: 6.1568e-04 - val_root_mean_squared_error: 0.0248\n",
            "Epoch 32/100\n",
            "86/86 [==============================] - 3s 31ms/step - loss: 0.0016 - root_mean_squared_error: 0.0403 - val_loss: 5.4159e-04 - val_root_mean_squared_error: 0.0233\n",
            "Epoch 33/100\n",
            "86/86 [==============================] - 3s 31ms/step - loss: 0.0017 - root_mean_squared_error: 0.0406 - val_loss: 5.9060e-04 - val_root_mean_squared_error: 0.0243\n",
            "Epoch 34/100\n",
            "86/86 [==============================] - 3s 31ms/step - loss: 0.0016 - root_mean_squared_error: 0.0404 - val_loss: 6.1077e-04 - val_root_mean_squared_error: 0.0247\n",
            "Epoch 35/100\n",
            "86/86 [==============================] - 3s 31ms/step - loss: 0.0016 - root_mean_squared_error: 0.0397 - val_loss: 6.9762e-04 - val_root_mean_squared_error: 0.0264\n",
            "Epoch 36/100\n",
            "86/86 [==============================] - 3s 31ms/step - loss: 0.0015 - root_mean_squared_error: 0.0391 - val_loss: 6.2708e-04 - val_root_mean_squared_error: 0.0250\n",
            "Epoch 37/100\n",
            "86/86 [==============================] - 3s 31ms/step - loss: 0.0015 - root_mean_squared_error: 0.0388 - val_loss: 5.8329e-04 - val_root_mean_squared_error: 0.0242\n",
            "Epoch 38/100\n",
            "86/86 [==============================] - 3s 31ms/step - loss: 0.0015 - root_mean_squared_error: 0.0390 - val_loss: 6.2437e-04 - val_root_mean_squared_error: 0.0250\n",
            "Epoch 39/100\n",
            "86/86 [==============================] - 3s 31ms/step - loss: 0.0014 - root_mean_squared_error: 0.0376 - val_loss: 6.1940e-04 - val_root_mean_squared_error: 0.0249\n",
            "Epoch 40/100\n",
            "86/86 [==============================] - 3s 31ms/step - loss: 0.0015 - root_mean_squared_error: 0.0392 - val_loss: 6.2646e-04 - val_root_mean_squared_error: 0.0250\n",
            "Epoch 41/100\n",
            "86/86 [==============================] - 3s 31ms/step - loss: 0.0014 - root_mean_squared_error: 0.0377 - val_loss: 6.7263e-04 - val_root_mean_squared_error: 0.0259\n",
            "Epoch 42/100\n",
            "86/86 [==============================] - 3s 32ms/step - loss: 0.0014 - root_mean_squared_error: 0.0372 - val_loss: 5.6037e-04 - val_root_mean_squared_error: 0.0237\n",
            "Epoch 43/100\n",
            "86/86 [==============================] - 3s 31ms/step - loss: 0.0013 - root_mean_squared_error: 0.0365 - val_loss: 6.2315e-04 - val_root_mean_squared_error: 0.0250\n",
            "Epoch 44/100\n",
            "86/86 [==============================] - 3s 32ms/step - loss: 0.0013 - root_mean_squared_error: 0.0365 - val_loss: 6.3129e-04 - val_root_mean_squared_error: 0.0251\n",
            "Epoch 45/100\n",
            "86/86 [==============================] - 3s 32ms/step - loss: 0.0012 - root_mean_squared_error: 0.0350 - val_loss: 6.3328e-04 - val_root_mean_squared_error: 0.0252\n",
            "Epoch 46/100\n",
            "86/86 [==============================] - 3s 31ms/step - loss: 0.0013 - root_mean_squared_error: 0.0364 - val_loss: 7.5342e-04 - val_root_mean_squared_error: 0.0274\n",
            "Epoch 47/100\n",
            "86/86 [==============================] - 3s 32ms/step - loss: 0.0013 - root_mean_squared_error: 0.0363 - val_loss: 5.8747e-04 - val_root_mean_squared_error: 0.0242\n",
            "Epoch 48/100\n",
            "86/86 [==============================] - 3s 32ms/step - loss: 0.0012 - root_mean_squared_error: 0.0353 - val_loss: 6.5488e-04 - val_root_mean_squared_error: 0.0256\n",
            "Epoch 49/100\n",
            "86/86 [==============================] - 3s 31ms/step - loss: 0.0012 - root_mean_squared_error: 0.0343 - val_loss: 5.9150e-04 - val_root_mean_squared_error: 0.0243\n",
            "Epoch 50/100\n",
            "86/86 [==============================] - 3s 32ms/step - loss: 0.0012 - root_mean_squared_error: 0.0339 - val_loss: 6.9181e-04 - val_root_mean_squared_error: 0.0263\n",
            "Epoch 51/100\n",
            "86/86 [==============================] - 3s 32ms/step - loss: 0.0011 - root_mean_squared_error: 0.0339 - val_loss: 6.8844e-04 - val_root_mean_squared_error: 0.0262\n",
            "Epoch 52/100\n",
            "86/86 [==============================] - 3s 31ms/step - loss: 0.0012 - root_mean_squared_error: 0.0341 - val_loss: 6.9615e-04 - val_root_mean_squared_error: 0.0264\n",
            "Epoch 53/100\n",
            "86/86 [==============================] - 3s 31ms/step - loss: 0.0012 - root_mean_squared_error: 0.0342 - val_loss: 7.1049e-04 - val_root_mean_squared_error: 0.0267\n",
            "Epoch 54/100\n",
            "86/86 [==============================] - 3s 31ms/step - loss: 0.0012 - root_mean_squared_error: 0.0348 - val_loss: 5.9822e-04 - val_root_mean_squared_error: 0.0245\n",
            "Epoch 55/100\n",
            "86/86 [==============================] - 3s 31ms/step - loss: 0.0011 - root_mean_squared_error: 0.0325 - val_loss: 6.6099e-04 - val_root_mean_squared_error: 0.0257\n",
            "Epoch 56/100\n",
            "86/86 [==============================] - 3s 31ms/step - loss: 0.0011 - root_mean_squared_error: 0.0328 - val_loss: 6.2887e-04 - val_root_mean_squared_error: 0.0251\n",
            "Epoch 57/100\n",
            "86/86 [==============================] - 3s 30ms/step - loss: 0.0011 - root_mean_squared_error: 0.0332 - val_loss: 7.5252e-04 - val_root_mean_squared_error: 0.0274\n",
            "Epoch 58/100\n",
            "86/86 [==============================] - 3s 31ms/step - loss: 0.0011 - root_mean_squared_error: 0.0331 - val_loss: 6.5488e-04 - val_root_mean_squared_error: 0.0256\n",
            "Epoch 59/100\n",
            "86/86 [==============================] - 3s 31ms/step - loss: 9.9909e-04 - root_mean_squared_error: 0.0316 - val_loss: 5.9515e-04 - val_root_mean_squared_error: 0.0244\n",
            "Epoch 60/100\n",
            "86/86 [==============================] - 3s 31ms/step - loss: 0.0011 - root_mean_squared_error: 0.0325 - val_loss: 7.0389e-04 - val_root_mean_squared_error: 0.0265\n",
            "Epoch 61/100\n",
            "86/86 [==============================] - 3s 32ms/step - loss: 0.0010 - root_mean_squared_error: 0.0321 - val_loss: 6.4580e-04 - val_root_mean_squared_error: 0.0254\n",
            "Epoch 62/100\n",
            "86/86 [==============================] - 3s 31ms/step - loss: 0.0011 - root_mean_squared_error: 0.0334 - val_loss: 6.6329e-04 - val_root_mean_squared_error: 0.0258\n",
            "Epoch 63/100\n",
            "86/86 [==============================] - 3s 31ms/step - loss: 0.0011 - root_mean_squared_error: 0.0330 - val_loss: 6.0981e-04 - val_root_mean_squared_error: 0.0247\n",
            "Epoch 64/100\n",
            "86/86 [==============================] - 3s 31ms/step - loss: 9.9543e-04 - root_mean_squared_error: 0.0316 - val_loss: 6.2887e-04 - val_root_mean_squared_error: 0.0251\n",
            "Epoch 65/100\n",
            "86/86 [==============================] - 3s 30ms/step - loss: 9.7028e-04 - root_mean_squared_error: 0.0311 - val_loss: 6.3693e-04 - val_root_mean_squared_error: 0.0252\n",
            "Epoch 66/100\n",
            "86/86 [==============================] - 3s 30ms/step - loss: 9.5945e-04 - root_mean_squared_error: 0.0310 - val_loss: 6.4002e-04 - val_root_mean_squared_error: 0.0253\n",
            "Epoch 67/100\n",
            "86/86 [==============================] - 3s 30ms/step - loss: 9.0630e-04 - root_mean_squared_error: 0.0301 - val_loss: 6.3259e-04 - val_root_mean_squared_error: 0.0252\n",
            "Epoch 68/100\n",
            "86/86 [==============================] - 3s 30ms/step - loss: 9.0958e-04 - root_mean_squared_error: 0.0302 - val_loss: 6.2225e-04 - val_root_mean_squared_error: 0.0249\n",
            "Epoch 69/100\n",
            "86/86 [==============================] - 3s 30ms/step - loss: 9.5609e-04 - root_mean_squared_error: 0.0309 - val_loss: 7.6037e-04 - val_root_mean_squared_error: 0.0276\n",
            "Epoch 70/100\n",
            "86/86 [==============================] - 3s 30ms/step - loss: 9.0153e-04 - root_mean_squared_error: 0.0300 - val_loss: 6.8902e-04 - val_root_mean_squared_error: 0.0262\n",
            "Epoch 71/100\n",
            "86/86 [==============================] - 3s 30ms/step - loss: 9.2733e-04 - root_mean_squared_error: 0.0305 - val_loss: 6.9733e-04 - val_root_mean_squared_error: 0.0264\n",
            "Epoch 72/100\n",
            "86/86 [==============================] - 3s 30ms/step - loss: 8.9697e-04 - root_mean_squared_error: 0.0299 - val_loss: 6.6612e-04 - val_root_mean_squared_error: 0.0258\n",
            "Epoch 73/100\n",
            "86/86 [==============================] - 3s 30ms/step - loss: 8.9881e-04 - root_mean_squared_error: 0.0300 - val_loss: 6.2789e-04 - val_root_mean_squared_error: 0.0251\n",
            "Epoch 74/100\n",
            "86/86 [==============================] - 3s 30ms/step - loss: 8.4446e-04 - root_mean_squared_error: 0.0291 - val_loss: 6.5089e-04 - val_root_mean_squared_error: 0.0255\n",
            "Epoch 75/100\n",
            "86/86 [==============================] - 3s 30ms/step - loss: 9.0942e-04 - root_mean_squared_error: 0.0302 - val_loss: 6.3570e-04 - val_root_mean_squared_error: 0.0252\n",
            "Epoch 76/100\n",
            "86/86 [==============================] - 3s 30ms/step - loss: 9.0422e-04 - root_mean_squared_error: 0.0301 - val_loss: 6.7009e-04 - val_root_mean_squared_error: 0.0259\n",
            "Epoch 77/100\n",
            "86/86 [==============================] - 3s 30ms/step - loss: 8.2981e-04 - root_mean_squared_error: 0.0288 - val_loss: 6.4735e-04 - val_root_mean_squared_error: 0.0254\n",
            "Epoch 78/100\n",
            "86/86 [==============================] - 3s 31ms/step - loss: 8.5497e-04 - root_mean_squared_error: 0.0292 - val_loss: 6.3643e-04 - val_root_mean_squared_error: 0.0252\n",
            "Epoch 79/100\n",
            "86/86 [==============================] - 3s 31ms/step - loss: 9.0309e-04 - root_mean_squared_error: 0.0301 - val_loss: 7.2876e-04 - val_root_mean_squared_error: 0.0270\n",
            "Epoch 80/100\n",
            "86/86 [==============================] - 3s 30ms/step - loss: 8.5303e-04 - root_mean_squared_error: 0.0292 - val_loss: 6.8466e-04 - val_root_mean_squared_error: 0.0262\n",
            "Epoch 81/100\n",
            "86/86 [==============================] - 3s 31ms/step - loss: 8.4503e-04 - root_mean_squared_error: 0.0291 - val_loss: 7.2668e-04 - val_root_mean_squared_error: 0.0270\n",
            "Epoch 82/100\n",
            "86/86 [==============================] - 3s 30ms/step - loss: 7.8250e-04 - root_mean_squared_error: 0.0280 - val_loss: 6.7079e-04 - val_root_mean_squared_error: 0.0259\n",
            "Epoch 83/100\n",
            "86/86 [==============================] - 3s 30ms/step - loss: 8.2240e-04 - root_mean_squared_error: 0.0287 - val_loss: 6.5158e-04 - val_root_mean_squared_error: 0.0255\n",
            "Epoch 84/100\n",
            "86/86 [==============================] - 3s 30ms/step - loss: 8.1367e-04 - root_mean_squared_error: 0.0285 - val_loss: 7.0345e-04 - val_root_mean_squared_error: 0.0265\n",
            "Epoch 85/100\n",
            "86/86 [==============================] - 3s 31ms/step - loss: 7.3594e-04 - root_mean_squared_error: 0.0271 - val_loss: 6.9900e-04 - val_root_mean_squared_error: 0.0264\n",
            "Epoch 86/100\n",
            "86/86 [==============================] - 4s 48ms/step - loss: 7.6185e-04 - root_mean_squared_error: 0.0276 - val_loss: 6.9234e-04 - val_root_mean_squared_error: 0.0263\n",
            "Epoch 87/100\n",
            "86/86 [==============================] - 3s 30ms/step - loss: 7.7076e-04 - root_mean_squared_error: 0.0278 - val_loss: 6.8952e-04 - val_root_mean_squared_error: 0.0263\n",
            "Epoch 88/100\n",
            "86/86 [==============================] - 3s 30ms/step - loss: 8.1370e-04 - root_mean_squared_error: 0.0285 - val_loss: 6.3254e-04 - val_root_mean_squared_error: 0.0252\n",
            "Epoch 89/100\n",
            "86/86 [==============================] - 3s 31ms/step - loss: 7.6153e-04 - root_mean_squared_error: 0.0276 - val_loss: 6.7018e-04 - val_root_mean_squared_error: 0.0259\n",
            "Epoch 90/100\n",
            "86/86 [==============================] - 3s 31ms/step - loss: 7.3926e-04 - root_mean_squared_error: 0.0272 - val_loss: 6.0069e-04 - val_root_mean_squared_error: 0.0245\n",
            "Epoch 91/100\n",
            "86/86 [==============================] - 3s 30ms/step - loss: 6.9358e-04 - root_mean_squared_error: 0.0263 - val_loss: 6.3867e-04 - val_root_mean_squared_error: 0.0253\n",
            "Epoch 92/100\n",
            "86/86 [==============================] - 3s 31ms/step - loss: 6.8309e-04 - root_mean_squared_error: 0.0261 - val_loss: 6.5524e-04 - val_root_mean_squared_error: 0.0256\n",
            "Epoch 93/100\n",
            "86/86 [==============================] - 3s 30ms/step - loss: 7.2431e-04 - root_mean_squared_error: 0.0269 - val_loss: 6.6506e-04 - val_root_mean_squared_error: 0.0258\n",
            "Epoch 94/100\n",
            "86/86 [==============================] - 3s 31ms/step - loss: 6.6839e-04 - root_mean_squared_error: 0.0259 - val_loss: 6.8799e-04 - val_root_mean_squared_error: 0.0262\n",
            "Epoch 95/100\n",
            "86/86 [==============================] - 3s 30ms/step - loss: 6.6622e-04 - root_mean_squared_error: 0.0258 - val_loss: 6.5609e-04 - val_root_mean_squared_error: 0.0256\n",
            "Epoch 96/100\n",
            "86/86 [==============================] - 3s 31ms/step - loss: 7.6936e-04 - root_mean_squared_error: 0.0277 - val_loss: 6.2148e-04 - val_root_mean_squared_error: 0.0249\n",
            "Epoch 97/100\n",
            "86/86 [==============================] - 3s 31ms/step - loss: 6.5303e-04 - root_mean_squared_error: 0.0256 - val_loss: 6.4606e-04 - val_root_mean_squared_error: 0.0254\n",
            "Epoch 98/100\n",
            "86/86 [==============================] - 3s 30ms/step - loss: 7.0202e-04 - root_mean_squared_error: 0.0265 - val_loss: 6.7101e-04 - val_root_mean_squared_error: 0.0259\n",
            "Epoch 99/100\n",
            "86/86 [==============================] - 3s 30ms/step - loss: 6.7339e-04 - root_mean_squared_error: 0.0259 - val_loss: 6.1856e-04 - val_root_mean_squared_error: 0.0249\n",
            "Epoch 100/100\n",
            "86/86 [==============================] - 3s 30ms/step - loss: 5.8892e-04 - root_mean_squared_error: 0.0243 - val_loss: 7.3009e-04 - val_root_mean_squared_error: 0.0270\n"
          ]
        }
      ]
    },
    {
      "cell_type": "code",
      "source": [
        "def get_model1(): \n",
        "    #inputs1 = Input(shape=(X_train.shape[1],X_train.shape[2]))\n",
        "    fe1_0 = LSTM(32, activation='relu',return_sequences = True)(inputs1)#32\n",
        "    fe1_1 = Dropout(0.2)(fe1_0)\n",
        "    fe1_2 = LSTM(16, activation='relu',return_sequences = True)(fe1_1)#16\n",
        "    fe1_3= Dropout(0.2)(fe1_2)\n",
        "    fe1_4=LSTM(8, activation='relu')(fe1_3)#8\n",
        "    out1_1=Dense(1, activation='linear')(fe1_4)\n",
        "    return Model(inputs1, out1_1)\n",
        "def get_model2(): \n",
        "    #inputs1 = Input(shape=(X_train.shape[1],X_train.shape[2]))\n",
        "    fe2_0 = LSTM(16, activation='relu',return_sequences = True)(inputs1)#16,16,8\n",
        "    fe2_1 = Dropout(0.5)(fe2_0)\n",
        "    fe2_2 = LSTM(16, activation='relu',return_sequences = True)(fe2_1)\n",
        "    fe2_3= Dropout(0.5)(fe2_2)\n",
        "    fe2_4=LSTM(8, activation='relu')(fe2_3)\n",
        "    out2_1=Dense(1, activation='linear')(fe2_4)\n",
        "    return Model(inputs1, out2_1)\n",
        "def get_model3(): \n",
        "    #inputs1 = Input(shape=(X_train.shape[1],X_train.shape[2]))\n",
        "    fe3_0 = LSTM(16, activation='relu',return_sequences = True)(inputs1)#16,8,8\n",
        "    fe3_1 = Dropout(0.5)(fe3_0)\n",
        "    fe3_2 = LSTM(8, activation='relu',return_sequences = True)(fe3_1)\n",
        "    fe3_3= Dropout(0.5)(fe3_2)\n",
        "    fe3_4=LSTM(8, activation='relu')(fe3_3)\n",
        "    out3_1=Dense(1, activation='linear')(fe3_4)\n",
        "    return Model(inputs1, out3_1)\n",
        "model1 = get_model1() \n",
        "model2 = get_model2() \n",
        "model3 = get_model3()\n",
        "y1 = model1(inputs1) \n",
        "y2 = model2(inputs1) \n",
        "y3 = model3(inputs1)\n",
        "outputs = layers.average([y1, y2, y3]) \n",
        "ensemble_model = Model(inputs=inputs1, outputs=outputs)\n",
        "ensemble_model.compile(optimizer='Adam',loss='mean_squared_error',metrics=['RootMeanSquaredError'])\n",
        "history=ensemble_model.fit(X_train1, y_train1, epochs = 100,validation_split=0.25,batch_size = 32)"
      ],
      "metadata": {
        "colab": {
          "base_uri": "https://localhost:8080/"
        },
        "id": "uPTo7tIVHZh_",
        "outputId": "aca0f47a-d13f-41f1-9c5f-6b8baadad9a7"
      },
      "execution_count": 67,
      "outputs": [
        {
          "output_type": "stream",
          "name": "stdout",
          "text": [
            "Epoch 1/100\n",
            "86/86 [==============================] - 17s 34ms/step - loss: 0.0198 - root_mean_squared_error: 0.1405 - val_loss: 0.0016 - val_root_mean_squared_error: 0.0403\n",
            "Epoch 2/100\n",
            "86/86 [==============================] - 1s 16ms/step - loss: 0.0070 - root_mean_squared_error: 0.0839 - val_loss: 0.0012 - val_root_mean_squared_error: 0.0349\n",
            "Epoch 3/100\n",
            "86/86 [==============================] - 1s 16ms/step - loss: 0.0057 - root_mean_squared_error: 0.0752 - val_loss: 0.0011 - val_root_mean_squared_error: 0.0327\n",
            "Epoch 4/100\n",
            "86/86 [==============================] - 1s 16ms/step - loss: 0.0049 - root_mean_squared_error: 0.0702 - val_loss: 9.0095e-04 - val_root_mean_squared_error: 0.0300\n",
            "Epoch 5/100\n",
            "86/86 [==============================] - 1s 16ms/step - loss: 0.0045 - root_mean_squared_error: 0.0673 - val_loss: 8.7054e-04 - val_root_mean_squared_error: 0.0295\n",
            "Epoch 6/100\n",
            "86/86 [==============================] - 1s 16ms/step - loss: 0.0044 - root_mean_squared_error: 0.0661 - val_loss: 7.9498e-04 - val_root_mean_squared_error: 0.0282\n",
            "Epoch 7/100\n",
            "86/86 [==============================] - 1s 16ms/step - loss: 0.0040 - root_mean_squared_error: 0.0631 - val_loss: 7.4648e-04 - val_root_mean_squared_error: 0.0273\n",
            "Epoch 8/100\n",
            "86/86 [==============================] - 1s 16ms/step - loss: 0.0037 - root_mean_squared_error: 0.0610 - val_loss: 7.6304e-04 - val_root_mean_squared_error: 0.0276\n",
            "Epoch 9/100\n",
            "86/86 [==============================] - 1s 16ms/step - loss: 0.0037 - root_mean_squared_error: 0.0606 - val_loss: 6.9676e-04 - val_root_mean_squared_error: 0.0264\n",
            "Epoch 10/100\n",
            "86/86 [==============================] - 1s 16ms/step - loss: 0.0036 - root_mean_squared_error: 0.0598 - val_loss: 7.2475e-04 - val_root_mean_squared_error: 0.0269\n",
            "Epoch 11/100\n",
            "86/86 [==============================] - 1s 16ms/step - loss: 0.0035 - root_mean_squared_error: 0.0592 - val_loss: 7.1055e-04 - val_root_mean_squared_error: 0.0267\n",
            "Epoch 12/100\n",
            "86/86 [==============================] - 1s 16ms/step - loss: 0.0032 - root_mean_squared_error: 0.0569 - val_loss: 8.7130e-04 - val_root_mean_squared_error: 0.0295\n",
            "Epoch 13/100\n",
            "86/86 [==============================] - 1s 16ms/step - loss: 0.0032 - root_mean_squared_error: 0.0566 - val_loss: 7.3960e-04 - val_root_mean_squared_error: 0.0272\n",
            "Epoch 14/100\n",
            "86/86 [==============================] - 1s 16ms/step - loss: 0.0032 - root_mean_squared_error: 0.0566 - val_loss: 6.1099e-04 - val_root_mean_squared_error: 0.0247\n",
            "Epoch 15/100\n",
            "86/86 [==============================] - 1s 16ms/step - loss: 0.0031 - root_mean_squared_error: 0.0561 - val_loss: 8.9252e-04 - val_root_mean_squared_error: 0.0299\n",
            "Epoch 16/100\n",
            "86/86 [==============================] - 1s 16ms/step - loss: 0.0030 - root_mean_squared_error: 0.0547 - val_loss: 7.6604e-04 - val_root_mean_squared_error: 0.0277\n",
            "Epoch 17/100\n",
            "86/86 [==============================] - 1s 16ms/step - loss: 0.0028 - root_mean_squared_error: 0.0529 - val_loss: 6.0037e-04 - val_root_mean_squared_error: 0.0245\n",
            "Epoch 18/100\n",
            "86/86 [==============================] - 1s 16ms/step - loss: 0.0028 - root_mean_squared_error: 0.0529 - val_loss: 6.4006e-04 - val_root_mean_squared_error: 0.0253\n",
            "Epoch 19/100\n",
            "86/86 [==============================] - 1s 16ms/step - loss: 0.0028 - root_mean_squared_error: 0.0530 - val_loss: 7.3890e-04 - val_root_mean_squared_error: 0.0272\n",
            "Epoch 20/100\n",
            "86/86 [==============================] - 1s 16ms/step - loss: 0.0027 - root_mean_squared_error: 0.0516 - val_loss: 7.1950e-04 - val_root_mean_squared_error: 0.0268\n",
            "Epoch 21/100\n",
            "86/86 [==============================] - 1s 16ms/step - loss: 0.0026 - root_mean_squared_error: 0.0514 - val_loss: 5.6234e-04 - val_root_mean_squared_error: 0.0237\n",
            "Epoch 22/100\n",
            "86/86 [==============================] - 1s 16ms/step - loss: 0.0027 - root_mean_squared_error: 0.0516 - val_loss: 5.6856e-04 - val_root_mean_squared_error: 0.0238\n",
            "Epoch 23/100\n",
            "86/86 [==============================] - 1s 16ms/step - loss: 0.0027 - root_mean_squared_error: 0.0517 - val_loss: 6.8220e-04 - val_root_mean_squared_error: 0.0261\n",
            "Epoch 24/100\n",
            "86/86 [==============================] - 1s 17ms/step - loss: 0.0025 - root_mean_squared_error: 0.0501 - val_loss: 6.2797e-04 - val_root_mean_squared_error: 0.0251\n",
            "Epoch 25/100\n",
            "86/86 [==============================] - 1s 16ms/step - loss: 0.0023 - root_mean_squared_error: 0.0483 - val_loss: 6.5578e-04 - val_root_mean_squared_error: 0.0256\n",
            "Epoch 26/100\n",
            "86/86 [==============================] - 1s 16ms/step - loss: 0.0026 - root_mean_squared_error: 0.0506 - val_loss: 6.3154e-04 - val_root_mean_squared_error: 0.0251\n",
            "Epoch 27/100\n",
            "86/86 [==============================] - 1s 16ms/step - loss: 0.0024 - root_mean_squared_error: 0.0489 - val_loss: 7.1474e-04 - val_root_mean_squared_error: 0.0267\n",
            "Epoch 28/100\n",
            "86/86 [==============================] - 1s 16ms/step - loss: 0.0024 - root_mean_squared_error: 0.0488 - val_loss: 5.6220e-04 - val_root_mean_squared_error: 0.0237\n",
            "Epoch 29/100\n",
            "86/86 [==============================] - 1s 16ms/step - loss: 0.0026 - root_mean_squared_error: 0.0512 - val_loss: 5.4259e-04 - val_root_mean_squared_error: 0.0233\n",
            "Epoch 30/100\n",
            "86/86 [==============================] - 1s 16ms/step - loss: 0.0023 - root_mean_squared_error: 0.0485 - val_loss: 6.3617e-04 - val_root_mean_squared_error: 0.0252\n",
            "Epoch 31/100\n",
            "86/86 [==============================] - 1s 16ms/step - loss: 0.0022 - root_mean_squared_error: 0.0469 - val_loss: 6.0201e-04 - val_root_mean_squared_error: 0.0245\n",
            "Epoch 32/100\n",
            "86/86 [==============================] - 1s 17ms/step - loss: 0.0022 - root_mean_squared_error: 0.0469 - val_loss: 5.6559e-04 - val_root_mean_squared_error: 0.0238\n",
            "Epoch 33/100\n",
            "86/86 [==============================] - 1s 16ms/step - loss: 0.0022 - root_mean_squared_error: 0.0466 - val_loss: 5.5987e-04 - val_root_mean_squared_error: 0.0237\n",
            "Epoch 34/100\n",
            "86/86 [==============================] - 1s 16ms/step - loss: 0.0023 - root_mean_squared_error: 0.0483 - val_loss: 5.2888e-04 - val_root_mean_squared_error: 0.0230\n",
            "Epoch 35/100\n",
            "86/86 [==============================] - 1s 16ms/step - loss: 0.0022 - root_mean_squared_error: 0.0465 - val_loss: 7.9846e-04 - val_root_mean_squared_error: 0.0283\n",
            "Epoch 36/100\n",
            "86/86 [==============================] - 2s 24ms/step - loss: 0.0021 - root_mean_squared_error: 0.0458 - val_loss: 6.3722e-04 - val_root_mean_squared_error: 0.0252\n",
            "Epoch 37/100\n",
            "86/86 [==============================] - 1s 16ms/step - loss: 0.0021 - root_mean_squared_error: 0.0463 - val_loss: 5.0319e-04 - val_root_mean_squared_error: 0.0224\n",
            "Epoch 38/100\n",
            "86/86 [==============================] - 1s 16ms/step - loss: 0.0021 - root_mean_squared_error: 0.0460 - val_loss: 5.9966e-04 - val_root_mean_squared_error: 0.0245\n",
            "Epoch 39/100\n",
            "86/86 [==============================] - 1s 17ms/step - loss: 0.0020 - root_mean_squared_error: 0.0451 - val_loss: 5.6564e-04 - val_root_mean_squared_error: 0.0238\n",
            "Epoch 40/100\n",
            "86/86 [==============================] - 1s 16ms/step - loss: 0.0022 - root_mean_squared_error: 0.0464 - val_loss: 7.2548e-04 - val_root_mean_squared_error: 0.0269\n",
            "Epoch 41/100\n",
            "86/86 [==============================] - 1s 16ms/step - loss: 0.0020 - root_mean_squared_error: 0.0445 - val_loss: 6.0856e-04 - val_root_mean_squared_error: 0.0247\n",
            "Epoch 42/100\n",
            "86/86 [==============================] - 1s 16ms/step - loss: 0.0021 - root_mean_squared_error: 0.0454 - val_loss: 5.8990e-04 - val_root_mean_squared_error: 0.0243\n",
            "Epoch 43/100\n",
            "86/86 [==============================] - 1s 16ms/step - loss: 0.0020 - root_mean_squared_error: 0.0448 - val_loss: 6.8990e-04 - val_root_mean_squared_error: 0.0263\n",
            "Epoch 44/100\n",
            "86/86 [==============================] - 1s 16ms/step - loss: 0.0020 - root_mean_squared_error: 0.0449 - val_loss: 6.9613e-04 - val_root_mean_squared_error: 0.0264\n",
            "Epoch 45/100\n",
            "86/86 [==============================] - 1s 16ms/step - loss: 0.0019 - root_mean_squared_error: 0.0438 - val_loss: 6.1703e-04 - val_root_mean_squared_error: 0.0248\n",
            "Epoch 46/100\n",
            "86/86 [==============================] - 1s 16ms/step - loss: 0.0021 - root_mean_squared_error: 0.0457 - val_loss: 7.6736e-04 - val_root_mean_squared_error: 0.0277\n",
            "Epoch 47/100\n",
            "86/86 [==============================] - 1s 16ms/step - loss: 0.0019 - root_mean_squared_error: 0.0437 - val_loss: 6.6274e-04 - val_root_mean_squared_error: 0.0257\n",
            "Epoch 48/100\n",
            "86/86 [==============================] - 1s 17ms/step - loss: 0.0020 - root_mean_squared_error: 0.0451 - val_loss: 6.2894e-04 - val_root_mean_squared_error: 0.0251\n",
            "Epoch 49/100\n",
            "86/86 [==============================] - 1s 16ms/step - loss: 0.0020 - root_mean_squared_error: 0.0448 - val_loss: 5.6811e-04 - val_root_mean_squared_error: 0.0238\n",
            "Epoch 50/100\n",
            "86/86 [==============================] - 1s 16ms/step - loss: 0.0019 - root_mean_squared_error: 0.0436 - val_loss: 6.1764e-04 - val_root_mean_squared_error: 0.0249\n",
            "Epoch 51/100\n",
            "86/86 [==============================] - 1s 16ms/step - loss: 0.0019 - root_mean_squared_error: 0.0432 - val_loss: 6.2728e-04 - val_root_mean_squared_error: 0.0250\n",
            "Epoch 52/100\n",
            "86/86 [==============================] - 1s 16ms/step - loss: 0.0018 - root_mean_squared_error: 0.0424 - val_loss: 7.1508e-04 - val_root_mean_squared_error: 0.0267\n",
            "Epoch 53/100\n",
            "86/86 [==============================] - 1s 16ms/step - loss: 0.0018 - root_mean_squared_error: 0.0426 - val_loss: 5.7832e-04 - val_root_mean_squared_error: 0.0240\n",
            "Epoch 54/100\n",
            "86/86 [==============================] - 1s 16ms/step - loss: 0.0018 - root_mean_squared_error: 0.0420 - val_loss: 6.6153e-04 - val_root_mean_squared_error: 0.0257\n",
            "Epoch 55/100\n",
            "86/86 [==============================] - 1s 16ms/step - loss: 0.0018 - root_mean_squared_error: 0.0424 - val_loss: 7.5217e-04 - val_root_mean_squared_error: 0.0274\n",
            "Epoch 56/100\n",
            "86/86 [==============================] - 1s 16ms/step - loss: 0.0018 - root_mean_squared_error: 0.0424 - val_loss: 7.0819e-04 - val_root_mean_squared_error: 0.0266\n",
            "Epoch 57/100\n",
            "86/86 [==============================] - 1s 16ms/step - loss: 0.0018 - root_mean_squared_error: 0.0421 - val_loss: 6.0938e-04 - val_root_mean_squared_error: 0.0247\n",
            "Epoch 58/100\n",
            "86/86 [==============================] - 1s 16ms/step - loss: 0.0018 - root_mean_squared_error: 0.0422 - val_loss: 7.8217e-04 - val_root_mean_squared_error: 0.0280\n",
            "Epoch 59/100\n",
            "86/86 [==============================] - 1s 16ms/step - loss: 0.0018 - root_mean_squared_error: 0.0423 - val_loss: 5.5329e-04 - val_root_mean_squared_error: 0.0235\n",
            "Epoch 60/100\n",
            "86/86 [==============================] - 3s 30ms/step - loss: 0.0018 - root_mean_squared_error: 0.0424 - val_loss: 7.0804e-04 - val_root_mean_squared_error: 0.0266\n",
            "Epoch 61/100\n",
            "86/86 [==============================] - 2s 17ms/step - loss: 0.0017 - root_mean_squared_error: 0.0415 - val_loss: 5.1021e-04 - val_root_mean_squared_error: 0.0226\n",
            "Epoch 62/100\n",
            "86/86 [==============================] - 1s 17ms/step - loss: 0.0017 - root_mean_squared_error: 0.0415 - val_loss: 7.0534e-04 - val_root_mean_squared_error: 0.0266\n",
            "Epoch 63/100\n",
            "86/86 [==============================] - 1s 17ms/step - loss: 0.0017 - root_mean_squared_error: 0.0410 - val_loss: 6.9301e-04 - val_root_mean_squared_error: 0.0263\n",
            "Epoch 64/100\n",
            "86/86 [==============================] - 1s 16ms/step - loss: 0.0016 - root_mean_squared_error: 0.0405 - val_loss: 5.6612e-04 - val_root_mean_squared_error: 0.0238\n",
            "Epoch 65/100\n",
            "86/86 [==============================] - 1s 17ms/step - loss: 0.0017 - root_mean_squared_error: 0.0407 - val_loss: 5.3270e-04 - val_root_mean_squared_error: 0.0231\n",
            "Epoch 66/100\n",
            "86/86 [==============================] - 1s 16ms/step - loss: 0.0016 - root_mean_squared_error: 0.0396 - val_loss: 5.7019e-04 - val_root_mean_squared_error: 0.0239\n",
            "Epoch 67/100\n",
            "86/86 [==============================] - 1s 16ms/step - loss: 0.0016 - root_mean_squared_error: 0.0397 - val_loss: 6.0762e-04 - val_root_mean_squared_error: 0.0247\n",
            "Epoch 68/100\n",
            "86/86 [==============================] - 1s 16ms/step - loss: 0.0016 - root_mean_squared_error: 0.0395 - val_loss: 5.5690e-04 - val_root_mean_squared_error: 0.0236\n",
            "Epoch 69/100\n",
            "86/86 [==============================] - 1s 17ms/step - loss: 0.0016 - root_mean_squared_error: 0.0403 - val_loss: 5.1268e-04 - val_root_mean_squared_error: 0.0226\n",
            "Epoch 70/100\n",
            "86/86 [==============================] - 1s 16ms/step - loss: 0.0016 - root_mean_squared_error: 0.0396 - val_loss: 5.7393e-04 - val_root_mean_squared_error: 0.0240\n",
            "Epoch 71/100\n",
            "86/86 [==============================] - 1s 16ms/step - loss: 0.0015 - root_mean_squared_error: 0.0393 - val_loss: 5.5768e-04 - val_root_mean_squared_error: 0.0236\n",
            "Epoch 72/100\n",
            "86/86 [==============================] - 1s 16ms/step - loss: 0.0016 - root_mean_squared_error: 0.0399 - val_loss: 5.4785e-04 - val_root_mean_squared_error: 0.0234\n",
            "Epoch 73/100\n",
            "86/86 [==============================] - 1s 16ms/step - loss: 0.0015 - root_mean_squared_error: 0.0387 - val_loss: 5.6450e-04 - val_root_mean_squared_error: 0.0238\n",
            "Epoch 74/100\n",
            "86/86 [==============================] - 1s 16ms/step - loss: 0.0015 - root_mean_squared_error: 0.0391 - val_loss: 5.6840e-04 - val_root_mean_squared_error: 0.0238\n",
            "Epoch 75/100\n",
            "86/86 [==============================] - 1s 16ms/step - loss: 0.0014 - root_mean_squared_error: 0.0370 - val_loss: 6.0830e-04 - val_root_mean_squared_error: 0.0247\n",
            "Epoch 76/100\n",
            "86/86 [==============================] - 1s 16ms/step - loss: 0.0015 - root_mean_squared_error: 0.0388 - val_loss: 5.7800e-04 - val_root_mean_squared_error: 0.0240\n",
            "Epoch 77/100\n",
            "86/86 [==============================] - 1s 17ms/step - loss: 0.0016 - root_mean_squared_error: 0.0398 - val_loss: 6.1848e-04 - val_root_mean_squared_error: 0.0249\n",
            "Epoch 78/100\n",
            "86/86 [==============================] - 1s 16ms/step - loss: 0.0015 - root_mean_squared_error: 0.0384 - val_loss: 6.6314e-04 - val_root_mean_squared_error: 0.0258\n",
            "Epoch 79/100\n",
            "86/86 [==============================] - 1s 16ms/step - loss: 0.0015 - root_mean_squared_error: 0.0390 - val_loss: 7.2893e-04 - val_root_mean_squared_error: 0.0270\n",
            "Epoch 80/100\n",
            "86/86 [==============================] - 1s 16ms/step - loss: 0.0015 - root_mean_squared_error: 0.0384 - val_loss: 6.0264e-04 - val_root_mean_squared_error: 0.0245\n",
            "Epoch 81/100\n",
            "86/86 [==============================] - 1s 16ms/step - loss: 0.0015 - root_mean_squared_error: 0.0391 - val_loss: 6.7144e-04 - val_root_mean_squared_error: 0.0259\n",
            "Epoch 82/100\n",
            "86/86 [==============================] - 1s 16ms/step - loss: 0.0015 - root_mean_squared_error: 0.0383 - val_loss: 5.5781e-04 - val_root_mean_squared_error: 0.0236\n",
            "Epoch 83/100\n",
            "86/86 [==============================] - 1s 16ms/step - loss: 0.0014 - root_mean_squared_error: 0.0371 - val_loss: 6.3530e-04 - val_root_mean_squared_error: 0.0252\n",
            "Epoch 84/100\n",
            "86/86 [==============================] - 1s 16ms/step - loss: 0.0014 - root_mean_squared_error: 0.0376 - val_loss: 6.6013e-04 - val_root_mean_squared_error: 0.0257\n",
            "Epoch 85/100\n",
            "86/86 [==============================] - 1s 16ms/step - loss: 0.0014 - root_mean_squared_error: 0.0378 - val_loss: 7.6884e-04 - val_root_mean_squared_error: 0.0277\n",
            "Epoch 86/100\n",
            "86/86 [==============================] - 1s 16ms/step - loss: 0.0014 - root_mean_squared_error: 0.0370 - val_loss: 6.4794e-04 - val_root_mean_squared_error: 0.0255\n",
            "Epoch 87/100\n",
            "86/86 [==============================] - 1s 16ms/step - loss: 0.0015 - root_mean_squared_error: 0.0392 - val_loss: 6.4260e-04 - val_root_mean_squared_error: 0.0253\n",
            "Epoch 88/100\n",
            "86/86 [==============================] - 1s 16ms/step - loss: 0.0014 - root_mean_squared_error: 0.0369 - val_loss: 7.3350e-04 - val_root_mean_squared_error: 0.0271\n",
            "Epoch 89/100\n",
            "86/86 [==============================] - 1s 16ms/step - loss: 0.0013 - root_mean_squared_error: 0.0354 - val_loss: 5.9447e-04 - val_root_mean_squared_error: 0.0244\n",
            "Epoch 90/100\n",
            "86/86 [==============================] - 1s 16ms/step - loss: 0.0013 - root_mean_squared_error: 0.0359 - val_loss: 6.1243e-04 - val_root_mean_squared_error: 0.0247\n",
            "Epoch 91/100\n",
            "86/86 [==============================] - 1s 16ms/step - loss: 0.0014 - root_mean_squared_error: 0.0371 - val_loss: 5.9191e-04 - val_root_mean_squared_error: 0.0243\n",
            "Epoch 92/100\n",
            "86/86 [==============================] - 1s 16ms/step - loss: 0.0013 - root_mean_squared_error: 0.0358 - val_loss: 6.9128e-04 - val_root_mean_squared_error: 0.0263\n",
            "Epoch 93/100\n",
            "86/86 [==============================] - 1s 16ms/step - loss: 0.0013 - root_mean_squared_error: 0.0356 - val_loss: 5.8676e-04 - val_root_mean_squared_error: 0.0242\n",
            "Epoch 94/100\n",
            "86/86 [==============================] - 1s 16ms/step - loss: 0.0012 - root_mean_squared_error: 0.0353 - val_loss: 6.3350e-04 - val_root_mean_squared_error: 0.0252\n",
            "Epoch 95/100\n",
            "86/86 [==============================] - 1s 17ms/step - loss: 0.0014 - root_mean_squared_error: 0.0375 - val_loss: 6.1595e-04 - val_root_mean_squared_error: 0.0248\n",
            "Epoch 96/100\n",
            "86/86 [==============================] - 1s 16ms/step - loss: 0.0013 - root_mean_squared_error: 0.0355 - val_loss: 6.3195e-04 - val_root_mean_squared_error: 0.0251\n",
            "Epoch 97/100\n",
            "86/86 [==============================] - 1s 16ms/step - loss: 0.0012 - root_mean_squared_error: 0.0353 - val_loss: 6.5446e-04 - val_root_mean_squared_error: 0.0256\n",
            "Epoch 98/100\n",
            "86/86 [==============================] - 1s 16ms/step - loss: 0.0012 - root_mean_squared_error: 0.0342 - val_loss: 6.4019e-04 - val_root_mean_squared_error: 0.0253\n",
            "Epoch 99/100\n",
            "86/86 [==============================] - 1s 16ms/step - loss: 0.0012 - root_mean_squared_error: 0.0345 - val_loss: 7.4571e-04 - val_root_mean_squared_error: 0.0273\n",
            "Epoch 100/100\n",
            "86/86 [==============================] - 1s 17ms/step - loss: 0.0012 - root_mean_squared_error: 0.0351 - val_loss: 5.7606e-04 - val_root_mean_squared_error: 0.0240\n"
          ]
        }
      ]
    },
    {
      "cell_type": "code",
      "source": [
        "y_en=ensemble_model.predict(X_test1)\n",
        "plt.scatter(y_en,y_test1)\n",
        "plt.show()"
      ],
      "metadata": {
        "id": "Q1msjytCGRcz",
        "colab": {
          "base_uri": "https://localhost:8080/",
          "height": 282
        },
        "outputId": "b1ab0ec7-3273-41ec-c87e-9a6795538a7e"
      },
      "execution_count": 68,
      "outputs": [
        {
          "output_type": "stream",
          "name": "stdout",
          "text": [
            "76/76 [==============================] - 2s 4ms/step\n"
          ]
        },
        {
          "output_type": "display_data",
          "data": {
            "text/plain": [
              "<Figure size 432x288 with 1 Axes>"
            ],
            "image/png": "[encoded data removed]"
          },
          "metadata": {
            "needs_background": "light"
          }
        }
      ]
    },
    {
      "cell_type": "code",
      "source": [
        "plt.plot(history.history['loss'], label='train')\n",
        "plt.plot(history.history['val_loss'], label='train')\n",
        "plt.legend()\n",
        "plt.show()"
      ],
      "metadata": {
        "id": "uDhkVXrxJyM7",
        "colab": {
          "base_uri": "https://localhost:8080/",
          "height": 265
        },
        "outputId": "b7faf849-2a6f-40e6-af42-6fd48aeb9d07"
      },
      "execution_count": 69,
      "outputs": [
        {
          "output_type": "display_data",
          "data": {
            "text/plain": [
              "<Figure size 432x288 with 1 Axes>"
            ],
            "image/png": "[encoded data removed]"
          },
          "metadata": {
            "needs_background": "light"
          }
        }
      ]
    },
    {
      "cell_type": "code",
      "source": [
        "df_ = pd.DataFrame()\n",
        "df_['time']=[i for i in range(len(y_en))]\n",
        "df_['Actual']=y_test\n",
        "df_['Predicted']=y_en"
      ],
      "metadata": {
        "id": "0aFB8eDmF9wl"
      },
      "execution_count": 70,
      "outputs": []
    },
    {
      "cell_type": "code",
      "source": [
        "import matplotlib.pyplot as plt\n",
        "plt.plot(df_['time'],df_['Actual'])\n",
        "plt.show()\n",
        "plt.plot(df_['time'],df_['Predicted'])\n",
        "plt.show()"
      ],
      "metadata": {
        "id": "hqm2ceUpGQpc",
        "colab": {
          "base_uri": "https://localhost:8080/",
          "height": 513
        },
        "outputId": "573dcead-68ed-4491-ac3d-72098db222ec"
      },
      "execution_count": 72,
      "outputs": [
        {
          "output_type": "display_data",
          "data": {
            "text/plain": [
              "<Figure size 432x288 with 1 Axes>"
            ],
            "image/png": "[encoded data removed]"
          },
          "metadata": {
            "needs_background": "light"
          }
        },
        {
          "output_type": "display_data",
          "data": {
            "text/plain": [
              "<Figure size 432x288 with 1 Axes>"
            ],
            "image/png": "[encoded data removed]"
          },
          "metadata": {
            "needs_background": "light"
          }
        }
      ]
    },
    {
      "cell_type": "code",
      "source": [
        "from sklearn.decomposition import PCA "
      ],
      "metadata": {
        "id": "8u45S8L-C-H8"
      },
      "execution_count": 58,
      "outputs": []
    },
    {
      "cell_type": "code",
      "source": [
        "pca = PCA(n_components = 20)\n",
        "pca.fit(weather_input)\n",
        "data_pca = pca.transform(weather_input)\n",
        "data_pca = pd.DataFrame(data_pca)"
      ],
      "metadata": {
        "id": "LPHKHSQ3DbwU"
      },
      "execution_count": 59,
      "outputs": []
    },
    {
      "cell_type": "code",
      "source": [
        "data_pca.head()"
      ],
      "metadata": {
        "id": "5N9PD_WADrXt",
        "colab": {
          "base_uri": "https://localhost:8080/",
          "height": 250
        },
        "outputId": "ee357eb7-9196-4d54-f7ba-14c1ded1031c"
      },
      "execution_count": 60,
      "outputs": [
        {
          "output_type": "execute_result",
          "data": {
            "text/plain": [
              "         0         1         2         3         4         5         6   \\\n",
              "0 -1.315470 -0.635044 -0.035510 -0.344345 -0.682535 -0.062841 -0.330765   \n",
              "1 -1.226025 -0.703730 -0.125116 -0.396101 -0.533396 -0.151571 -0.247686   \n",
              "2 -1.136111 -0.748327 -0.008599 -0.507683 -0.343579 -0.242189 -0.181355   \n",
              "3 -0.360585 -1.083298 -0.615117 -0.343024 -0.218179 -0.306951 -0.081500   \n",
              "4 -0.019347 -1.223119 -0.748530 -0.283598  0.072800 -0.343089 -0.081277   \n",
              "\n",
              "         7         8         9         10        11        12        13  \\\n",
              "0  0.128793 -0.059887  0.254162 -0.218945 -0.356641 -0.196729  0.051404   \n",
              "1  0.052865 -0.161037  0.067820 -0.162738 -0.093435 -0.240291  0.052829   \n",
              "2  0.044011 -0.296859 -0.084403 -0.129139  0.139990 -0.234860  0.048771   \n",
              "3 -0.218994 -0.138036 -0.110032 -0.032291  0.129693  0.099010  0.085427   \n",
              "4 -0.262731  0.018789 -0.114361 -0.147909  0.111397 -0.009917  0.091238   \n",
              "\n",
              "         14        15        16        17        18        19  \n",
              "0  0.001762  0.015590  0.063633 -0.013762 -0.115759 -0.051703  \n",
              "1 -0.015187 -0.046888  0.087569 -0.017625 -0.093406 -0.061638  \n",
              "2 -0.006926 -0.062130  0.142369 -0.038902 -0.032132 -0.062534  \n",
              "3  0.008811  0.048572  0.207870 -0.062159 -0.133127 -0.073271  \n",
              "4  0.051190  0.166573  0.088766 -0.064640 -0.142395 -0.063859  "
            ],
            "text/html": [
              "\n",
              "  <div id=\"df-881f8f16-4d99-4b4c-bafd-40e5039bd557\">\n",
              "    <div class=\"colab-df-container\">\n",
              "      <div>\n",
              "<style scoped>\n",
              "    .dataframe tbody tr th:only-of-type {\n",
              "        vertical-align: middle;\n",
              "    }\n",
              "\n",
              "    .dataframe tbody tr th {\n",
              "        vertical-align: top;\n",
              "    }\n",
              "\n",
              "    .dataframe thead th {\n",
              "        text-align: right;\n",
              "    }\n",
              "</style>\n",
              "<table border=\"1\" class=\"dataframe\">\n",
              "  <thead>\n",
              "    <tr style=\"text-align: right;\">\n",
              "      <th></th>\n",
              "      <th>0</th>\n",
              "      <th>1</th>\n",
              "      <th>2</th>\n",
              "      <th>3</th>\n",
              "      <th>4</th>\n",
              "      <th>5</th>\n",
              "      <th>6</th>\n",
              "      <th>7</th>\n",
              "      <th>8</th>\n",
              "      <th>9</th>\n",
              "      <th>10</th>\n",
              "      <th>11</th>\n",
              "      <th>12</th>\n",
              "      <th>13</th>\n",
              "      <th>14</th>\n",
              "      <th>15</th>\n",
              "      <th>16</th>\n",
              "      <th>17</th>\n",
              "      <th>18</th>\n",
              "      <th>19</th>\n",
              "    </tr>\n",
              "  </thead>\n",
              "  <tbody>\n",
              "    <tr>\n",
              "      <th>0</th>\n",
              "      <td>-1.315470</td>\n",
              "      <td>-0.635044</td>\n",
              "      <td>-0.035510</td>\n",
              "      <td>-0.344345</td>\n",
              "      <td>-0.682535</td>\n",
              "      <td>-0.062841</td>\n",
              "      <td>-0.330765</td>\n",
              "      <td>0.128793</td>\n",
              "      <td>-0.059887</td>\n",
              "      <td>0.254162</td>\n",
              "      <td>-0.218945</td>\n",
              "      <td>-0.356641</td>\n",
              "      <td>-0.196729</td>\n",
              "      <td>0.051404</td>\n",
              "      <td>0.001762</td>\n",
              "      <td>0.015590</td>\n",
              "      <td>0.063633</td>\n",
              "      <td>-0.013762</td>\n",
              "      <td>-0.115759</td>\n",
              "      <td>-0.051703</td>\n",
              "    </tr>\n",
              "    <tr>\n",
              "      <th>1</th>\n",
              "      <td>-1.226025</td>\n",
              "      <td>-0.703730</td>\n",
              "      <td>-0.125116</td>\n",
              "      <td>-0.396101</td>\n",
              "      <td>-0.533396</td>\n",
              "      <td>-0.151571</td>\n",
              "      <td>-0.247686</td>\n",
              "      <td>0.052865</td>\n",
              "      <td>-0.161037</td>\n",
              "      <td>0.067820</td>\n",
              "      <td>-0.162738</td>\n",
              "      <td>-0.093435</td>\n",
              "      <td>-0.240291</td>\n",
              "      <td>0.052829</td>\n",
              "      <td>-0.015187</td>\n",
              "      <td>-0.046888</td>\n",
              "      <td>0.087569</td>\n",
              "      <td>-0.017625</td>\n",
              "      <td>-0.093406</td>\n",
              "      <td>-0.061638</td>\n",
              "    </tr>\n",
              "    <tr>\n",
              "      <th>2</th>\n",
              "      <td>-1.136111</td>\n",
              "      <td>-0.748327</td>\n",
              "      <td>-0.008599</td>\n",
              "      <td>-0.507683</td>\n",
              "      <td>-0.343579</td>\n",
              "      <td>-0.242189</td>\n",
              "      <td>-0.181355</td>\n",
              "      <td>0.044011</td>\n",
              "      <td>-0.296859</td>\n",
              "      <td>-0.084403</td>\n",
              "      <td>-0.129139</td>\n",
              "      <td>0.139990</td>\n",
              "      <td>-0.234860</td>\n",
              "      <td>0.048771</td>\n",
              "      <td>-0.006926</td>\n",
              "      <td>-0.062130</td>\n",
              "      <td>0.142369</td>\n",
              "      <td>-0.038902</td>\n",
              "      <td>-0.032132</td>\n",
              "      <td>-0.062534</td>\n",
              "    </tr>\n",
              "    <tr>\n",
              "      <th>3</th>\n",
              "      <td>-0.360585</td>\n",
              "      <td>-1.083298</td>\n",
              "      <td>-0.615117</td>\n",
              "      <td>-0.343024</td>\n",
              "      <td>-0.218179</td>\n",
              "      <td>-0.306951</td>\n",
              "      <td>-0.081500</td>\n",
              "      <td>-0.218994</td>\n",
              "      <td>-0.138036</td>\n",
              "      <td>-0.110032</td>\n",
              "      <td>-0.032291</td>\n",
              "      <td>0.129693</td>\n",
              "      <td>0.099010</td>\n",
              "      <td>0.085427</td>\n",
              "      <td>0.008811</td>\n",
              "      <td>0.048572</td>\n",
              "      <td>0.207870</td>\n",
              "      <td>-0.062159</td>\n",
              "      <td>-0.133127</td>\n",
              "      <td>-0.073271</td>\n",
              "    </tr>\n",
              "    <tr>\n",
              "      <th>4</th>\n",
              "      <td>-0.019347</td>\n",
              "      <td>-1.223119</td>\n",
              "      <td>-0.748530</td>\n",
              "      <td>-0.283598</td>\n",
              "      <td>0.072800</td>\n",
              "      <td>-0.343089</td>\n",
              "      <td>-0.081277</td>\n",
              "      <td>-0.262731</td>\n",
              "      <td>0.018789</td>\n",
              "      <td>-0.114361</td>\n",
              "      <td>-0.147909</td>\n",
              "      <td>0.111397</td>\n",
              "      <td>-0.009917</td>\n",
              "      <td>0.091238</td>\n",
              "      <td>0.051190</td>\n",
              "      <td>0.166573</td>\n",
              "      <td>0.088766</td>\n",
              "      <td>-0.064640</td>\n",
              "      <td>-0.142395</td>\n",
              "      <td>-0.063859</td>\n",
              "    </tr>\n",
              "  </tbody>\n",
              "</table>\n",
              "</div>\n",
              "      <button class=\"colab-df-convert\" onclick=\"convertToInteractive('df-881f8f16-4d99-4b4c-bafd-40e5039bd557')\"\n",
              "              title=\"Convert this dataframe to an interactive table.\"\n",
              "              style=\"display:none;\">\n",
              "        \n",
              "  <svg xmlns=\"http://www.w3.org/2000/svg\" height=\"24px\"viewBox=\"0 0 24 24\"\n",
              "       width=\"24px\">\n",
              "    <path d=\"M0 0h24v24H0V0z\" fill=\"none\"/>\n",
              "    <path d=\"M18.56 5.44l.94 2.06.94-2.06 2.06-.94-2.06-.94-.94-2.06-.94 2.06-2.06.94zm-11 1L8.5 8.5l.94-2.06 2.06-.94-2.06-.94L8.5 2.5l-.94 2.06-2.06.94zm10 10l.94 2.06.94-2.06 2.06-.94-2.06-.94-.94-2.06-.94 2.06-2.06.94z\"/><path d=\"M17.41 7.96l-1.37-1.37c-.4-.4-.92-.59-1.43-.59-.52 0-1.04.2-1.43.59L10.3 9.45l-7.72 7.72c-.78.78-.78 2.05 0 2.83L4 21.41c.39.39.9.59 1.41.59.51 0 1.02-.2 1.41-.59l7.78-7.78 2.81-2.81c.8-.78.8-2.07 0-2.86zM5.41 20L4 18.59l7.72-7.72 1.47 1.35L5.41 20z\"/>\n",
              "  </svg>\n",
              "      </button>\n",
              "      \n",
              "  <style>\n",
              "    .colab-df-container {\n",
              "      display:flex;\n",
              "      flex-wrap:wrap;\n",
              "      gap: 12px;\n",
              "    }\n",
              "\n",
              "    .colab-df-convert {\n",
              "      background-color: #E8F0FE;\n",
              "      border: none;\n",
              "      border-radius: 50%;\n",
              "      cursor: pointer;\n",
              "      display: none;\n",
              "      fill: #1967D2;\n",
              "      height: 32px;\n",
              "      padding: 0 0 0 0;\n",
              "      width: 32px;\n",
              "    }\n",
              "\n",
              "    .colab-df-convert:hover {\n",
              "      background-color: #E2EBFA;\n",
              "      box-shadow: 0px 1px 2px rgba(60, 64, 67, 0.3), 0px 1px 3px 1px rgba(60, 64, 67, 0.15);\n",
              "      fill: #174EA6;\n",
              "    }\n",
              "\n",
              "    [theme=dark] .colab-df-convert {\n",
              "      background-color: #3B4455;\n",
              "      fill: #D2E3FC;\n",
              "    }\n",
              "\n",
              "    [theme=dark] .colab-df-convert:hover {\n",
              "      background-color: #434B5C;\n",
              "      box-shadow: 0px 1px 3px 1px rgba(0, 0, 0, 0.15);\n",
              "      filter: drop-shadow(0px 1px 2px rgba(0, 0, 0, 0.3));\n",
              "      fill: #FFFFFF;\n",
              "    }\n",
              "  </style>\n",
              "\n",
              "      <script>\n",
              "        const buttonEl =\n",
              "          document.querySelector('#df-881f8f16-4d99-4b4c-bafd-40e5039bd557 button.colab-df-convert');\n",
              "        buttonEl.style.display =\n",
              "          google.colab.kernel.accessAllowed ? 'block' : 'none';\n",
              "\n",
              "        async function convertToInteractive(key) {\n",
              "          const element = document.querySelector('#df-881f8f16-4d99-4b4c-bafd-40e5039bd557');\n",
              "          const dataTable =\n",
              "            await google.colab.kernel.invokeFunction('convertToInteractive',\n",
              "                                                     [key], {});\n",
              "          if (!dataTable) return;\n",
              "\n",
              "          const docLinkHtml = 'Like what you see? Visit the ' +\n",
              "            '<a target=\"_blank\" href=https://colab.research.google.com/notebooks/data_table.ipynb>data table notebook</a>'\n",
              "            + ' to learn more about interactive tables.';\n",
              "          element.innerHTML = '';\n",
              "          dataTable['output_type'] = 'display_data';\n",
              "          await google.colab.output.renderOutput(dataTable, element);\n",
              "          const docLink = document.createElement('div');\n",
              "          docLink.innerHTML = docLinkHtml;\n",
              "          element.appendChild(docLink);\n",
              "        }\n",
              "      </script>\n",
              "    </div>\n",
              "  </div>\n",
              "  "
            ]
          },
          "metadata": {},
          "execution_count": 60
        }
      ]
    },
    {
      "cell_type": "code",
      "source": [
        "num_steps = 3\n",
        "# training set\n",
        "(x_transformed1,\n",
        " y_transformed1) = lstm_data_transform(data_pca,solpow , num_steps=num_steps)\n",
        "assert x_transformed1.shape[0] == y_transformed1.shape[0]"
      ],
      "metadata": {
        "id": "3X0RtE8DDwKq"
      },
      "execution_count": 61,
      "outputs": []
    },
    {
      "cell_type": "code",
      "source": [
        "X_train2, X_test2, y_train2, y_test2= train_test_split(x_transformed1, y_transformed1, test_size=0.4, random_state=42,shuffle=False)"
      ],
      "metadata": {
        "id": "S0L4GSxJD6r0"
      },
      "execution_count": 62,
      "outputs": []
    },
    {
      "cell_type": "code",
      "source": [
        "def get_model1(): \n",
        "    #inputs1 = Input(shape=(X_train.shape[1],X_train.shape[2]))\n",
        "    fe1_0 = LSTM(32, activation='relu',return_sequences = True)(inputs1)#32\n",
        "    fe1_1 = Dropout(0.2)(fe1_0)\n",
        "    fe1_2 = LSTM(16, activation='relu',return_sequences = True)(fe1_1)#16\n",
        "    fe1_3= Dropout(0.2)(fe1_2)\n",
        "    fe1_4=LSTM(8, activation='relu')(fe1_3)#8\n",
        "    out1_1=Dense(1, activation='linear')(fe1_4)\n",
        "    return Model(inputs1, out1_1)\n",
        "def get_model2(): \n",
        "    #inputs1 = Input(shape=(X_train.shape[1],X_train.shape[2]))\n",
        "    fe2_0 = LSTM(16, activation='relu',return_sequences = True)(inputs1)#16,16,8\n",
        "    fe2_1 = Dropout(0.5)(fe2_0)\n",
        "    fe2_2 = LSTM(16, activation='relu',return_sequences = True)(fe2_1)\n",
        "    fe2_3= Dropout(0.5)(fe2_2)\n",
        "    fe2_4=LSTM(8, activation='relu')(fe2_3)\n",
        "    out2_1=Dense(1, activation='linear')(fe2_4)\n",
        "    return Model(inputs1, out2_1)\n",
        "def get_model3(): \n",
        "    #inputs1 = Input(shape=(X_train.shape[1],X_train.shape[2]))\n",
        "    fe3_0 = LSTM(16, activation='relu',return_sequences = True)(inputs1)#16,8,8\n",
        "    fe3_1 = Dropout(0.5)(fe3_0)\n",
        "    fe3_2 = LSTM(8, activation='relu',return_sequences = True)(fe3_1)\n",
        "    fe3_3= Dropout(0.5)(fe3_2)\n",
        "    fe3_4=LSTM(8, activation='relu')(fe3_3)\n",
        "    out3_1=Dense(1, activation='linear')(fe3_4)\n",
        "    return Model(inputs1, out3_1)\n",
        "model1 = get_model1() \n",
        "model2 = get_model2() \n",
        "model3 = get_model3()\n",
        "y1 = model1(inputs1) \n",
        "y2 = model2(inputs1) \n",
        "y3 = model3(inputs1)\n",
        "outputs = layers.average([y1, y2, y3]) \n",
        "ensemble_model = Model(inputs=inputs1, outputs=outputs)\n",
        "ensemble_model.compile(optimizer='Adam',loss='mean_squared_error',metrics=['RootMeanSquaredError'])\n",
        "history=ensemble_model.fit(X_train2, y_train2, epochs = 200, batch_size = 64)"
      ],
      "metadata": {
        "id": "fPBzdko0EGyr",
        "colab": {
          "base_uri": "https://localhost:8080/"
        },
        "outputId": "56e4ef09-5bc2-44f8-fb82-707420810993"
      },
      "execution_count": 63,
      "outputs": [
        {
          "output_type": "stream",
          "name": "stdout",
          "text": [
            "Epoch 1/200\n",
            "57/57 [==============================] - 13s 15ms/step - loss: 0.0214 - root_mean_squared_error: 0.1461\n",
            "Epoch 2/200\n",
            "57/57 [==============================] - 1s 16ms/step - loss: 0.0098 - root_mean_squared_error: 0.0991\n",
            "Epoch 3/200\n",
            "57/57 [==============================] - 1s 16ms/step - loss: 0.0048 - root_mean_squared_error: 0.0695\n",
            "Epoch 4/200\n",
            "57/57 [==============================] - 1s 16ms/step - loss: 0.0042 - root_mean_squared_error: 0.0652\n",
            "Epoch 5/200\n",
            "57/57 [==============================] - 1s 16ms/step - loss: 0.0039 - root_mean_squared_error: 0.0625\n",
            "Epoch 6/200\n",
            "57/57 [==============================] - 1s 16ms/step - loss: 0.0035 - root_mean_squared_error: 0.0596\n",
            "Epoch 7/200\n",
            "57/57 [==============================] - 1s 16ms/step - loss: 0.0035 - root_mean_squared_error: 0.0594\n",
            "Epoch 8/200\n",
            "57/57 [==============================] - 1s 15ms/step - loss: 0.0036 - root_mean_squared_error: 0.0603\n",
            "Epoch 9/200\n",
            "57/57 [==============================] - 1s 15ms/step - loss: 0.0033 - root_mean_squared_error: 0.0572\n",
            "Epoch 10/200\n",
            "57/57 [==============================] - 1s 16ms/step - loss: 0.0030 - root_mean_squared_error: 0.0551\n",
            "Epoch 11/200\n",
            "57/57 [==============================] - 1s 16ms/step - loss: 0.0029 - root_mean_squared_error: 0.0537\n",
            "Epoch 12/200\n",
            "57/57 [==============================] - 1s 16ms/step - loss: 0.0031 - root_mean_squared_error: 0.0553\n",
            "Epoch 13/200\n",
            "57/57 [==============================] - 1s 16ms/step - loss: 0.0029 - root_mean_squared_error: 0.0537\n",
            "Epoch 14/200\n",
            "57/57 [==============================] - 1s 15ms/step - loss: 0.0028 - root_mean_squared_error: 0.0531\n",
            "Epoch 15/200\n",
            "57/57 [==============================] - 1s 17ms/step - loss: 0.0028 - root_mean_squared_error: 0.0527\n",
            "Epoch 16/200\n",
            "57/57 [==============================] - 1s 16ms/step - loss: 0.0028 - root_mean_squared_error: 0.0528\n",
            "Epoch 17/200\n",
            "57/57 [==============================] - 1s 16ms/step - loss: 0.0025 - root_mean_squared_error: 0.0497\n",
            "Epoch 18/200\n",
            "57/57 [==============================] - 1s 16ms/step - loss: 0.0027 - root_mean_squared_error: 0.0519\n",
            "Epoch 19/200\n",
            "57/57 [==============================] - 1s 16ms/step - loss: 0.0024 - root_mean_squared_error: 0.0491\n",
            "Epoch 20/200\n",
            "57/57 [==============================] - 1s 16ms/step - loss: 0.0024 - root_mean_squared_error: 0.0492\n",
            "Epoch 21/200\n",
            "57/57 [==============================] - 1s 16ms/step - loss: 0.0026 - root_mean_squared_error: 0.0506\n",
            "Epoch 22/200\n",
            "57/57 [==============================] - 1s 16ms/step - loss: 0.0024 - root_mean_squared_error: 0.0493\n",
            "Epoch 23/200\n",
            "57/57 [==============================] - 1s 21ms/step - loss: 0.0024 - root_mean_squared_error: 0.0486\n",
            "Epoch 24/200\n",
            "57/57 [==============================] - 2s 29ms/step - loss: 0.0023 - root_mean_squared_error: 0.0482\n",
            "Epoch 25/200\n",
            "57/57 [==============================] - 1s 24ms/step - loss: 0.0023 - root_mean_squared_error: 0.0482\n",
            "Epoch 26/200\n",
            "57/57 [==============================] - 1s 16ms/step - loss: 0.0023 - root_mean_squared_error: 0.0475\n",
            "Epoch 27/200\n",
            "57/57 [==============================] - 1s 16ms/step - loss: 0.0022 - root_mean_squared_error: 0.0469\n",
            "Epoch 28/200\n",
            "57/57 [==============================] - 1s 16ms/step - loss: 0.0022 - root_mean_squared_error: 0.0468\n",
            "Epoch 29/200\n",
            "57/57 [==============================] - 1s 16ms/step - loss: 0.0021 - root_mean_squared_error: 0.0462\n",
            "Epoch 30/200\n",
            "57/57 [==============================] - 1s 16ms/step - loss: 0.0021 - root_mean_squared_error: 0.0460\n",
            "Epoch 31/200\n",
            "57/57 [==============================] - 1s 16ms/step - loss: 0.0021 - root_mean_squared_error: 0.0459\n",
            "Epoch 32/200\n",
            "57/57 [==============================] - 1s 16ms/step - loss: 0.0022 - root_mean_squared_error: 0.0466\n",
            "Epoch 33/200\n",
            "57/57 [==============================] - 1s 16ms/step - loss: 0.0020 - root_mean_squared_error: 0.0450\n",
            "Epoch 34/200\n",
            "57/57 [==============================] - 1s 17ms/step - loss: 0.0020 - root_mean_squared_error: 0.0451\n",
            "Epoch 35/200\n",
            "57/57 [==============================] - 1s 16ms/step - loss: 0.0020 - root_mean_squared_error: 0.0448\n",
            "Epoch 36/200\n",
            "57/57 [==============================] - 1s 16ms/step - loss: 0.0020 - root_mean_squared_error: 0.0447\n",
            "Epoch 37/200\n",
            "57/57 [==============================] - 1s 16ms/step - loss: 0.0019 - root_mean_squared_error: 0.0438\n",
            "Epoch 38/200\n",
            "57/57 [==============================] - 1s 16ms/step - loss: 0.0020 - root_mean_squared_error: 0.0445\n",
            "Epoch 39/200\n",
            "57/57 [==============================] - 1s 16ms/step - loss: 0.0019 - root_mean_squared_error: 0.0439\n",
            "Epoch 40/200\n",
            "57/57 [==============================] - 1s 16ms/step - loss: 0.0019 - root_mean_squared_error: 0.0438\n",
            "Epoch 41/200\n",
            "57/57 [==============================] - 1s 17ms/step - loss: 0.0019 - root_mean_squared_error: 0.0440\n",
            "Epoch 42/200\n",
            "57/57 [==============================] - 1s 16ms/step - loss: 0.0018 - root_mean_squared_error: 0.0429\n",
            "Epoch 43/200\n",
            "57/57 [==============================] - 1s 16ms/step - loss: 0.0019 - root_mean_squared_error: 0.0440\n",
            "Epoch 44/200\n",
            "57/57 [==============================] - 1s 17ms/step - loss: 0.0019 - root_mean_squared_error: 0.0440\n",
            "Epoch 45/200\n",
            "57/57 [==============================] - 1s 16ms/step - loss: 0.0019 - root_mean_squared_error: 0.0434\n",
            "Epoch 46/200\n",
            "57/57 [==============================] - 1s 17ms/step - loss: 0.0019 - root_mean_squared_error: 0.0434\n",
            "Epoch 47/200\n",
            "57/57 [==============================] - 1s 16ms/step - loss: 0.0018 - root_mean_squared_error: 0.0426\n",
            "Epoch 48/200\n",
            "57/57 [==============================] - 1s 16ms/step - loss: 0.0017 - root_mean_squared_error: 0.0416\n",
            "Epoch 49/200\n",
            "57/57 [==============================] - 1s 17ms/step - loss: 0.0018 - root_mean_squared_error: 0.0422\n",
            "Epoch 50/200\n",
            "57/57 [==============================] - 1s 16ms/step - loss: 0.0018 - root_mean_squared_error: 0.0427\n",
            "Epoch 51/200\n",
            "57/57 [==============================] - 1s 16ms/step - loss: 0.0018 - root_mean_squared_error: 0.0428\n",
            "Epoch 52/200\n",
            "57/57 [==============================] - 1s 16ms/step - loss: 0.0017 - root_mean_squared_error: 0.0415\n",
            "Epoch 53/200\n",
            "57/57 [==============================] - 1s 16ms/step - loss: 0.0018 - root_mean_squared_error: 0.0419\n",
            "Epoch 54/200\n",
            "57/57 [==============================] - 1s 16ms/step - loss: 0.0018 - root_mean_squared_error: 0.0428\n",
            "Epoch 55/200\n",
            "57/57 [==============================] - 1s 16ms/step - loss: 0.0017 - root_mean_squared_error: 0.0417\n",
            "Epoch 56/200\n",
            "57/57 [==============================] - 1s 16ms/step - loss: 0.0017 - root_mean_squared_error: 0.0417\n",
            "Epoch 57/200\n",
            "57/57 [==============================] - 1s 16ms/step - loss: 0.0017 - root_mean_squared_error: 0.0413\n",
            "Epoch 58/200\n",
            "57/57 [==============================] - 1s 16ms/step - loss: 0.0017 - root_mean_squared_error: 0.0409\n",
            "Epoch 59/200\n",
            "57/57 [==============================] - 1s 16ms/step - loss: 0.0018 - root_mean_squared_error: 0.0420\n",
            "Epoch 60/200\n",
            "57/57 [==============================] - 1s 16ms/step - loss: 0.0017 - root_mean_squared_error: 0.0417\n",
            "Epoch 61/200\n",
            "57/57 [==============================] - 1s 16ms/step - loss: 0.0017 - root_mean_squared_error: 0.0407\n",
            "Epoch 62/200\n",
            "57/57 [==============================] - 1s 16ms/step - loss: 0.0017 - root_mean_squared_error: 0.0410\n",
            "Epoch 63/200\n",
            "57/57 [==============================] - 1s 16ms/step - loss: 0.0016 - root_mean_squared_error: 0.0404\n",
            "Epoch 64/200\n",
            "57/57 [==============================] - 1s 16ms/step - loss: 0.0017 - root_mean_squared_error: 0.0411\n",
            "Epoch 65/200\n",
            "57/57 [==============================] - 1s 16ms/step - loss: 0.0017 - root_mean_squared_error: 0.0410\n",
            "Epoch 66/200\n",
            "57/57 [==============================] - 1s 16ms/step - loss: 0.0016 - root_mean_squared_error: 0.0394\n",
            "Epoch 67/200\n",
            "57/57 [==============================] - 1s 16ms/step - loss: 0.0016 - root_mean_squared_error: 0.0400\n",
            "Epoch 68/200\n",
            "57/57 [==============================] - 1s 16ms/step - loss: 0.0017 - root_mean_squared_error: 0.0407\n",
            "Epoch 69/200\n",
            "57/57 [==============================] - 1s 16ms/step - loss: 0.0016 - root_mean_squared_error: 0.0403\n",
            "Epoch 70/200\n",
            "57/57 [==============================] - 1s 17ms/step - loss: 0.0016 - root_mean_squared_error: 0.0397\n",
            "Epoch 71/200\n",
            "57/57 [==============================] - 1s 16ms/step - loss: 0.0016 - root_mean_squared_error: 0.0395\n",
            "Epoch 72/200\n",
            "57/57 [==============================] - 1s 16ms/step - loss: 0.0015 - root_mean_squared_error: 0.0391\n",
            "Epoch 73/200\n",
            "57/57 [==============================] - 1s 16ms/step - loss: 0.0016 - root_mean_squared_error: 0.0395\n",
            "Epoch 74/200\n",
            "57/57 [==============================] - 1s 16ms/step - loss: 0.0017 - root_mean_squared_error: 0.0407\n",
            "Epoch 75/200\n",
            "57/57 [==============================] - 1s 16ms/step - loss: 0.0016 - root_mean_squared_error: 0.0401\n",
            "Epoch 76/200\n",
            "57/57 [==============================] - 1s 17ms/step - loss: 0.0015 - root_mean_squared_error: 0.0386\n",
            "Epoch 77/200\n",
            "57/57 [==============================] - 1s 16ms/step - loss: 0.0016 - root_mean_squared_error: 0.0397\n",
            "Epoch 78/200\n",
            "57/57 [==============================] - 1s 16ms/step - loss: 0.0015 - root_mean_squared_error: 0.0392\n",
            "Epoch 79/200\n",
            "57/57 [==============================] - 1s 16ms/step - loss: 0.0016 - root_mean_squared_error: 0.0395\n",
            "Epoch 80/200\n",
            "57/57 [==============================] - 1s 16ms/step - loss: 0.0015 - root_mean_squared_error: 0.0381\n",
            "Epoch 81/200\n",
            "57/57 [==============================] - 1s 16ms/step - loss: 0.0016 - root_mean_squared_error: 0.0395\n",
            "Epoch 82/200\n",
            "57/57 [==============================] - 1s 16ms/step - loss: 0.0015 - root_mean_squared_error: 0.0391\n",
            "Epoch 83/200\n",
            "57/57 [==============================] - 1s 16ms/step - loss: 0.0014 - root_mean_squared_error: 0.0379\n",
            "Epoch 84/200\n",
            "57/57 [==============================] - 1s 16ms/step - loss: 0.0015 - root_mean_squared_error: 0.0388\n",
            "Epoch 85/200\n",
            "57/57 [==============================] - 1s 16ms/step - loss: 0.0015 - root_mean_squared_error: 0.0384\n",
            "Epoch 86/200\n",
            "57/57 [==============================] - 1s 17ms/step - loss: 0.0014 - root_mean_squared_error: 0.0379\n",
            "Epoch 87/200\n",
            "57/57 [==============================] - 1s 16ms/step - loss: 0.0015 - root_mean_squared_error: 0.0387\n",
            "Epoch 88/200\n",
            "57/57 [==============================] - 1s 16ms/step - loss: 0.0015 - root_mean_squared_error: 0.0384\n",
            "Epoch 89/200\n",
            "57/57 [==============================] - 1s 17ms/step - loss: 0.0015 - root_mean_squared_error: 0.0383\n",
            "Epoch 90/200\n",
            "57/57 [==============================] - 1s 16ms/step - loss: 0.0014 - root_mean_squared_error: 0.0381\n",
            "Epoch 91/200\n",
            "57/57 [==============================] - 1s 16ms/step - loss: 0.0015 - root_mean_squared_error: 0.0385\n",
            "Epoch 92/200\n",
            "57/57 [==============================] - 1s 16ms/step - loss: 0.0014 - root_mean_squared_error: 0.0375\n",
            "Epoch 93/200\n",
            "57/57 [==============================] - 1s 16ms/step - loss: 0.0014 - root_mean_squared_error: 0.0373\n",
            "Epoch 94/200\n",
            "57/57 [==============================] - 1s 16ms/step - loss: 0.0014 - root_mean_squared_error: 0.0381\n",
            "Epoch 95/200\n",
            "57/57 [==============================] - 1s 16ms/step - loss: 0.0014 - root_mean_squared_error: 0.0378\n",
            "Epoch 96/200\n",
            "57/57 [==============================] - 1s 17ms/step - loss: 0.0014 - root_mean_squared_error: 0.0371\n",
            "Epoch 97/200\n",
            "57/57 [==============================] - 1s 17ms/step - loss: 0.0014 - root_mean_squared_error: 0.0381\n",
            "Epoch 98/200\n",
            "57/57 [==============================] - 1s 16ms/step - loss: 0.0014 - root_mean_squared_error: 0.0370\n",
            "Epoch 99/200\n",
            "57/57 [==============================] - 1s 17ms/step - loss: 0.0015 - root_mean_squared_error: 0.0381\n",
            "Epoch 100/200\n",
            "57/57 [==============================] - 1s 16ms/step - loss: 0.0013 - root_mean_squared_error: 0.0365\n",
            "Epoch 101/200\n",
            "57/57 [==============================] - 1s 16ms/step - loss: 0.0013 - root_mean_squared_error: 0.0364\n",
            "Epoch 102/200\n",
            "57/57 [==============================] - 1s 16ms/step - loss: 0.0014 - root_mean_squared_error: 0.0368\n",
            "Epoch 103/200\n",
            "57/57 [==============================] - 1s 16ms/step - loss: 0.0014 - root_mean_squared_error: 0.0373\n",
            "Epoch 104/200\n",
            "57/57 [==============================] - 1s 17ms/step - loss: 0.0014 - root_mean_squared_error: 0.0368\n",
            "Epoch 105/200\n",
            "57/57 [==============================] - 1s 16ms/step - loss: 0.0014 - root_mean_squared_error: 0.0373\n",
            "Epoch 106/200\n",
            "57/57 [==============================] - 1s 16ms/step - loss: 0.0013 - root_mean_squared_error: 0.0364\n",
            "Epoch 107/200\n",
            "57/57 [==============================] - 1s 16ms/step - loss: 0.0013 - root_mean_squared_error: 0.0361\n",
            "Epoch 108/200\n",
            "57/57 [==============================] - 1s 17ms/step - loss: 0.0013 - root_mean_squared_error: 0.0355\n",
            "Epoch 109/200\n",
            "57/57 [==============================] - 1s 17ms/step - loss: 0.0013 - root_mean_squared_error: 0.0364\n",
            "Epoch 110/200\n",
            "57/57 [==============================] - 1s 17ms/step - loss: 0.0012 - root_mean_squared_error: 0.0352\n",
            "Epoch 111/200\n",
            "57/57 [==============================] - 1s 16ms/step - loss: 0.0013 - root_mean_squared_error: 0.0360\n",
            "Epoch 112/200\n",
            "57/57 [==============================] - 1s 16ms/step - loss: 0.0013 - root_mean_squared_error: 0.0364\n",
            "Epoch 113/200\n",
            "57/57 [==============================] - 1s 16ms/step - loss: 0.0013 - root_mean_squared_error: 0.0363\n",
            "Epoch 114/200\n",
            "57/57 [==============================] - 1s 16ms/step - loss: 0.0013 - root_mean_squared_error: 0.0355\n",
            "Epoch 115/200\n",
            "57/57 [==============================] - 1s 16ms/step - loss: 0.0012 - root_mean_squared_error: 0.0352\n",
            "Epoch 116/200\n",
            "57/57 [==============================] - 1s 16ms/step - loss: 0.0012 - root_mean_squared_error: 0.0351\n",
            "Epoch 117/200\n",
            "57/57 [==============================] - 1s 17ms/step - loss: 0.0012 - root_mean_squared_error: 0.0352\n",
            "Epoch 118/200\n",
            "57/57 [==============================] - 1s 16ms/step - loss: 0.0013 - root_mean_squared_error: 0.0360\n",
            "Epoch 119/200\n",
            "57/57 [==============================] - 1s 16ms/step - loss: 0.0012 - root_mean_squared_error: 0.0351\n",
            "Epoch 120/200\n",
            "57/57 [==============================] - 1s 16ms/step - loss: 0.0012 - root_mean_squared_error: 0.0353\n",
            "Epoch 121/200\n",
            "57/57 [==============================] - 1s 17ms/step - loss: 0.0012 - root_mean_squared_error: 0.0350\n",
            "Epoch 122/200\n",
            "57/57 [==============================] - 1s 17ms/step - loss: 0.0012 - root_mean_squared_error: 0.0345\n",
            "Epoch 123/200\n",
            "57/57 [==============================] - 1s 17ms/step - loss: 0.0012 - root_mean_squared_error: 0.0342\n",
            "Epoch 124/200\n",
            "57/57 [==============================] - 1s 16ms/step - loss: 0.0012 - root_mean_squared_error: 0.0348\n",
            "Epoch 125/200\n",
            "57/57 [==============================] - 1s 16ms/step - loss: 0.0012 - root_mean_squared_error: 0.0344\n",
            "Epoch 126/200\n",
            "57/57 [==============================] - 1s 17ms/step - loss: 0.0012 - root_mean_squared_error: 0.0351\n",
            "Epoch 127/200\n",
            "57/57 [==============================] - 1s 16ms/step - loss: 0.0012 - root_mean_squared_error: 0.0350\n",
            "Epoch 128/200\n",
            "57/57 [==============================] - 1s 17ms/step - loss: 0.0012 - root_mean_squared_error: 0.0347\n",
            "Epoch 129/200\n",
            "57/57 [==============================] - 1s 16ms/step - loss: 0.0012 - root_mean_squared_error: 0.0341\n",
            "Epoch 130/200\n",
            "57/57 [==============================] - 1s 17ms/step - loss: 0.0012 - root_mean_squared_error: 0.0346\n",
            "Epoch 131/200\n",
            "57/57 [==============================] - 1s 16ms/step - loss: 0.0011 - root_mean_squared_error: 0.0338\n",
            "Epoch 132/200\n",
            "57/57 [==============================] - 1s 17ms/step - loss: 0.0012 - root_mean_squared_error: 0.0343\n",
            "Epoch 133/200\n",
            "57/57 [==============================] - 1s 16ms/step - loss: 0.0012 - root_mean_squared_error: 0.0339\n",
            "Epoch 134/200\n",
            "57/57 [==============================] - 1s 16ms/step - loss: 0.0012 - root_mean_squared_error: 0.0341\n",
            "Epoch 135/200\n",
            "57/57 [==============================] - 1s 17ms/step - loss: 0.0011 - root_mean_squared_error: 0.0334\n",
            "Epoch 136/200\n",
            "57/57 [==============================] - 1s 16ms/step - loss: 0.0011 - root_mean_squared_error: 0.0336\n",
            "Epoch 137/200\n",
            "57/57 [==============================] - 1s 17ms/step - loss: 0.0011 - root_mean_squared_error: 0.0336\n",
            "Epoch 138/200\n",
            "57/57 [==============================] - 1s 16ms/step - loss: 0.0011 - root_mean_squared_error: 0.0337\n",
            "Epoch 139/200\n",
            "57/57 [==============================] - 1s 17ms/step - loss: 0.0011 - root_mean_squared_error: 0.0333\n",
            "Epoch 140/200\n",
            "57/57 [==============================] - 1s 16ms/step - loss: 0.0011 - root_mean_squared_error: 0.0336\n",
            "Epoch 141/200\n",
            "57/57 [==============================] - 1s 16ms/step - loss: 0.0011 - root_mean_squared_error: 0.0333\n",
            "Epoch 142/200\n",
            "57/57 [==============================] - 1s 16ms/step - loss: 0.0011 - root_mean_squared_error: 0.0334\n",
            "Epoch 143/200\n",
            "57/57 [==============================] - 1s 17ms/step - loss: 0.0010 - root_mean_squared_error: 0.0323\n",
            "Epoch 144/200\n",
            "57/57 [==============================] - 1s 16ms/step - loss: 0.0011 - root_mean_squared_error: 0.0331\n",
            "Epoch 145/200\n",
            "57/57 [==============================] - 1s 17ms/step - loss: 0.0010 - root_mean_squared_error: 0.0323\n",
            "Epoch 146/200\n",
            "57/57 [==============================] - 1s 16ms/step - loss: 0.0011 - root_mean_squared_error: 0.0333\n",
            "Epoch 147/200\n",
            "57/57 [==============================] - 1s 16ms/step - loss: 0.0011 - root_mean_squared_error: 0.0333\n",
            "Epoch 148/200\n",
            "57/57 [==============================] - 1s 16ms/step - loss: 0.0011 - root_mean_squared_error: 0.0329\n",
            "Epoch 149/200\n",
            "57/57 [==============================] - 1s 16ms/step - loss: 0.0011 - root_mean_squared_error: 0.0332\n",
            "Epoch 150/200\n",
            "57/57 [==============================] - 1s 16ms/step - loss: 0.0011 - root_mean_squared_error: 0.0329\n",
            "Epoch 151/200\n",
            "57/57 [==============================] - 1s 16ms/step - loss: 0.0010 - root_mean_squared_error: 0.0322\n",
            "Epoch 152/200\n",
            "57/57 [==============================] - 1s 16ms/step - loss: 0.0011 - root_mean_squared_error: 0.0326\n",
            "Epoch 153/200\n",
            "57/57 [==============================] - 1s 16ms/step - loss: 0.0011 - root_mean_squared_error: 0.0329\n",
            "Epoch 154/200\n",
            "57/57 [==============================] - 1s 17ms/step - loss: 9.3685e-04 - root_mean_squared_error: 0.0306\n",
            "Epoch 155/200\n",
            "57/57 [==============================] - 1s 17ms/step - loss: 0.0010 - root_mean_squared_error: 0.0317\n",
            "Epoch 156/200\n",
            "57/57 [==============================] - 1s 16ms/step - loss: 0.0010 - root_mean_squared_error: 0.0318\n",
            "Epoch 157/200\n",
            "57/57 [==============================] - 1s 17ms/step - loss: 0.0010 - root_mean_squared_error: 0.0318\n",
            "Epoch 158/200\n",
            "57/57 [==============================] - 1s 17ms/step - loss: 0.0011 - root_mean_squared_error: 0.0324\n",
            "Epoch 159/200\n",
            "57/57 [==============================] - 1s 17ms/step - loss: 0.0010 - root_mean_squared_error: 0.0318\n",
            "Epoch 160/200\n",
            "57/57 [==============================] - 1s 17ms/step - loss: 0.0010 - root_mean_squared_error: 0.0320\n",
            "Epoch 161/200\n",
            "57/57 [==============================] - 1s 16ms/step - loss: 9.9409e-04 - root_mean_squared_error: 0.0315\n",
            "Epoch 162/200\n",
            "57/57 [==============================] - 1s 17ms/step - loss: 0.0010 - root_mean_squared_error: 0.0319\n",
            "Epoch 163/200\n",
            "57/57 [==============================] - 1s 16ms/step - loss: 9.4879e-04 - root_mean_squared_error: 0.0308\n",
            "Epoch 164/200\n",
            "57/57 [==============================] - 1s 17ms/step - loss: 9.1195e-04 - root_mean_squared_error: 0.0302\n",
            "Epoch 165/200\n",
            "57/57 [==============================] - 1s 17ms/step - loss: 0.0010 - root_mean_squared_error: 0.0317\n",
            "Epoch 166/200\n",
            "57/57 [==============================] - 1s 17ms/step - loss: 9.7954e-04 - root_mean_squared_error: 0.0313\n",
            "Epoch 167/200\n",
            "57/57 [==============================] - 1s 16ms/step - loss: 0.0010 - root_mean_squared_error: 0.0319\n",
            "Epoch 168/200\n",
            "57/57 [==============================] - 1s 16ms/step - loss: 9.2711e-04 - root_mean_squared_error: 0.0304\n",
            "Epoch 169/200\n",
            "57/57 [==============================] - 1s 17ms/step - loss: 9.5456e-04 - root_mean_squared_error: 0.0309\n",
            "Epoch 170/200\n",
            "57/57 [==============================] - 1s 17ms/step - loss: 9.0881e-04 - root_mean_squared_error: 0.0301\n",
            "Epoch 171/200\n",
            "57/57 [==============================] - 1s 17ms/step - loss: 9.7887e-04 - root_mean_squared_error: 0.0313\n",
            "Epoch 172/200\n",
            "57/57 [==============================] - 1s 16ms/step - loss: 9.4155e-04 - root_mean_squared_error: 0.0307\n",
            "Epoch 173/200\n",
            "57/57 [==============================] - 1s 17ms/step - loss: 9.5113e-04 - root_mean_squared_error: 0.0308\n",
            "Epoch 174/200\n",
            "57/57 [==============================] - 1s 16ms/step - loss: 9.7552e-04 - root_mean_squared_error: 0.0312\n",
            "Epoch 175/200\n",
            "57/57 [==============================] - 1s 16ms/step - loss: 9.7380e-04 - root_mean_squared_error: 0.0312\n",
            "Epoch 176/200\n",
            "57/57 [==============================] - 1s 17ms/step - loss: 9.3693e-04 - root_mean_squared_error: 0.0306\n",
            "Epoch 177/200\n",
            "57/57 [==============================] - 1s 18ms/step - loss: 9.2624e-04 - root_mean_squared_error: 0.0304\n",
            "Epoch 178/200\n",
            "57/57 [==============================] - 1s 17ms/step - loss: 8.7808e-04 - root_mean_squared_error: 0.0296\n",
            "Epoch 179/200\n",
            "57/57 [==============================] - 1s 17ms/step - loss: 9.6764e-04 - root_mean_squared_error: 0.0311\n",
            "Epoch 180/200\n",
            "57/57 [==============================] - 1s 17ms/step - loss: 9.1069e-04 - root_mean_squared_error: 0.0302\n",
            "Epoch 181/200\n",
            "57/57 [==============================] - 1s 17ms/step - loss: 8.9584e-04 - root_mean_squared_error: 0.0299\n",
            "Epoch 182/200\n",
            "57/57 [==============================] - 1s 16ms/step - loss: 8.5258e-04 - root_mean_squared_error: 0.0292\n",
            "Epoch 183/200\n",
            "57/57 [==============================] - 1s 17ms/step - loss: 8.9711e-04 - root_mean_squared_error: 0.0300\n",
            "Epoch 184/200\n",
            "57/57 [==============================] - 1s 17ms/step - loss: 8.6315e-04 - root_mean_squared_error: 0.0294\n",
            "Epoch 185/200\n",
            "57/57 [==============================] - 1s 16ms/step - loss: 8.9935e-04 - root_mean_squared_error: 0.0300\n",
            "Epoch 186/200\n",
            "57/57 [==============================] - 1s 17ms/step - loss: 8.8950e-04 - root_mean_squared_error: 0.0298\n",
            "Epoch 187/200\n",
            "57/57 [==============================] - 1s 16ms/step - loss: 8.2084e-04 - root_mean_squared_error: 0.0287\n",
            "Epoch 188/200\n",
            "57/57 [==============================] - 1s 17ms/step - loss: 8.6654e-04 - root_mean_squared_error: 0.0294\n",
            "Epoch 189/200\n",
            "57/57 [==============================] - 1s 17ms/step - loss: 8.4989e-04 - root_mean_squared_error: 0.0292\n",
            "Epoch 190/200\n",
            "57/57 [==============================] - 1s 17ms/step - loss: 8.6856e-04 - root_mean_squared_error: 0.0295\n",
            "Epoch 191/200\n",
            "57/57 [==============================] - 1s 17ms/step - loss: 9.2690e-04 - root_mean_squared_error: 0.0304\n",
            "Epoch 192/200\n",
            "57/57 [==============================] - 1s 16ms/step - loss: 8.4104e-04 - root_mean_squared_error: 0.0290\n",
            "Epoch 193/200\n",
            "57/57 [==============================] - 1s 17ms/step - loss: 8.3212e-04 - root_mean_squared_error: 0.0288\n",
            "Epoch 194/200\n",
            "57/57 [==============================] - 1s 17ms/step - loss: 8.5705e-04 - root_mean_squared_error: 0.0293\n",
            "Epoch 195/200\n",
            "57/57 [==============================] - 1s 17ms/step - loss: 8.5207e-04 - root_mean_squared_error: 0.0292\n",
            "Epoch 196/200\n",
            "57/57 [==============================] - 1s 17ms/step - loss: 8.6850e-04 - root_mean_squared_error: 0.0295\n",
            "Epoch 197/200\n",
            "57/57 [==============================] - 1s 17ms/step - loss: 8.4686e-04 - root_mean_squared_error: 0.0291\n",
            "Epoch 198/200\n",
            "57/57 [==============================] - 1s 16ms/step - loss: 8.8727e-04 - root_mean_squared_error: 0.0298\n",
            "Epoch 199/200\n",
            "57/57 [==============================] - 1s 16ms/step - loss: 8.2141e-04 - root_mean_squared_error: 0.0287\n",
            "Epoch 200/200\n",
            "57/57 [==============================] - 1s 17ms/step - loss: 7.9734e-04 - root_mean_squared_error: 0.0282\n"
          ]
        }
      ]
    },
    {
      "cell_type": "code",
      "source": [
        "y_en=ensemble_model.predict(X_test2)\n",
        "plt.scatter(y_en,y_test2)\n",
        "plt.show()"
      ],
      "metadata": {
        "id": "Y6bxKrR2FDJc",
        "colab": {
          "base_uri": "https://localhost:8080/",
          "height": 282
        },
        "outputId": "50ae3f2e-8121-4e8a-eae6-7a18245f3a34"
      },
      "execution_count": 64,
      "outputs": [
        {
          "output_type": "stream",
          "name": "stdout",
          "text": [
            "76/76 [==============================] - 2s 4ms/step\n"
          ]
        },
        {
          "output_type": "display_data",
          "data": {
            "text/plain": [
              "<Figure size 432x288 with 1 Axes>"
            ],
            "image/png": "[encoded data removed]"
          },
          "metadata": {
            "needs_background": "light"
          }
        }
      ]
    },
    {
      "cell_type": "code",
      "source": [
        "df_ = pd.DataFrame()\n",
        "df_['time']=[i for i in range(len(y_en))]\n",
        "df_['Actual']=y_test2\n",
        "df_['Predicted']=y_en"
      ],
      "metadata": {
        "id": "8SGphIb6GLGs"
      },
      "execution_count": 65,
      "outputs": []
    },
    {
      "cell_type": "code",
      "source": [
        "import matplotlib.pyplot as plt\n",
        "plt.plot(df_['time'],df_['Actual'])\n",
        "plt.plot(df_['time'],df_['Predicted'])\n",
        "plt.show()"
      ],
      "metadata": {
        "id": "je-XiD7zGVsj",
        "colab": {
          "base_uri": "https://localhost:8080/",
          "height": 265
        },
        "outputId": "bed02d9a-e95f-4cfb-f14e-422a1611e782"
      },
      "execution_count": 66,
      "outputs": [
        {
          "output_type": "display_data",
          "data": {
            "text/plain": [
              "<Figure size 432x288 with 1 Axes>"
            ],
            "image/png": "[encoded data removed]"
          },
          "metadata": {
            "needs_background": "light"
          }
        }
      ]
    }
  ]
}