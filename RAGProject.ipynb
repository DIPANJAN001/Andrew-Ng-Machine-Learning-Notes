{
  "nbformat": 4,
  "nbformat_minor": 0,
  "metadata": {
    "colab": {
      "provenance": [],
      "authorship_tag": "ABX9TyP4rQWhmeOvSdKV7W9zqQMx",
      "include_colab_link": true
    },
    "kernelspec": {
      "name": "python3",
      "display_name": "Python 3"
    },
    "language_info": {
      "name": "python"
    }
  },
  "cells": [
    {
      "cell_type": "markdown",
      "metadata": {
        "id": "view-in-github",
        "colab_type": "text"
      },
      "source": [
        "<a href=\"https://colab.research.google.com/github/DIPANJAN001/Andrew-Ng-Machine-Learning-Notes/blob/master/RAGProject.ipynb\" target=\"_parent\"><img src=\"https://colab.research.google.com/assets/colab-badge.svg\" alt=\"Open In Colab\"/></a>"
      ]
    },
    {
      "cell_type": "code",
      "execution_count": null,
      "metadata": {
        "id": "fDZ-o8RYo3hB"
      },
      "outputs": [],
      "source": [
        "import pandas as pd\n",
        "from sentence_transformers import SentenceTransformer, util\n",
        "from sklearn.metrics.pairwise import cosine_similarity\n",
        "\n",
        "# Load data (example)\n",
        "data = pd.read_csv('data.csv')\n",
        "\n",
        "# Fine-tune SentenceBERT (example)\n",
        "model = SentenceTransformer('paraphrase-MiniLM-L6-v2')\n",
        "queries = data['query'].tolist()\n",
        "passages = data['passage'].tolist()\n",
        "query_embeddings = model.encode(queries, convert_to_tensor=True)\n",
        "passage_embeddings = model.encode(passages, convert_to_tensor=True)\n",
        "\n",
        "# Function to retrieve top-k passages for a query using cosine similarity\n",
        "def retrieve_passages(query_embedding, passage_embeddings, k=3):\n",
        "    similarities = cosine_similarity(query_embedding, passage_embeddings)\n",
        "    top_indices = similarities.argsort()[0][-k:][::-1]\n",
        "    return [passages[i] for i in top_indices]\n",
        "\n",
        "# Example query\n",
        "query = \"What is the capital of France?\"\n",
        "\n",
        "# Retrieve top-k passages\n",
        "top_passages = retrieve_passages(model.encode(query, convert_to_tensor=True), passage_embeddings)\n",
        "\n",
        "# Question-answering pipeline (example)\n",
        "def answer_question(query, top_passages):\n",
        "    # Your QA model implementation goes here\n",
        "    # You may use libraries like Transformers, Hugging Face, or custom models\n",
        "    # For simplicity, we'll just return the first passage as the answer\n",
        "    return top_passages[0]\n",
        "\n",
        "# Get the answer\n",
        "answer = answer_question(query, top_passages)\n",
        "\n",
        "# Print the answer\n",
        "print(\"Query:\", query)\n",
        "print(\"Top Passages:\", top_passages)\n",
        "print(\"Answer:\", answer)"
      ]
    }
  ]
}