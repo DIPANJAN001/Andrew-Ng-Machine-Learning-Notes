{
  "nbformat": 4,
  "nbformat_minor": 0,
  "metadata": {
    "colab": {
      "provenance": [],
      "authorship_tag": "ABX9TyMZyX/0mfW9t03S9r0d1m0w",
      "include_colab_link": true
    },
    "kernelspec": {
      "name": "python3",
      "display_name": "Python 3"
    },
    "language_info": {
      "name": "python"
    }
  },
  "cells": [
    {
      "cell_type": "markdown",
      "metadata": {
        "id": "view-in-github",
        "colab_type": "text"
      },
      "source": [
        "<a href=\"https://colab.research.google.com/github/DIPANJAN001/Andrew-Ng-Machine-Learning-Notes/blob/master/Untitled52.ipynb\" target=\"_parent\"><img src=\"https://colab.research.google.com/assets/colab-badge.svg\" alt=\"Open In Colab\"/></a>"
      ]
    },
    {
      "cell_type": "code",
      "execution_count": null,
      "metadata": {
        "id": "Wz3U-nU6cylB"
      },
      "outputs": [],
      "source": [
        "import re\n",
        "import email\n",
        "import nltk\n",
        "from nltk.corpus import stopwords\n",
        "from nltk.stem import SnowballStemmer\n",
        "\n",
        "nltk.download('stopwords')\n",
        "\n",
        "# Sample email chain as a list of email text\n",
        "email_chain = [\n",
        "    \"From: sender@example.com\",\n",
        "    \"To: recipient@example.com\",\n",
        "    \"Subject: Re: Claim #12345\",\n",
        "    \"Date: Mon, 01 Jan 2023 14:00:00 +0000\",\n",
        "    \"Dear Customer,\",\n",
        "    \"Thank you for contacting us regarding your claim #12345.\",\n",
        "    \"Please provide us with more details about the incident and your policy number.\",\n",
        "    \"Best regards,\",\n",
        "    \"Insurance Company\",\n",
        "    \"> On 2023-01-01 10:30 AM, customer@example.com wrote:\",\n",
        "    \"> > Hi,\",\n",
        "    \"> > I had an accident last week. My policy number is 98765.\",\n",
        "    \"> > Regards,\",\n",
        "    \"> > John Doe\",\n",
        "]\n",
        "\n",
        "# Combine email chain into a single text\n",
        "email_text = \"\\n\".join(email_chain)\n",
        "\n",
        "# Function to clean and preprocess text\n",
        "def preprocess_text(text):\n",
        "    # Remove email headers and quoted text\n",
        "    cleaned_text = re.sub(r'From:.*?Sent:', '', text, flags=re.DOTALL)\n",
        "    cleaned_text = re.sub(r'On \\d{4}-\\d{2}-\\d{2}.*?wrote:', '', cleaned_text, flags=re.DOTALL)\n",
        "\n",
        "    # Convert to lowercase\n",
        "    cleaned_text = cleaned_text.lower()\n",
        "\n",
        "    # Remove special characters, punctuation, and numbers\n",
        "    cleaned_text = re.sub(r'[^a-z\\s]', '', cleaned_text)\n",
        "\n",
        "    # Tokenization\n",
        "    tokens = nltk.word_tokenize(cleaned_text)\n",
        "\n",
        "    # Remove stopwords\n",
        "    stop_words = set(stopwords.words('english'))\n",
        "    tokens = [word for word in tokens if word not in stop_words]\n",
        "\n",
        "    # Stemming (you can use lemmatization if preferred)\n",
        "    stemmer = SnowballStemmer('english')\n",
        "    tokens = [stemmer.stem(word) for word in tokens]\n",
        "\n",
        "    # Join tokens back into text\n",
        "    cleaned_text = ' '.join(tokens)\n",
        "\n",
        "    return cleaned_text\n",
        "\n",
        "# Clean and preprocess the email text\n",
        "cleaned_email_text = preprocess_text(email_text)\n",
        "\n",
        "# Chunking (divide the text into chunks, e.g., by paragraph or sentence)\n",
        "# In this example, we split by lines for simplicity\n",
        "chunks = cleaned_email_text.split('\\n')\n",
        "\n",
        "# Print cleaned and chunked email text\n",
        "for i, chunk in enumerate(chunks):\n",
        "    print(f\"Chunk {i + 1}:\\n{chunk}\\n\")\n"
      ]
    },
    {
      "cell_type": "code",
      "source": [],
      "metadata": {
        "id": "mv2J5C9Ic4JT"
      },
      "execution_count": null,
      "outputs": []
    }
  ]
}